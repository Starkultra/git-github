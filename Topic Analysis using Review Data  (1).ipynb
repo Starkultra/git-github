{
 "cells": [
  {
   "cell_type": "code",
   "execution_count": 1,
   "metadata": {},
   "outputs": [],
   "source": [
    "import numpy as np\n",
    "import pandas as pd\n",
    "import matplotlib.pyplot as plt\n",
    "import seaborn as sns\n",
    "import os\n",
    "import warnings\n",
    "warnings.filterwarnings('ignore')"
   ]
  },
  {
   "cell_type": "code",
   "execution_count": 2,
   "metadata": {},
   "outputs": [
    {
     "data": {
      "text/html": [
       "<div>\n",
       "<style scoped>\n",
       "    .dataframe tbody tr th:only-of-type {\n",
       "        vertical-align: middle;\n",
       "    }\n",
       "\n",
       "    .dataframe tbody tr th {\n",
       "        vertical-align: top;\n",
       "    }\n",
       "\n",
       "    .dataframe thead th {\n",
       "        text-align: right;\n",
       "    }\n",
       "</style>\n",
       "<table border=\"1\" class=\"dataframe\">\n",
       "  <thead>\n",
       "    <tr style=\"text-align: right;\">\n",
       "      <th></th>\n",
       "      <th>sentiment</th>\n",
       "      <th>review</th>\n",
       "    </tr>\n",
       "  </thead>\n",
       "  <tbody>\n",
       "    <tr>\n",
       "      <th>0</th>\n",
       "      <td>1</td>\n",
       "      <td>Good but need updates and improvements</td>\n",
       "    </tr>\n",
       "    <tr>\n",
       "      <th>1</th>\n",
       "      <td>0</td>\n",
       "      <td>Worst mobile i have bought ever, Battery is dr...</td>\n",
       "    </tr>\n",
       "    <tr>\n",
       "      <th>2</th>\n",
       "      <td>1</td>\n",
       "      <td>when I will get my 10% cash back.... its alrea...</td>\n",
       "    </tr>\n",
       "    <tr>\n",
       "      <th>3</th>\n",
       "      <td>1</td>\n",
       "      <td>Good</td>\n",
       "    </tr>\n",
       "    <tr>\n",
       "      <th>4</th>\n",
       "      <td>0</td>\n",
       "      <td>The worst phone everThey have changed the last...</td>\n",
       "    </tr>\n",
       "  </tbody>\n",
       "</table>\n",
       "</div>"
      ],
      "text/plain": [
       "   sentiment                                             review\n",
       "0          1             Good but need updates and improvements\n",
       "1          0  Worst mobile i have bought ever, Battery is dr...\n",
       "2          1  when I will get my 10% cash back.... its alrea...\n",
       "3          1                                               Good\n",
       "4          0  The worst phone everThey have changed the last..."
      ]
     },
     "execution_count": 2,
     "metadata": {},
     "output_type": "execute_result"
    }
   ],
   "source": [
    "os.chdir(r\"C:\\Users\\prasath\\Videos\\NLP PROJECT\\Review_data\")\n",
    "data=pd.read_csv(r\"C:\\Users\\prasath\\Videos\\NLP PROJECT\\Review_data\\Review.csv\")\n",
    "data.head()"
   ]
  },
  {
   "cell_type": "code",
   "execution_count": 3,
   "metadata": {},
   "outputs": [
    {
     "data": {
      "text/html": [
       "<div>\n",
       "<style scoped>\n",
       "    .dataframe tbody tr th:only-of-type {\n",
       "        vertical-align: middle;\n",
       "    }\n",
       "\n",
       "    .dataframe tbody tr th {\n",
       "        vertical-align: top;\n",
       "    }\n",
       "\n",
       "    .dataframe thead th {\n",
       "        text-align: right;\n",
       "    }\n",
       "</style>\n",
       "<table border=\"1\" class=\"dataframe\">\n",
       "  <thead>\n",
       "    <tr style=\"text-align: right;\">\n",
       "      <th></th>\n",
       "      <th>sentiment</th>\n",
       "      <th>review</th>\n",
       "    </tr>\n",
       "  </thead>\n",
       "  <tbody>\n",
       "    <tr>\n",
       "      <th>1</th>\n",
       "      <td>0</td>\n",
       "      <td>Worst mobile i have bought ever, Battery is dr...</td>\n",
       "    </tr>\n",
       "    <tr>\n",
       "      <th>4</th>\n",
       "      <td>0</td>\n",
       "      <td>The worst phone everThey have changed the last...</td>\n",
       "    </tr>\n",
       "    <tr>\n",
       "      <th>5</th>\n",
       "      <td>0</td>\n",
       "      <td>Only I'm telling don't buyI'm totally disappoi...</td>\n",
       "    </tr>\n",
       "    <tr>\n",
       "      <th>7</th>\n",
       "      <td>0</td>\n",
       "      <td>The battery level has worn down</td>\n",
       "    </tr>\n",
       "    <tr>\n",
       "      <th>8</th>\n",
       "      <td>0</td>\n",
       "      <td>It's over hitting problems...and phone hanging...</td>\n",
       "    </tr>\n",
       "  </tbody>\n",
       "</table>\n",
       "</div>"
      ],
      "text/plain": [
       "   sentiment                                             review\n",
       "1          0  Worst mobile i have bought ever, Battery is dr...\n",
       "4          0  The worst phone everThey have changed the last...\n",
       "5          0  Only I'm telling don't buyI'm totally disappoi...\n",
       "7          0                    The battery level has worn down\n",
       "8          0  It's over hitting problems...and phone hanging..."
      ]
     },
     "execution_count": 3,
     "metadata": {},
     "output_type": "execute_result"
    }
   ],
   "source": [
    "data[data.sentiment==0][:5]"
   ]
  },
  {
   "cell_type": "code",
   "execution_count": 4,
   "metadata": {},
   "outputs": [
    {
     "name": "stdout",
     "output_type": "stream",
     "text": [
      "<class 'pandas.core.frame.DataFrame'>\n",
      "RangeIndex: 14675 entries, 0 to 14674\n",
      "Data columns (total 2 columns):\n",
      " #   Column     Non-Null Count  Dtype \n",
      "---  ------     --------------  ----- \n",
      " 0   sentiment  14675 non-null  int64 \n",
      " 1   review     14675 non-null  object\n",
      "dtypes: int64(1), object(1)\n",
      "memory usage: 229.4+ KB\n"
     ]
    }
   ],
   "source": [
    "data.info()"
   ]
  },
  {
   "cell_type": "code",
   "execution_count": 5,
   "metadata": {},
   "outputs": [
    {
     "data": {
      "image/png": "[encoded data removed]",
      "text/plain": [
       "<Figure size 432x360 with 1 Axes>"
      ]
     },
     "metadata": {
      "needs_background": "light"
     },
     "output_type": "display_data"
    }
   ],
   "source": [
    "plt.figure(figsize=(6,5))\n",
    "ax=sns.countplot(x='sentiment',data=data)\n",
    "for p in ax.patches:\n",
    "    ax.annotate(p.get_height(),(p.get_x()+0.1,p.get_height()+50))"
   ]
  },
  {
   "cell_type": "code",
   "execution_count": 6,
   "metadata": {},
   "outputs": [
    {
     "data": {
      "text/plain": [
       "0    7712\n",
       "1    6963\n",
       "Name: sentiment, dtype: int64"
      ]
     },
     "execution_count": 6,
     "metadata": {},
     "output_type": "execute_result"
    }
   ],
   "source": [
    "review_volume=data['sentiment'].value_counts()\n",
    "review_volume"
   ]
  },
  {
   "cell_type": "code",
   "execution_count": 7,
   "metadata": {},
   "outputs": [
    {
     "data": {
      "text/plain": [
       "0    52.551959\n",
       "1    47.448041\n",
       "Name: sentiment, dtype: float64"
      ]
     },
     "execution_count": 7,
     "metadata": {},
     "output_type": "execute_result"
    }
   ],
   "source": [
    "(review_volume/data.shape[0])*100"
   ]
  },
  {
   "cell_type": "code",
   "execution_count": 8,
   "metadata": {},
   "outputs": [
    {
     "data": {
      "text/plain": [
       "(14675, 2)"
      ]
     },
     "execution_count": 8,
     "metadata": {},
     "output_type": "execute_result"
    }
   ],
   "source": [
    "data.shape"
   ]
  },
  {
   "cell_type": "code",
   "execution_count": 9,
   "metadata": {},
   "outputs": [
    {
     "data": {
      "text/html": [
       "<div>\n",
       "<style scoped>\n",
       "    .dataframe tbody tr th:only-of-type {\n",
       "        vertical-align: middle;\n",
       "    }\n",
       "\n",
       "    .dataframe tbody tr th {\n",
       "        vertical-align: top;\n",
       "    }\n",
       "\n",
       "    .dataframe thead th {\n",
       "        text-align: right;\n",
       "    }\n",
       "</style>\n",
       "<table border=\"1\" class=\"dataframe\">\n",
       "  <thead>\n",
       "    <tr style=\"text-align: right;\">\n",
       "      <th></th>\n",
       "      <th>sentiment</th>\n",
       "      <th>review</th>\n",
       "      <th>length</th>\n",
       "    </tr>\n",
       "  </thead>\n",
       "  <tbody>\n",
       "    <tr>\n",
       "      <th>0</th>\n",
       "      <td>1</td>\n",
       "      <td>Good but need updates and improvements</td>\n",
       "      <td>38</td>\n",
       "    </tr>\n",
       "    <tr>\n",
       "      <th>1</th>\n",
       "      <td>0</td>\n",
       "      <td>Worst mobile i have bought ever, Battery is dr...</td>\n",
       "      <td>475</td>\n",
       "    </tr>\n",
       "    <tr>\n",
       "      <th>2</th>\n",
       "      <td>1</td>\n",
       "      <td>when I will get my 10% cash back.... its alrea...</td>\n",
       "      <td>61</td>\n",
       "    </tr>\n",
       "    <tr>\n",
       "      <th>3</th>\n",
       "      <td>1</td>\n",
       "      <td>Good</td>\n",
       "      <td>4</td>\n",
       "    </tr>\n",
       "    <tr>\n",
       "      <th>4</th>\n",
       "      <td>0</td>\n",
       "      <td>The worst phone everThey have changed the last...</td>\n",
       "      <td>156</td>\n",
       "    </tr>\n",
       "  </tbody>\n",
       "</table>\n",
       "</div>"
      ],
      "text/plain": [
       "   sentiment                                             review  length\n",
       "0          1             Good but need updates and improvements      38\n",
       "1          0  Worst mobile i have bought ever, Battery is dr...     475\n",
       "2          1  when I will get my 10% cash back.... its alrea...      61\n",
       "3          1                                               Good       4\n",
       "4          0  The worst phone everThey have changed the last...     156"
      ]
     },
     "execution_count": 9,
     "metadata": {},
     "output_type": "execute_result"
    }
   ],
   "source": [
    "data['length']=data.review.apply(len)\n",
    "data.head()"
   ]
  },
  {
   "cell_type": "code",
   "execution_count": 10,
   "metadata": {},
   "outputs": [
    {
     "data": {
      "text/html": [
       "<div>\n",
       "<style scoped>\n",
       "    .dataframe tbody tr th:only-of-type {\n",
       "        vertical-align: middle;\n",
       "    }\n",
       "\n",
       "    .dataframe tbody tr th {\n",
       "        vertical-align: top;\n",
       "    }\n",
       "\n",
       "    .dataframe thead th {\n",
       "        text-align: right;\n",
       "    }\n",
       "</style>\n",
       "<table border=\"1\" class=\"dataframe\">\n",
       "  <thead>\n",
       "    <tr style=\"text-align: right;\">\n",
       "      <th></th>\n",
       "      <th>sentiment</th>\n",
       "      <th>review</th>\n",
       "      <th>length</th>\n",
       "    </tr>\n",
       "  </thead>\n",
       "  <tbody>\n",
       "    <tr>\n",
       "      <th>1</th>\n",
       "      <td>0</td>\n",
       "      <td>Worst mobile i have bought ever, Battery is dr...</td>\n",
       "      <td>475</td>\n",
       "    </tr>\n",
       "    <tr>\n",
       "      <th>4</th>\n",
       "      <td>0</td>\n",
       "      <td>The worst phone everThey have changed the last...</td>\n",
       "      <td>156</td>\n",
       "    </tr>\n",
       "    <tr>\n",
       "      <th>6</th>\n",
       "      <td>1</td>\n",
       "      <td>Phone is awesome. But while charging, it heats...</td>\n",
       "      <td>103</td>\n",
       "    </tr>\n",
       "    <tr>\n",
       "      <th>8</th>\n",
       "      <td>0</td>\n",
       "      <td>It's over hitting problems...and phone hanging...</td>\n",
       "      <td>177</td>\n",
       "    </tr>\n",
       "    <tr>\n",
       "      <th>13</th>\n",
       "      <td>0</td>\n",
       "      <td>I have faced the battery problem and motherboa...</td>\n",
       "      <td>111</td>\n",
       "    </tr>\n",
       "    <tr>\n",
       "      <th>...</th>\n",
       "      <td>...</td>\n",
       "      <td>...</td>\n",
       "      <td>...</td>\n",
       "    </tr>\n",
       "    <tr>\n",
       "      <th>14658</th>\n",
       "      <td>1</td>\n",
       "      <td>My first expression was oh , it's killer note ...</td>\n",
       "      <td>233</td>\n",
       "    </tr>\n",
       "    <tr>\n",
       "      <th>14660</th>\n",
       "      <td>0</td>\n",
       "      <td>My new K8 note first impression is very bad.al...</td>\n",
       "      <td>156</td>\n",
       "    </tr>\n",
       "    <tr>\n",
       "      <th>14662</th>\n",
       "      <td>0</td>\n",
       "      <td>I am facing problem when incoming calls no num...</td>\n",
       "      <td>174</td>\n",
       "    </tr>\n",
       "    <tr>\n",
       "      <th>14666</th>\n",
       "      <td>0</td>\n",
       "      <td>I am facing problem with network connection.Wh...</td>\n",
       "      <td>278</td>\n",
       "    </tr>\n",
       "    <tr>\n",
       "      <th>14671</th>\n",
       "      <td>1</td>\n",
       "      <td>The Lenovo K8 Note is awesome. It takes best p...</td>\n",
       "      <td>246</td>\n",
       "    </tr>\n",
       "  </tbody>\n",
       "</table>\n",
       "<p>4961 rows × 3 columns</p>\n",
       "</div>"
      ],
      "text/plain": [
       "       sentiment                                             review  length\n",
       "1              0  Worst mobile i have bought ever, Battery is dr...     475\n",
       "4              0  The worst phone everThey have changed the last...     156\n",
       "6              1  Phone is awesome. But while charging, it heats...     103\n",
       "8              0  It's over hitting problems...and phone hanging...     177\n",
       "13             0  I have faced the battery problem and motherboa...     111\n",
       "...          ...                                                ...     ...\n",
       "14658          1  My first expression was oh , it's killer note ...     233\n",
       "14660          0  My new K8 note first impression is very bad.al...     156\n",
       "14662          0  I am facing problem when incoming calls no num...     174\n",
       "14666          0  I am facing problem with network connection.Wh...     278\n",
       "14671          1  The Lenovo K8 Note is awesome. It takes best p...     246\n",
       "\n",
       "[4961 rows x 3 columns]"
      ]
     },
     "execution_count": 10,
     "metadata": {},
     "output_type": "execute_result"
    }
   ],
   "source": [
    "data[data.length>100]"
   ]
  },
  {
   "cell_type": "code",
   "execution_count": 11,
   "metadata": {},
   "outputs": [
    {
     "data": {
      "text/plain": [
       "<matplotlib.axes._subplots.AxesSubplot at 0x16c77081148>"
      ]
     },
     "execution_count": 11,
     "metadata": {},
     "output_type": "execute_result"
    },
    {
     "data": {
      "image/png": "[encoded data removed]",
      "text/plain": [
       "<Figure size 432x288 with 1 Axes>"
      ]
     },
     "metadata": {},
     "output_type": "display_data"
    }
   ],
   "source": [
    "data[data.length>100].groupby('sentiment').review.count().plot(kind='pie')"
   ]
  },
  {
   "cell_type": "code",
   "execution_count": 12,
   "metadata": {},
   "outputs": [
    {
     "data": {
      "image/png": "[encoded data removed]",
      "text/plain": [
       "<Figure size 432x288 with 1 Axes>"
      ]
     },
     "metadata": {
      "needs_background": "light"
     },
     "output_type": "display_data"
    }
   ],
   "source": [
    "sns.distplot(data[data.sentiment==1].length,color='green',bins=50)\n",
    "sns.distplot(data[data.sentiment==0].length,color='red',bins=50)\n",
    "plt.show()"
   ]
  },
  {
   "cell_type": "code",
   "execution_count": 13,
   "metadata": {},
   "outputs": [
    {
     "name": "stdout",
     "output_type": "stream",
     "text": [
      "The mean remark of positive review is 66.79118196179807\n",
      "And negative review is 154.95733921161826\n"
     ]
    }
   ],
   "source": [
    "print(\"The mean remark of positive review is {}\\nAnd negative review is {}\".\n",
    "      format(data[data.sentiment==1].length.mean(),\n",
    "             data[data.sentiment==0].length.mean()))"
   ]
  },
  {
   "cell_type": "code",
   "execution_count": 14,
   "metadata": {},
   "outputs": [],
   "source": [
    "import nltk"
   ]
  },
  {
   "cell_type": "code",
   "execution_count": 15,
   "metadata": {},
   "outputs": [
    {
     "data": {
      "text/plain": [
       "'Good but need updates and improvements'"
      ]
     },
     "execution_count": 15,
     "metadata": {},
     "output_type": "execute_result"
    }
   ],
   "source": [
    "data.review.values[0]"
   ]
  },
  {
   "cell_type": "code",
   "execution_count": 16,
   "metadata": {},
   "outputs": [],
   "source": [
    "tokenized_word=[]\n",
    "for text in list(data.review.values):\n",
    "    tokenized_word.append(nltk.word_tokenize(text))"
   ]
  },
  {
   "cell_type": "code",
   "execution_count": 17,
   "metadata": {},
   "outputs": [
    {
     "data": {
      "text/plain": [
       "['Good', 'but', 'need', 'updates', 'and', 'improvements']"
      ]
     },
     "execution_count": 17,
     "metadata": {},
     "output_type": "execute_result"
    }
   ],
   "source": [
    "tokenized_word[0]"
   ]
  },
  {
   "cell_type": "markdown",
   "metadata": {},
   "source": [
    "### POS Tagging "
   ]
  },
  {
   "cell_type": "code",
   "execution_count": 18,
   "metadata": {},
   "outputs": [],
   "source": [
    "pos_tag=[]\n",
    "for text in tokenized_word:\n",
    "    pos_tag.append(nltk.pos_tag(text))"
   ]
  },
  {
   "cell_type": "code",
   "execution_count": 19,
   "metadata": {},
   "outputs": [
    {
     "data": {
      "text/plain": [
       "[('Good', 'JJ'),\n",
       " ('but', 'CC'),\n",
       " ('need', 'VBP'),\n",
       " ('updates', 'NNS'),\n",
       " ('and', 'CC'),\n",
       " ('improvements', 'NNS')]"
      ]
     },
     "execution_count": 19,
     "metadata": {},
     "output_type": "execute_result"
    }
   ],
   "source": [
    "pos_tag[0]"
   ]
  },
  {
   "cell_type": "code",
   "execution_count": 20,
   "metadata": {},
   "outputs": [
    {
     "name": "stdout",
     "output_type": "stream",
     "text": [
      "[('Worst', 'NNP'), ('mobile', 'NN'), ('i', 'NN'), ('have', 'VBP'), ('bought', 'VBN'), ('ever', 'RB'), (',', ','), ('Battery', 'NNP'), ('is', 'VBZ'), ('draining', 'VBG'), ('like', 'IN'), ('hell', 'NN'), (',', ','), ('backup', 'NN'), ('is', 'VBZ'), ('only', 'RB'), ('6', 'CD'), ('to', 'TO'), ('7', 'CD'), ('hours', 'NNS'), ('with', 'IN'), ('internet', 'JJ'), ('uses', 'NNS'), (',', ','), ('even', 'RB'), ('if', 'IN'), ('I', 'PRP'), ('put', 'VBP'), ('mobile', 'JJ'), ('idle', 'NN'), ('its', 'PRP$'), ('getting', 'VBG'), ('discharged.This', 'NN'), ('is', 'VBZ'), ('biggest', 'JJS'), ('lie', 'NN'), ('from', 'IN'), ('Amazon', 'NNP'), ('&', 'CC'), ('Lenove', 'NNP'), ('which', 'WDT'), ('is', 'VBZ'), ('not', 'RB'), ('at', 'IN'), ('all', 'DT'), ('expected', 'VBN'), (',', ','), ('they', 'PRP'), ('are', 'VBP'), ('making', 'VBG'), ('full', 'JJ'), ('by', 'IN'), ('saying', 'VBG'), ('that', 'DT'), ('battery', 'NN'), ('is', 'VBZ'), ('4000MAH', 'CD'), ('&', 'CC'), ('booster', 'JJR'), ('charger', 'NN'), ('is', 'VBZ'), ('fake', 'JJ'), (',', ','), ('it', 'PRP'), ('takes', 'VBZ'), ('at', 'IN'), ('least', 'JJS'), ('4', 'CD'), ('to', 'TO'), ('5', 'CD'), ('hours', 'NNS'), ('to', 'TO'), ('be', 'VB'), ('fully', 'RB'), ('charged.Do', 'VBP'), (\"n't\", 'RB'), ('know', 'VB'), ('how', 'WRB'), ('Lenovo', 'NNP'), ('will', 'MD'), ('survive', 'VB'), ('by', 'IN'), ('making', 'VBG'), ('full', 'JJ'), ('of', 'IN'), ('us.Please', 'JJ'), ('don', 'NN'), (';', ':'), ('t', 'CC'), ('go', 'VB'), ('for', 'IN'), ('this', 'DT'), ('else', 'JJ'), ('you', 'PRP'), ('will', 'MD'), ('regret', 'VB'), ('like', 'IN'), ('me', 'PRP'), ('.', '.')]\n"
     ]
    }
   ],
   "source": [
    "print(pos_tag[1])"
   ]
  },
  {
   "cell_type": "markdown",
   "metadata": {},
   "source": [
    "###  POS tags that correspond to nouns"
   ]
  },
  {
   "cell_type": "code",
   "execution_count": 21,
   "metadata": {},
   "outputs": [],
   "source": [
    "only_Noun=[]\n",
    "for pos_tagged_comment in pos_tag:\n",
    "    only_Noun.append([word for (word,pos) in pos_tagged_comment if pos[0] =='N'])"
   ]
  },
  {
   "cell_type": "code",
   "execution_count": 22,
   "metadata": {},
   "outputs": [
    {
     "name": "stdout",
     "output_type": "stream",
     "text": [
      "['Worst', 'mobile', 'i', 'Battery', 'hell', 'backup', 'hours', 'uses', 'idle', 'discharged.This', 'lie', 'Amazon', 'Lenove', 'battery', 'charger', 'hours', 'Lenovo', 'don']\n"
     ]
    }
   ],
   "source": [
    "print(only_Noun[1])"
   ]
  },
  {
   "cell_type": "code",
   "execution_count": 23,
   "metadata": {},
   "outputs": [
    {
     "name": "stdout",
     "output_type": "stream",
     "text": [
      "Requirement already satisfied: TextBlob in c:\\users\\prasath\\anaconda3\\lib\\site-packages (0.15.3)\n",
      "Requirement already satisfied: nltk>=3.1 in c:\\users\\prasath\\anaconda3\\lib\\site-packages (from TextBlob) (3.4.5)\n",
      "Requirement already satisfied: six in c:\\users\\prasath\\anaconda3\\lib\\site-packages (from nltk>=3.1->TextBlob) (1.14.0)\n"
     ]
    }
   ],
   "source": [
    "!pip install TextBlob"
   ]
  },
  {
   "cell_type": "markdown",
   "metadata": {},
   "source": [
    "### Using TextBlob"
   ]
  },
  {
   "cell_type": "code",
   "execution_count": 24,
   "metadata": {},
   "outputs": [
    {
     "name": "stdout",
     "output_type": "stream",
     "text": [
      "Wall time: 1min 25s\n"
     ]
    }
   ],
   "source": [
    "%%time\n",
    "from textblob import TextBlob\n",
    "posList=[]\n",
    "for text in data.review:\n",
    "    blob=TextBlob(text)\n",
    "    posList.append(blob.pos_tags)"
   ]
  },
  {
   "cell_type": "code",
   "execution_count": 25,
   "metadata": {},
   "outputs": [
    {
     "data": {
      "text/plain": [
       "[('Good', 'JJ'),\n",
       " ('but', 'CC'),\n",
       " ('need', 'VBP'),\n",
       " ('updates', 'NNS'),\n",
       " ('and', 'CC'),\n",
       " ('improvements', 'NNS')]"
      ]
     },
     "execution_count": 25,
     "metadata": {},
     "output_type": "execute_result"
    }
   ],
   "source": [
    "posList[0]"
   ]
  },
  {
   "cell_type": "code",
   "execution_count": 26,
   "metadata": {},
   "outputs": [
    {
     "name": "stdout",
     "output_type": "stream",
     "text": [
      "Wall time: 24.4 s\n"
     ]
    }
   ],
   "source": [
    "%%time\n",
    "from textblob import TextBlob\n",
    "nounPhrasesList=[]\n",
    "for text in data.review:\n",
    "    blob=TextBlob(text)\n",
    "    nounPhrasesList.append(blob.noun_phrases)"
   ]
  },
  {
   "cell_type": "code",
   "execution_count": 27,
   "metadata": {},
   "outputs": [
    {
     "data": {
      "text/plain": [
       "WordList(['worst', 'mobile i', 'battery', 'internet uses', 'amazon', 'lenove', 'booster charger', \"charged.do n't\", 'lenovo', 'us.please don'])"
      ]
     },
     "execution_count": 27,
     "metadata": {},
     "output_type": "execute_result"
    }
   ],
   "source": [
    "nounPhrasesList[1]"
   ]
  },
  {
   "cell_type": "markdown",
   "metadata": {},
   "source": [
    "### Lematization"
   ]
  },
  {
   "cell_type": "code",
   "execution_count": 28,
   "metadata": {},
   "outputs": [],
   "source": [
    "from nltk.stem import WordNetLemmatizer\n",
    "lemmatizer=WordNetLemmatizer()"
   ]
  },
  {
   "cell_type": "code",
   "execution_count": 29,
   "metadata": {},
   "outputs": [],
   "source": [
    "lemmaNet=[]\n",
    "for terms in only_Noun:\n",
    "    lemmaNet.append([lemmatizer.lemmatize(word) for word in terms])"
   ]
  },
  {
   "cell_type": "code",
   "execution_count": 30,
   "metadata": {},
   "outputs": [
    {
     "name": "stdout",
     "output_type": "stream",
     "text": [
      "['Worst', 'mobile', 'i', 'Battery', 'hell', 'backup', 'hour', 'us', 'idle', 'discharged.This', 'lie', 'Amazon', 'Lenove', 'battery', 'charger', 'hour', 'Lenovo', 'don']\n"
     ]
    }
   ],
   "source": [
    "print(lemmaNet[1])"
   ]
  },
  {
   "cell_type": "markdown",
   "metadata": {},
   "source": [
    "### Remove stopwords and punctuation"
   ]
  },
  {
   "cell_type": "code",
   "execution_count": 31,
   "metadata": {},
   "outputs": [],
   "source": [
    "import string\n",
    "from nltk.corpus import stopwords"
   ]
  },
  {
   "cell_type": "code",
   "execution_count": 32,
   "metadata": {},
   "outputs": [],
   "source": [
    "def cleanup_text(msg):\n",
    "    processed_msg=[]\n",
    "    for words in msg:\n",
    "        no_punc=[char for char in words if char not in string.punctuation]\n",
    "        no_punc=\"\".join(no_punc)\n",
    "        if len(no_punc)>0:\n",
    "            processed_msg.append(no_punc)\n",
    "    return [word for word in processed_msg if word.lower() not in stopwords.words(\"english\")]"
   ]
  },
  {
   "cell_type": "code",
   "execution_count": 33,
   "metadata": {},
   "outputs": [],
   "source": [
    "extracted_data=[]\n",
    "for text in lemmaNet:\n",
    "    extracted_data.append(cleanup_text(text))"
   ]
  },
  {
   "cell_type": "code",
   "execution_count": 34,
   "metadata": {},
   "outputs": [
    {
     "name": "stdout",
     "output_type": "stream",
     "text": [
      "['Worst', 'mobile', 'Battery', 'hell', 'backup', 'hour', 'us', 'idle', 'dischargedThis', 'lie', 'Amazon', 'Lenove', 'battery', 'charger', 'hour', 'Lenovo']\n"
     ]
    }
   ],
   "source": [
    "print(extracted_data[1])"
   ]
  },
  {
   "cell_type": "markdown",
   "metadata": {},
   "source": [
    "### LDA Model"
   ]
  },
  {
   "cell_type": "code",
   "execution_count": 35,
   "metadata": {},
   "outputs": [],
   "source": [
    "import gensim\n",
    "dictionary=gensim.corpora.Dictionary(extracted_data)"
   ]
  },
  {
   "cell_type": "code",
   "execution_count": 36,
   "metadata": {},
   "outputs": [
    {
     "name": "stdout",
     "output_type": "stream",
     "text": [
      "0 improvement\n",
      "1 update\n",
      "2 Amazon\n",
      "3 Battery\n",
      "4 Lenove\n",
      "5 Lenovo\n",
      "6 Worst\n",
      "7 backup\n",
      "8 battery\n",
      "9 charger\n",
      "10 dischargedThis\n"
     ]
    }
   ],
   "source": [
    "count=0\n",
    "for k,v in dictionary.iteritems():\n",
    "    print(k,v)\n",
    "    count+=1\n",
    "    if count >10:\n",
    "        break"
   ]
  },
  {
   "cell_type": "code",
   "execution_count": 37,
   "metadata": {},
   "outputs": [
    {
     "name": "stdout",
     "output_type": "stream",
     "text": [
      "Word 18 (\"cash\") appears 2 time in document#100.\n",
      "Word 203 (\"Product\") appears 1 time in document#100.\n",
      "Word 271 (\"backlol\") appears 1 time in document#100.\n",
      "Word 272 (\"fool\") appears 1 time in document#100.\n",
      "Word 273 (\"way\") appears 1 time in document#100.\n"
     ]
    }
   ],
   "source": [
    "bow_corpus=[dictionary.doc2bow(doc) for doc in extracted_data]\n",
    "doc_num=100\n",
    "bow_doc_x=bow_corpus[doc_num]\n",
    "for i in range(len(bow_doc_x)):\n",
    "    print(\"Word {} (\\\"{}\\\") appears {} time in document#100.\".format(bow_doc_x[i][0],\n",
    "                                                     dictionary[bow_doc_x[i][0]],\n",
    "                                                     bow_doc_x[i][1]))"
   ]
  },
  {
   "cell_type": "code",
   "execution_count": 38,
   "metadata": {},
   "outputs": [
    {
     "data": {
      "text/plain": [
       "14675"
      ]
     },
     "execution_count": 38,
     "metadata": {},
     "output_type": "execute_result"
    }
   ],
   "source": [
    "len(bow_corpus)"
   ]
  },
  {
   "cell_type": "markdown",
   "metadata": {},
   "source": [
    "### Create LDA Topic Modelling  "
   ]
  },
  {
   "cell_type": "code",
   "execution_count": 39,
   "metadata": {},
   "outputs": [],
   "source": [
    "import gensim \n",
    "lda_model=gensim.models.LdaMulticore(bow_corpus,\n",
    "                                    num_topics=12,\n",
    "                                    id2word=dictionary,\n",
    "                                    passes=10,\n",
    "                                    workers=2)"
   ]
  },
  {
   "cell_type": "code",
   "execution_count": 40,
   "metadata": {},
   "outputs": [
    {
     "name": "stdout",
     "output_type": "stream",
     "text": [
      "Topics : 0 \n",
      " Words : 0.126*\"money\" + 0.099*\"Nice\" + 0.041*\"waste\" + 0.037*\"speaker\" + 0.028*\"value\" + 0.019*\"Value\" + 0.019*\"Waste\" + 0.013*\"work\" + 0.011*\"plz\" + 0.010*\"sound\" \n",
      "\n",
      "\n",
      "Topics : 1 \n",
      " Words : 0.169*\"mobile\" + 0.034*\"screen\" + 0.022*\"glass\" + 0.019*\"Lenovo\" + 0.018*\"Bad\" + 0.017*\"phone\" + 0.016*\"note\" + 0.015*\"feature\" + 0.009*\"lenovo\" + 0.009*\"day\" \n",
      "\n",
      "\n",
      "Topics : 2 \n",
      " Words : 0.083*\"note\" + 0.074*\"Lenovo\" + 0.051*\"k8\" + 0.029*\"Phone\" + 0.025*\"h\" + 0.018*\"hai\" + 0.012*\"K8\" + 0.010*\"ho\" + 0.010*\"PHONE\" + 0.008*\"superb\" \n",
      "\n",
      "\n",
      "Topics : 3 \n",
      " Words : 0.115*\"camera\" + 0.042*\"phone\" + 0.033*\"quality\" + 0.017*\"feature\" + 0.016*\"device\" + 0.016*\"battery\" + 0.012*\"processor\" + 0.012*\"mode\" + 0.011*\"performance\" + 0.011*\"Camera\" \n",
      "\n",
      "\n",
      "Topics : 4 \n",
      " Words : 0.115*\"battery\" + 0.077*\"phone\" + 0.041*\"Battery\" + 0.036*\"day\" + 0.033*\"backup\" + 0.031*\"hour\" + 0.025*\"issue\" + 0.021*\"Awesome\" + 0.018*\"time\" + 0.017*\"life\" \n",
      "\n",
      "\n",
      "Topics : 5 \n",
      " Words : 0.228*\"problem\" + 0.065*\"Mobile\" + 0.057*\"heating\" + 0.029*\"handset\" + 0.023*\"Super\" + 0.019*\"battery\" + 0.017*\"heat\" + 0.014*\"network\" + 0.011*\"time\" + 0.010*\"connection\" \n",
      "\n",
      "\n",
      "Topics : 6 \n",
      " Words : 0.057*\"phone\" + 0.042*\"call\" + 0.036*\"network\" + 0.027*\"issue\" + 0.027*\"performance\" + 0.021*\"Product\" + 0.021*\"sim\" + 0.017*\"Lenovo\" + 0.016*\"K8\" + 0.013*\"Note\" \n",
      "\n",
      "\n",
      "Topics : 7 \n",
      " Words : 0.074*\"phone\" + 0.037*\"camera\" + 0.017*\"Lenovo\" + 0.017*\"note\" + 0.015*\"screen\" + 0.013*\"day\" + 0.011*\"feature\" + 0.011*\"price\" + 0.011*\"quality\" + 0.010*\"service\" \n",
      "\n",
      "\n",
      "Topics : 8 \n",
      " Words : 0.046*\"phone\" + 0.023*\"feature\" + 0.023*\"headphone\" + 0.016*\"button\" + 0.015*\"volume\" + 0.014*\"Lenovo\" + 0.012*\"music\" + 0.010*\"Ok\" + 0.010*\"key\" + 0.010*\"device\" \n",
      "\n",
      "\n",
      "Topics : 9 \n",
      " Words : 0.121*\"quality\" + 0.075*\"Camera\" + 0.029*\"Poor\" + 0.023*\"Superb\" + 0.020*\"smartphone\" + 0.019*\"camera\" + 0.019*\"display\" + 0.016*\"performance\" + 0.014*\"expectation\" + 0.013*\"Battery\" \n",
      "\n",
      "\n",
      "Topics : 10 \n",
      " Words : 0.045*\"phone\" + 0.038*\"charger\" + 0.032*\"Great\" + 0.019*\"Lenovo\" + 0.018*\"Bluetooth\" + 0.017*\"Dolby\" + 0.016*\"box\" + 0.013*\"Good\" + 0.013*\"Phone\" + 0.012*\"Charger\" \n",
      "\n",
      "\n",
      "Topics : 11 \n",
      " Words : 0.185*\"phone\" + 0.133*\"product\" + 0.038*\"price\" + 0.035*\"Amazon\" + 0.029*\"issue\" + 0.022*\"time\" + 0.022*\"Nice\" + 0.021*\"service\" + 0.017*\"Worst\" + 0.013*\"range\" \n",
      "\n",
      "\n"
     ]
    }
   ],
   "source": [
    "for idx,topic in lda_model.print_topics(-1):\n",
    "    print(\"Topics : {} \\n Words : {} \".format(idx,topic))\n",
    "    print(\"\\n\")"
   ]
  },
  {
   "cell_type": "code",
   "execution_count": 41,
   "metadata": {},
   "outputs": [
    {
     "name": "stdout",
     "output_type": "stream",
     "text": [
      "Coherence_Score :  0.49603971320699597\n"
     ]
    }
   ],
   "source": [
    "from gensim.models import CoherenceModel\n",
    "coherence_model_lda=CoherenceModel(model=lda_model,texts=extracted_data,dictionary=dictionary)\n",
    "coherence_lda=coherence_model_lda.get_coherence()\n",
    "print(\"Coherence_Score : \",coherence_lda)"
   ]
  },
  {
   "cell_type": "code",
   "execution_count": 63,
   "metadata": {},
   "outputs": [],
   "source": [
    "def compute_coherence_values(corpus,texts,dictionary,k,a,b):\n",
    "    lda_model=gensim.models.LdaMulticore(corpus=corpus,\n",
    "                                        id2word=dictionary,\n",
    "                                        num_topics=k,\n",
    "                                        random_state=100,\n",
    "                                        chunksize=100,\n",
    "                                        passes=10,\n",
    "                                        alpha=a,\n",
    "                                        eta=b,\n",
    "                                        per_word_topics=True)\n",
    "    coherence_model_lda=CoherenceModel(model=lda_model,texts=texts,dictionary=dictionary,coherence='c_v')\n",
    "    return coherence_model_lda.get_coherence()"
   ]
  },
  {
   "cell_type": "code",
   "execution_count": 64,
   "metadata": {},
   "outputs": [],
   "source": [
    "#from gensim.models import CoherenceModel\n",
    "#coherence_model_lda=CoherenceModel(model=lda_model,texts=extracted_data,dictionary=dictionary)\n",
    "#coherence_lda=coherence_model_lda.get_coherence()\n",
    "#print(\"\\n Coherence_Score : \",coherence_lda)"
   ]
  },
  {
   "cell_type": "code",
   "execution_count": 65,
   "metadata": {},
   "outputs": [
    {
     "data": {
      "text/plain": [
       "(14675, 14675)"
      ]
     },
     "execution_count": 65,
     "metadata": {},
     "output_type": "execute_result"
    }
   ],
   "source": [
    "len(extracted_data),len(bow_corpus)"
   ]
  },
  {
   "cell_type": "code",
   "execution_count": 66,
   "metadata": {},
   "outputs": [],
   "source": [
    "import numpy as np\n",
    "import tqdm\n",
    "grid = {}\n",
    "grid['Validation_Set'] = {}\n",
    "# Topics range\n",
    "min_topics = 3\n",
    "max_topics = 19\n",
    "step_size = 3\n",
    "topics_range = range(min_topics, max_topics, step_size)\n",
    "# Alpha parameter\n",
    "alpha = list(np.arange(0.01, 1, 0.3))\n",
    "#alpha.append('symmetric')\n",
    "#alpha.append('asymmetric')\n",
    "# Beta parameter\n",
    "beta = list(np.arange(0.01, 1, 0.3))\n",
    "#beta.append('symmetric')\n",
    "# Validation sets\n",
    "num_of_docs = len(bow_corpus)\n",
    "corpus_sets = [gensim.utils.ClippedCorpus(bow_corpus, num_of_docs*0.75).corpus,bow_corpus]"
   ]
  },
  {
   "cell_type": "code",
   "execution_count": 67,
   "metadata": {},
   "outputs": [
    {
     "data": {
      "text/plain": [
       "0.56504826332648"
      ]
     },
     "execution_count": 67,
     "metadata": {},
     "output_type": "execute_result"
    }
   ],
   "source": [
    "compute_coherence_values(bow_corpus,extracted_data,dictionary,5,0.1,3)"
   ]
  },
  {
   "cell_type": "code",
   "execution_count": 68,
   "metadata": {},
   "outputs": [
    {
     "name": "stderr",
     "output_type": "stream",
     "text": [
      " 10%|████████▎                                                                          | 1/10 [01:23<12:31, 83.48s/it]"
     ]
    },
    {
     "name": "stdout",
     "output_type": "stream",
     "text": [
      "i is 0, k is 3, a is 0.01, b is 0.01 and final cv is 0.47294860852039317\n"
     ]
    },
    {
     "name": "stderr",
     "output_type": "stream",
     "text": [
      " 20%|████████████████▌                                                                  | 2/10 [02:32<10:33, 79.16s/it]"
     ]
    },
    {
     "name": "stdout",
     "output_type": "stream",
     "text": [
      "i is 0, k is 3, a is 0.01, b is 0.31 and final cv is 0.47021773965471353\n"
     ]
    },
    {
     "name": "stderr",
     "output_type": "stream",
     "text": [
      " 30%|████████████████████████▉                                                          | 3/10 [04:23<10:20, 88.68s/it]"
     ]
    },
    {
     "name": "stdout",
     "output_type": "stream",
     "text": [
      "i is 0, k is 3, a is 0.01, b is 0.61 and final cv is 0.4290895195066262\n"
     ]
    },
    {
     "name": "stderr",
     "output_type": "stream",
     "text": [
      " 40%|█████████████████████████████████▏                                                 | 4/10 [05:24<08:02, 80.37s/it]"
     ]
    },
    {
     "name": "stdout",
     "output_type": "stream",
     "text": [
      "i is 0, k is 3, a is 0.01, b is 0.9099999999999999 and final cv is 0.45568760821160853\n"
     ]
    },
    {
     "name": "stderr",
     "output_type": "stream",
     "text": [
      " 50%|█████████████████████████████████████████▌                                         | 5/10 [06:30<06:20, 76.18s/it]"
     ]
    },
    {
     "name": "stdout",
     "output_type": "stream",
     "text": [
      "i is 0, k is 3, a is 0.31, b is 0.01 and final cv is 0.5095209602863751\n"
     ]
    },
    {
     "name": "stderr",
     "output_type": "stream",
     "text": [
      " 60%|█████████████████████████████████████████████████▊                                 | 6/10 [08:37<06:04, 91.25s/it]"
     ]
    },
    {
     "name": "stdout",
     "output_type": "stream",
     "text": [
      "i is 0, k is 3, a is 0.31, b is 0.31 and final cv is 0.48888098267484725\n"
     ]
    },
    {
     "name": "stderr",
     "output_type": "stream",
     "text": [
      " 70%|█████████████████████████████████████████████████████████▍                        | 7/10 [10:52<05:13, 104.35s/it]"
     ]
    },
    {
     "name": "stdout",
     "output_type": "stream",
     "text": [
      "i is 0, k is 3, a is 0.31, b is 0.61 and final cv is 0.5231205144884373\n"
     ]
    },
    {
     "name": "stderr",
     "output_type": "stream",
     "text": [
      " 80%|█████████████████████████████████████████████████████████████████▌                | 8/10 [13:16<03:52, 116.47s/it]"
     ]
    },
    {
     "name": "stdout",
     "output_type": "stream",
     "text": [
      "i is 0, k is 3, a is 0.31, b is 0.9099999999999999 and final cv is 0.49591960989548484\n"
     ]
    },
    {
     "name": "stderr",
     "output_type": "stream",
     "text": [
      " 90%|█████████████████████████████████████████████████████████████████████████▊        | 9/10 [15:06<01:54, 114.54s/it]"
     ]
    },
    {
     "name": "stdout",
     "output_type": "stream",
     "text": [
      "i is 0, k is 3, a is 0.61, b is 0.01 and final cv is 0.5047025059940521\n"
     ]
    },
    {
     "name": "stderr",
     "output_type": "stream",
     "text": [
      "100%|█████████████████████████████████████████████████████████████████████████████████| 10/10 [17:08<00:00, 116.56s/it]"
     ]
    },
    {
     "name": "stdout",
     "output_type": "stream",
     "text": [
      "i is 0, k is 3, a is 0.61, b is 0.31 and final cv is 0.5387624853524822\n"
     ]
    },
    {
     "name": "stderr",
     "output_type": "stream",
     "text": [
      "11it [19:16, 120.16s/it]                                                                                               "
     ]
    },
    {
     "name": "stdout",
     "output_type": "stream",
     "text": [
      "i is 0, k is 3, a is 0.61, b is 0.61 and final cv is 0.5063098570371537\n"
     ]
    },
    {
     "name": "stderr",
     "output_type": "stream",
     "text": [
      "12it [20:36, 108.06s/it]"
     ]
    },
    {
     "name": "stdout",
     "output_type": "stream",
     "text": [
      "i is 0, k is 3, a is 0.61, b is 0.9099999999999999 and final cv is 0.52226205678635\n"
     ]
    },
    {
     "name": "stderr",
     "output_type": "stream",
     "text": [
      "13it [21:26, 90.59s/it] "
     ]
    },
    {
     "name": "stdout",
     "output_type": "stream",
     "text": [
      "i is 0, k is 3, a is 0.9099999999999999, b is 0.01 and final cv is 0.5088408966642918\n"
     ]
    },
    {
     "name": "stderr",
     "output_type": "stream",
     "text": [
      "14it [22:20, 79.49s/it]"
     ]
    },
    {
     "name": "stdout",
     "output_type": "stream",
     "text": [
      "i is 0, k is 3, a is 0.9099999999999999, b is 0.31 and final cv is 0.5459841128910012\n"
     ]
    },
    {
     "name": "stderr",
     "output_type": "stream",
     "text": [
      "15it [23:14, 72.00s/it]"
     ]
    },
    {
     "name": "stdout",
     "output_type": "stream",
     "text": [
      "i is 0, k is 3, a is 0.9099999999999999, b is 0.61 and final cv is 0.5628941254830812\n"
     ]
    },
    {
     "name": "stderr",
     "output_type": "stream",
     "text": [
      "16it [24:11, 67.43s/it]"
     ]
    },
    {
     "name": "stdout",
     "output_type": "stream",
     "text": [
      "i is 0, k is 3, a is 0.9099999999999999, b is 0.9099999999999999 and final cv is 0.5309068589251488\n"
     ]
    },
    {
     "name": "stderr",
     "output_type": "stream",
     "text": [
      "17it [25:13, 65.80s/it]"
     ]
    },
    {
     "name": "stdout",
     "output_type": "stream",
     "text": [
      "i is 0, k is 6, a is 0.01, b is 0.01 and final cv is 0.472668522843633\n"
     ]
    },
    {
     "name": "stderr",
     "output_type": "stream",
     "text": [
      "18it [26:13, 64.25s/it]"
     ]
    },
    {
     "name": "stdout",
     "output_type": "stream",
     "text": [
      "i is 0, k is 6, a is 0.01, b is 0.31 and final cv is 0.5482641344763777\n"
     ]
    },
    {
     "name": "stderr",
     "output_type": "stream",
     "text": [
      "19it [27:19, 64.68s/it]"
     ]
    },
    {
     "name": "stdout",
     "output_type": "stream",
     "text": [
      "i is 0, k is 6, a is 0.01, b is 0.61 and final cv is 0.5358478125591395\n"
     ]
    },
    {
     "name": "stderr",
     "output_type": "stream",
     "text": [
      "20it [28:19, 63.15s/it]"
     ]
    },
    {
     "name": "stdout",
     "output_type": "stream",
     "text": [
      "i is 0, k is 6, a is 0.01, b is 0.9099999999999999 and final cv is 0.5533565205076594\n"
     ]
    },
    {
     "name": "stderr",
     "output_type": "stream",
     "text": [
      "21it [29:19, 62.32s/it]"
     ]
    },
    {
     "name": "stdout",
     "output_type": "stream",
     "text": [
      "i is 0, k is 6, a is 0.31, b is 0.01 and final cv is 0.5171333926881417\n"
     ]
    },
    {
     "name": "stderr",
     "output_type": "stream",
     "text": [
      "22it [30:20, 61.87s/it]"
     ]
    },
    {
     "name": "stdout",
     "output_type": "stream",
     "text": [
      "i is 0, k is 6, a is 0.31, b is 0.31 and final cv is 0.5261997564214169\n"
     ]
    },
    {
     "name": "stderr",
     "output_type": "stream",
     "text": [
      "23it [31:23, 62.17s/it]"
     ]
    },
    {
     "name": "stdout",
     "output_type": "stream",
     "text": [
      "i is 0, k is 6, a is 0.31, b is 0.61 and final cv is 0.5087985955666509\n"
     ]
    },
    {
     "name": "stderr",
     "output_type": "stream",
     "text": [
      "24it [32:26, 62.43s/it]"
     ]
    },
    {
     "name": "stdout",
     "output_type": "stream",
     "text": [
      "i is 0, k is 6, a is 0.31, b is 0.9099999999999999 and final cv is 0.5323152708622594\n"
     ]
    },
    {
     "name": "stderr",
     "output_type": "stream",
     "text": [
      "25it [33:20, 60.02s/it]"
     ]
    },
    {
     "name": "stdout",
     "output_type": "stream",
     "text": [
      "i is 0, k is 6, a is 0.61, b is 0.01 and final cv is 0.5309478622432094\n"
     ]
    },
    {
     "name": "stderr",
     "output_type": "stream",
     "text": [
      "26it [34:16, 58.81s/it]"
     ]
    },
    {
     "name": "stdout",
     "output_type": "stream",
     "text": [
      "i is 0, k is 6, a is 0.61, b is 0.31 and final cv is 0.5216265969482466\n"
     ]
    },
    {
     "name": "stderr",
     "output_type": "stream",
     "text": [
      "27it [35:13, 58.11s/it]"
     ]
    },
    {
     "name": "stdout",
     "output_type": "stream",
     "text": [
      "i is 0, k is 6, a is 0.61, b is 0.61 and final cv is 0.5407159047402751\n"
     ]
    },
    {
     "name": "stderr",
     "output_type": "stream",
     "text": [
      "28it [36:11, 58.03s/it]"
     ]
    },
    {
     "name": "stdout",
     "output_type": "stream",
     "text": [
      "i is 0, k is 6, a is 0.61, b is 0.9099999999999999 and final cv is 0.5073835110223944\n"
     ]
    },
    {
     "name": "stderr",
     "output_type": "stream",
     "text": [
      "29it [37:05, 56.93s/it]"
     ]
    },
    {
     "name": "stdout",
     "output_type": "stream",
     "text": [
      "i is 0, k is 6, a is 0.9099999999999999, b is 0.01 and final cv is 0.5242608409131955\n"
     ]
    },
    {
     "name": "stderr",
     "output_type": "stream",
     "text": [
      "30it [38:00, 56.45s/it]"
     ]
    },
    {
     "name": "stdout",
     "output_type": "stream",
     "text": [
      "i is 0, k is 6, a is 0.9099999999999999, b is 0.31 and final cv is 0.5035645490332675\n"
     ]
    },
    {
     "name": "stderr",
     "output_type": "stream",
     "text": [
      "31it [38:55, 55.82s/it]"
     ]
    },
    {
     "name": "stdout",
     "output_type": "stream",
     "text": [
      "i is 0, k is 6, a is 0.9099999999999999, b is 0.61 and final cv is 0.516897543890959\n"
     ]
    },
    {
     "name": "stderr",
     "output_type": "stream",
     "text": [
      "32it [39:50, 55.82s/it]"
     ]
    },
    {
     "name": "stdout",
     "output_type": "stream",
     "text": [
      "i is 0, k is 6, a is 0.9099999999999999, b is 0.9099999999999999 and final cv is 0.5020316086913178\n"
     ]
    },
    {
     "name": "stderr",
     "output_type": "stream",
     "text": [
      "33it [40:53, 57.83s/it]"
     ]
    },
    {
     "name": "stdout",
     "output_type": "stream",
     "text": [
      "i is 0, k is 9, a is 0.01, b is 0.01 and final cv is 0.5019395613041389\n"
     ]
    },
    {
     "name": "stderr",
     "output_type": "stream",
     "text": [
      "34it [41:58, 60.03s/it]"
     ]
    },
    {
     "name": "stdout",
     "output_type": "stream",
     "text": [
      "i is 0, k is 9, a is 0.01, b is 0.31 and final cv is 0.5050261785374068\n"
     ]
    },
    {
     "name": "stderr",
     "output_type": "stream",
     "text": [
      "35it [43:02, 61.28s/it]"
     ]
    },
    {
     "name": "stdout",
     "output_type": "stream",
     "text": [
      "i is 0, k is 9, a is 0.01, b is 0.61 and final cv is 0.593485746941517\n"
     ]
    },
    {
     "name": "stderr",
     "output_type": "stream",
     "text": [
      "36it [44:05, 61.76s/it]"
     ]
    },
    {
     "name": "stdout",
     "output_type": "stream",
     "text": [
      "i is 0, k is 9, a is 0.01, b is 0.9099999999999999 and final cv is 0.5932041173174065\n"
     ]
    },
    {
     "name": "stderr",
     "output_type": "stream",
     "text": [
      "37it [45:08, 62.13s/it]"
     ]
    },
    {
     "name": "stdout",
     "output_type": "stream",
     "text": [
      "i is 0, k is 9, a is 0.31, b is 0.01 and final cv is 0.42936250236166296\n"
     ]
    },
    {
     "name": "stderr",
     "output_type": "stream",
     "text": [
      "38it [46:11, 62.23s/it]"
     ]
    },
    {
     "name": "stdout",
     "output_type": "stream",
     "text": [
      "i is 0, k is 9, a is 0.31, b is 0.31 and final cv is 0.49607173027629287\n"
     ]
    },
    {
     "name": "stderr",
     "output_type": "stream",
     "text": [
      "39it [47:15, 62.90s/it]"
     ]
    },
    {
     "name": "stdout",
     "output_type": "stream",
     "text": [
      "i is 0, k is 9, a is 0.31, b is 0.61 and final cv is 0.5742970399713255\n"
     ]
    },
    {
     "name": "stderr",
     "output_type": "stream",
     "text": [
      "40it [48:20, 63.48s/it]"
     ]
    },
    {
     "name": "stdout",
     "output_type": "stream",
     "text": [
      "i is 0, k is 9, a is 0.31, b is 0.9099999999999999 and final cv is 0.5797132041371182\n"
     ]
    },
    {
     "name": "stderr",
     "output_type": "stream",
     "text": [
      "41it [49:20, 62.58s/it]"
     ]
    },
    {
     "name": "stdout",
     "output_type": "stream",
     "text": [
      "i is 0, k is 9, a is 0.61, b is 0.01 and final cv is 0.47401032635534396\n"
     ]
    },
    {
     "name": "stderr",
     "output_type": "stream",
     "text": [
      "42it [3:16:05, 2685.27s/it]"
     ]
    },
    {
     "name": "stdout",
     "output_type": "stream",
     "text": [
      "i is 0, k is 9, a is 0.61, b is 0.31 and final cv is 0.504221941224489\n"
     ]
    },
    {
     "name": "stderr",
     "output_type": "stream",
     "text": [
      "43it [3:17:49, 1910.94s/it]"
     ]
    },
    {
     "name": "stdout",
     "output_type": "stream",
     "text": [
      "i is 0, k is 9, a is 0.61, b is 0.61 and final cv is 0.5768576703886327\n"
     ]
    },
    {
     "name": "stderr",
     "output_type": "stream",
     "text": [
      "44it [3:19:14, 1362.93s/it]"
     ]
    },
    {
     "name": "stdout",
     "output_type": "stream",
     "text": [
      "i is 0, k is 9, a is 0.61, b is 0.9099999999999999 and final cv is 0.5661072249890683\n"
     ]
    },
    {
     "name": "stderr",
     "output_type": "stream",
     "text": [
      "45it [3:20:42, 980.50s/it] "
     ]
    },
    {
     "name": "stdout",
     "output_type": "stream",
     "text": [
      "i is 0, k is 9, a is 0.9099999999999999, b is 0.01 and final cv is 0.4874785421232427\n"
     ]
    },
    {
     "name": "stderr",
     "output_type": "stream",
     "text": [
      "46it [3:22:12, 713.44s/it]"
     ]
    },
    {
     "name": "stdout",
     "output_type": "stream",
     "text": [
      "i is 0, k is 9, a is 0.9099999999999999, b is 0.31 and final cv is 0.48735132325797675\n"
     ]
    },
    {
     "name": "stderr",
     "output_type": "stream",
     "text": [
      "47it [3:23:34, 523.98s/it]"
     ]
    },
    {
     "name": "stdout",
     "output_type": "stream",
     "text": [
      "i is 0, k is 9, a is 0.9099999999999999, b is 0.61 and final cv is 0.5613959034763076\n"
     ]
    },
    {
     "name": "stderr",
     "output_type": "stream",
     "text": [
      "48it [3:24:54, 390.85s/it]"
     ]
    },
    {
     "name": "stdout",
     "output_type": "stream",
     "text": [
      "i is 0, k is 9, a is 0.9099999999999999, b is 0.9099999999999999 and final cv is 0.5382766609144713\n"
     ]
    },
    {
     "name": "stderr",
     "output_type": "stream",
     "text": [
      "49it [3:26:35, 303.84s/it]"
     ]
    },
    {
     "name": "stdout",
     "output_type": "stream",
     "text": [
      "i is 0, k is 12, a is 0.01, b is 0.01 and final cv is 0.4514610842311573\n"
     ]
    },
    {
     "name": "stderr",
     "output_type": "stream",
     "text": [
      "50it [3:28:07, 240.14s/it]"
     ]
    },
    {
     "name": "stdout",
     "output_type": "stream",
     "text": [
      "i is 0, k is 12, a is 0.01, b is 0.31 and final cv is 0.5158853602758429\n"
     ]
    },
    {
     "name": "stderr",
     "output_type": "stream",
     "text": [
      "51it [3:29:36, 194.86s/it]"
     ]
    },
    {
     "name": "stdout",
     "output_type": "stream",
     "text": [
      "i is 0, k is 12, a is 0.01, b is 0.61 and final cv is 0.5527252365167824\n"
     ]
    },
    {
     "name": "stderr",
     "output_type": "stream",
     "text": [
      "52it [3:31:02, 162.30s/it]"
     ]
    },
    {
     "name": "stdout",
     "output_type": "stream",
     "text": [
      "i is 0, k is 12, a is 0.01, b is 0.9099999999999999 and final cv is 0.5290426763018111\n"
     ]
    },
    {
     "name": "stderr",
     "output_type": "stream",
     "text": [
      "53it [3:32:32, 140.70s/it]"
     ]
    },
    {
     "name": "stdout",
     "output_type": "stream",
     "text": [
      "i is 0, k is 12, a is 0.31, b is 0.01 and final cv is 0.4312760068717039\n"
     ]
    },
    {
     "name": "stderr",
     "output_type": "stream",
     "text": [
      "54it [3:34:03, 125.53s/it]"
     ]
    },
    {
     "name": "stdout",
     "output_type": "stream",
     "text": [
      "i is 0, k is 12, a is 0.31, b is 0.31 and final cv is 0.47833919959992116\n"
     ]
    },
    {
     "name": "stderr",
     "output_type": "stream",
     "text": [
      "55it [3:35:31, 114.36s/it]"
     ]
    },
    {
     "name": "stdout",
     "output_type": "stream",
     "text": [
      "i is 0, k is 12, a is 0.31, b is 0.61 and final cv is 0.5820943011182979\n"
     ]
    },
    {
     "name": "stderr",
     "output_type": "stream",
     "text": [
      "56it [3:37:01, 107.10s/it]"
     ]
    },
    {
     "name": "stdout",
     "output_type": "stream",
     "text": [
      "i is 0, k is 12, a is 0.31, b is 0.9099999999999999 and final cv is 0.5784561472762779\n"
     ]
    },
    {
     "name": "stderr",
     "output_type": "stream",
     "text": [
      "57it [3:39:35, 121.03s/it]"
     ]
    },
    {
     "name": "stdout",
     "output_type": "stream",
     "text": [
      "i is 0, k is 12, a is 0.61, b is 0.01 and final cv is 0.49326211614907844\n"
     ]
    },
    {
     "name": "stderr",
     "output_type": "stream",
     "text": [
      "58it [3:41:01, 110.79s/it]"
     ]
    },
    {
     "name": "stdout",
     "output_type": "stream",
     "text": [
      "i is 0, k is 12, a is 0.61, b is 0.31 and final cv is 0.49647378380620893\n"
     ]
    },
    {
     "name": "stderr",
     "output_type": "stream",
     "text": [
      "59it [3:42:56, 112.06s/it]"
     ]
    },
    {
     "name": "stdout",
     "output_type": "stream",
     "text": [
      "i is 0, k is 12, a is 0.61, b is 0.61 and final cv is 0.5457721770324276\n"
     ]
    },
    {
     "name": "stderr",
     "output_type": "stream",
     "text": [
      "60it [3:44:34, 107.82s/it]"
     ]
    },
    {
     "name": "stdout",
     "output_type": "stream",
     "text": [
      "i is 0, k is 12, a is 0.61, b is 0.9099999999999999 and final cv is 0.5832998665043431\n"
     ]
    },
    {
     "name": "stderr",
     "output_type": "stream",
     "text": [
      "61it [3:46:10, 104.24s/it]"
     ]
    },
    {
     "name": "stdout",
     "output_type": "stream",
     "text": [
      "i is 0, k is 12, a is 0.9099999999999999, b is 0.01 and final cv is 0.45722952731594985\n"
     ]
    },
    {
     "name": "stderr",
     "output_type": "stream",
     "text": [
      "62it [3:48:10, 108.88s/it]"
     ]
    },
    {
     "name": "stdout",
     "output_type": "stream",
     "text": [
      "i is 0, k is 12, a is 0.9099999999999999, b is 0.31 and final cv is 0.543211674369031\n"
     ]
    },
    {
     "name": "stderr",
     "output_type": "stream",
     "text": [
      "63it [3:49:44, 104.54s/it]"
     ]
    },
    {
     "name": "stdout",
     "output_type": "stream",
     "text": [
      "i is 0, k is 12, a is 0.9099999999999999, b is 0.61 and final cv is 0.5433932385294739\n"
     ]
    },
    {
     "name": "stderr",
     "output_type": "stream",
     "text": [
      "64it [3:51:22, 102.56s/it]"
     ]
    },
    {
     "name": "stdout",
     "output_type": "stream",
     "text": [
      "i is 0, k is 12, a is 0.9099999999999999, b is 0.9099999999999999 and final cv is 0.5718603146643632\n"
     ]
    },
    {
     "name": "stderr",
     "output_type": "stream",
     "text": [
      "65it [3:53:39, 112.71s/it]"
     ]
    },
    {
     "name": "stdout",
     "output_type": "stream",
     "text": [
      "i is 0, k is 15, a is 0.01, b is 0.01 and final cv is 0.4564982704627058\n"
     ]
    },
    {
     "name": "stderr",
     "output_type": "stream",
     "text": [
      "66it [3:56:01, 121.59s/it]"
     ]
    },
    {
     "name": "stdout",
     "output_type": "stream",
     "text": [
      "i is 0, k is 15, a is 0.01, b is 0.31 and final cv is 0.5221277244016674\n"
     ]
    },
    {
     "name": "stderr",
     "output_type": "stream",
     "text": [
      "67it [3:58:32, 130.30s/it]"
     ]
    },
    {
     "name": "stdout",
     "output_type": "stream",
     "text": [
      "i is 0, k is 15, a is 0.01, b is 0.61 and final cv is 0.5594184133181367\n"
     ]
    },
    {
     "name": "stderr",
     "output_type": "stream",
     "text": [
      "68it [4:00:17, 122.71s/it]"
     ]
    },
    {
     "name": "stdout",
     "output_type": "stream",
     "text": [
      "i is 0, k is 15, a is 0.01, b is 0.9099999999999999 and final cv is 0.43820654540603576\n"
     ]
    },
    {
     "name": "stderr",
     "output_type": "stream",
     "text": [
      "69it [4:03:05, 136.38s/it]"
     ]
    },
    {
     "name": "stdout",
     "output_type": "stream",
     "text": [
      "i is 0, k is 15, a is 0.31, b is 0.01 and final cv is 0.40796531662046065\n"
     ]
    },
    {
     "name": "stderr",
     "output_type": "stream",
     "text": [
      "70it [4:04:50, 127.11s/it]"
     ]
    },
    {
     "name": "stdout",
     "output_type": "stream",
     "text": [
      "i is 0, k is 15, a is 0.31, b is 0.31 and final cv is 0.503492675339105\n"
     ]
    },
    {
     "name": "stderr",
     "output_type": "stream",
     "text": [
      "71it [4:06:54, 126.19s/it]"
     ]
    },
    {
     "name": "stdout",
     "output_type": "stream",
     "text": [
      "i is 0, k is 15, a is 0.31, b is 0.61 and final cv is 0.6013466319537281\n"
     ]
    },
    {
     "name": "stderr",
     "output_type": "stream",
     "text": [
      "72it [4:08:38, 119.27s/it]"
     ]
    },
    {
     "name": "stdout",
     "output_type": "stream",
     "text": [
      "i is 0, k is 15, a is 0.31, b is 0.9099999999999999 and final cv is 0.536901881861246\n"
     ]
    },
    {
     "name": "stderr",
     "output_type": "stream",
     "text": [
      "73it [4:10:23, 115.04s/it]"
     ]
    },
    {
     "name": "stdout",
     "output_type": "stream",
     "text": [
      "i is 0, k is 15, a is 0.61, b is 0.01 and final cv is 0.4388073598915472\n"
     ]
    },
    {
     "name": "stderr",
     "output_type": "stream",
     "text": [
      "74it [4:12:59, 127.39s/it]"
     ]
    },
    {
     "name": "stdout",
     "output_type": "stream",
     "text": [
      "i is 0, k is 15, a is 0.61, b is 0.31 and final cv is 0.5068578505479168\n"
     ]
    },
    {
     "name": "stderr",
     "output_type": "stream",
     "text": [
      "75it [4:15:42, 138.05s/it]"
     ]
    },
    {
     "name": "stdout",
     "output_type": "stream",
     "text": [
      "i is 0, k is 15, a is 0.61, b is 0.61 and final cv is 0.532940599984701\n"
     ]
    },
    {
     "name": "stderr",
     "output_type": "stream",
     "text": [
      "76it [4:18:06, 139.97s/it]"
     ]
    },
    {
     "name": "stdout",
     "output_type": "stream",
     "text": [
      "i is 0, k is 15, a is 0.61, b is 0.9099999999999999 and final cv is 0.5876881924438317\n"
     ]
    },
    {
     "name": "stderr",
     "output_type": "stream",
     "text": [
      "77it [4:20:34, 142.38s/it]"
     ]
    },
    {
     "name": "stdout",
     "output_type": "stream",
     "text": [
      "i is 0, k is 15, a is 0.9099999999999999, b is 0.01 and final cv is 0.44764350540891906\n"
     ]
    },
    {
     "name": "stderr",
     "output_type": "stream",
     "text": [
      "78it [4:23:10, 146.38s/it]"
     ]
    },
    {
     "name": "stdout",
     "output_type": "stream",
     "text": [
      "i is 0, k is 15, a is 0.9099999999999999, b is 0.31 and final cv is 0.5078737483994464\n"
     ]
    },
    {
     "name": "stderr",
     "output_type": "stream",
     "text": [
      "79it [4:25:17, 140.62s/it]"
     ]
    },
    {
     "name": "stdout",
     "output_type": "stream",
     "text": [
      "i is 0, k is 15, a is 0.9099999999999999, b is 0.61 and final cv is 0.5473250218259377\n"
     ]
    },
    {
     "name": "stderr",
     "output_type": "stream",
     "text": [
      "80it [4:26:56, 127.93s/it]"
     ]
    },
    {
     "name": "stdout",
     "output_type": "stream",
     "text": [
      "i is 0, k is 15, a is 0.9099999999999999, b is 0.9099999999999999 and final cv is 0.5338640111428768\n"
     ]
    },
    {
     "name": "stderr",
     "output_type": "stream",
     "text": [
      "81it [4:29:27, 135.08s/it]"
     ]
    },
    {
     "name": "stdout",
     "output_type": "stream",
     "text": [
      "i is 0, k is 18, a is 0.01, b is 0.01 and final cv is 0.4421674406413147\n"
     ]
    },
    {
     "name": "stderr",
     "output_type": "stream",
     "text": [
      "82it [4:31:45, 136.00s/it]"
     ]
    },
    {
     "name": "stdout",
     "output_type": "stream",
     "text": [
      "i is 0, k is 18, a is 0.01, b is 0.31 and final cv is 0.5076290199303218\n"
     ]
    },
    {
     "name": "stderr",
     "output_type": "stream",
     "text": [
      "83it [4:33:49, 132.42s/it]"
     ]
    },
    {
     "name": "stdout",
     "output_type": "stream",
     "text": [
      "i is 0, k is 18, a is 0.01, b is 0.61 and final cv is 0.535507272922033\n"
     ]
    },
    {
     "name": "stderr",
     "output_type": "stream",
     "text": [
      "84it [4:36:20, 137.96s/it]"
     ]
    },
    {
     "name": "stdout",
     "output_type": "stream",
     "text": [
      "i is 0, k is 18, a is 0.01, b is 0.9099999999999999 and final cv is 0.4345030612684282\n"
     ]
    },
    {
     "name": "stderr",
     "output_type": "stream",
     "text": [
      "85it [4:39:02, 145.08s/it]"
     ]
    },
    {
     "name": "stdout",
     "output_type": "stream",
     "text": [
      "i is 0, k is 18, a is 0.31, b is 0.01 and final cv is 0.3887219834776387\n"
     ]
    },
    {
     "name": "stderr",
     "output_type": "stream",
     "text": [
      "86it [4:40:55, 135.46s/it]"
     ]
    },
    {
     "name": "stdout",
     "output_type": "stream",
     "text": [
      "i is 0, k is 18, a is 0.31, b is 0.31 and final cv is 0.4861245020757365\n"
     ]
    },
    {
     "name": "stderr",
     "output_type": "stream",
     "text": [
      "87it [4:43:25, 139.93s/it]"
     ]
    },
    {
     "name": "stdout",
     "output_type": "stream",
     "text": [
      "i is 0, k is 18, a is 0.31, b is 0.61 and final cv is 0.5603061404343573\n"
     ]
    },
    {
     "name": "stderr",
     "output_type": "stream",
     "text": [
      "88it [4:46:27, 152.35s/it]"
     ]
    },
    {
     "name": "stdout",
     "output_type": "stream",
     "text": [
      "i is 0, k is 18, a is 0.31, b is 0.9099999999999999 and final cv is 0.514157064061239\n"
     ]
    },
    {
     "name": "stderr",
     "output_type": "stream",
     "text": [
      "89it [4:49:06, 154.54s/it]"
     ]
    },
    {
     "name": "stdout",
     "output_type": "stream",
     "text": [
      "i is 0, k is 18, a is 0.61, b is 0.01 and final cv is 0.4313811461434593\n"
     ]
    },
    {
     "name": "stderr",
     "output_type": "stream",
     "text": [
      "90it [4:51:30, 151.13s/it]"
     ]
    },
    {
     "name": "stdout",
     "output_type": "stream",
     "text": [
      "i is 0, k is 18, a is 0.61, b is 0.31 and final cv is 0.5419240909494105\n"
     ]
    },
    {
     "name": "stderr",
     "output_type": "stream",
     "text": [
      "91it [4:53:16, 137.83s/it]"
     ]
    },
    {
     "name": "stdout",
     "output_type": "stream",
     "text": [
      "i is 0, k is 18, a is 0.61, b is 0.61 and final cv is 0.542622181966438\n"
     ]
    },
    {
     "name": "stderr",
     "output_type": "stream",
     "text": [
      "92it [4:55:02, 128.14s/it]"
     ]
    },
    {
     "name": "stdout",
     "output_type": "stream",
     "text": [
      "i is 0, k is 18, a is 0.61, b is 0.9099999999999999 and final cv is 0.6579312852860091\n"
     ]
    },
    {
     "name": "stderr",
     "output_type": "stream",
     "text": [
      "93it [4:57:01, 125.40s/it]"
     ]
    },
    {
     "name": "stdout",
     "output_type": "stream",
     "text": [
      "i is 0, k is 18, a is 0.9099999999999999, b is 0.01 and final cv is 0.44234964485256795\n"
     ]
    },
    {
     "name": "stderr",
     "output_type": "stream",
     "text": [
      "94it [4:59:18, 128.77s/it]"
     ]
    },
    {
     "name": "stdout",
     "output_type": "stream",
     "text": [
      "i is 0, k is 18, a is 0.9099999999999999, b is 0.31 and final cv is 0.49083482909728765\n"
     ]
    },
    {
     "name": "stderr",
     "output_type": "stream",
     "text": [
      "95it [5:02:17, 144.05s/it]"
     ]
    },
    {
     "name": "stdout",
     "output_type": "stream",
     "text": [
      "i is 0, k is 18, a is 0.9099999999999999, b is 0.61 and final cv is 0.5870742711679857\n"
     ]
    },
    {
     "name": "stderr",
     "output_type": "stream",
     "text": [
      "96it [5:04:35, 142.27s/it]"
     ]
    },
    {
     "name": "stdout",
     "output_type": "stream",
     "text": [
      "i is 0, k is 18, a is 0.9099999999999999, b is 0.9099999999999999 and final cv is 0.5457160238656322\n"
     ]
    },
    {
     "name": "stderr",
     "output_type": "stream",
     "text": [
      "97it [5:05:44, 120.32s/it]"
     ]
    },
    {
     "name": "stdout",
     "output_type": "stream",
     "text": [
      "i is 1, k is 3, a is 0.01, b is 0.01 and final cv is 0.4726363394976629\n"
     ]
    },
    {
     "name": "stderr",
     "output_type": "stream",
     "text": [
      "98it [5:06:57, 105.83s/it]"
     ]
    },
    {
     "name": "stdout",
     "output_type": "stream",
     "text": [
      "i is 1, k is 3, a is 0.01, b is 0.31 and final cv is 0.4789404770955363\n"
     ]
    },
    {
     "name": "stderr",
     "output_type": "stream",
     "text": [
      "99it [5:08:05, 94.76s/it] "
     ]
    },
    {
     "name": "stdout",
     "output_type": "stream",
     "text": [
      "i is 1, k is 3, a is 0.01, b is 0.61 and final cv is 0.4313959587196639\n"
     ]
    },
    {
     "name": "stderr",
     "output_type": "stream",
     "text": [
      "100it [5:09:12, 86.36s/it]"
     ]
    },
    {
     "name": "stdout",
     "output_type": "stream",
     "text": [
      "i is 1, k is 3, a is 0.01, b is 0.9099999999999999 and final cv is 0.4465629593734454\n"
     ]
    },
    {
     "name": "stderr",
     "output_type": "stream",
     "text": [
      "101it [5:10:17, 79.86s/it]"
     ]
    },
    {
     "name": "stdout",
     "output_type": "stream",
     "text": [
      "i is 1, k is 3, a is 0.31, b is 0.01 and final cv is 0.4964579706075043\n"
     ]
    },
    {
     "name": "stderr",
     "output_type": "stream",
     "text": [
      "102it [5:11:32, 78.38s/it]"
     ]
    },
    {
     "name": "stdout",
     "output_type": "stream",
     "text": [
      "i is 1, k is 3, a is 0.31, b is 0.31 and final cv is 0.5160558014682887\n"
     ]
    },
    {
     "name": "stderr",
     "output_type": "stream",
     "text": [
      "103it [5:12:49, 77.96s/it]"
     ]
    },
    {
     "name": "stdout",
     "output_type": "stream",
     "text": [
      "i is 1, k is 3, a is 0.31, b is 0.61 and final cv is 0.5204426886433665\n"
     ]
    },
    {
     "name": "stderr",
     "output_type": "stream",
     "text": [
      "104it [5:14:05, 77.43s/it]"
     ]
    },
    {
     "name": "stdout",
     "output_type": "stream",
     "text": [
      "i is 1, k is 3, a is 0.31, b is 0.9099999999999999 and final cv is 0.47018828656114015\n"
     ]
    },
    {
     "name": "stderr",
     "output_type": "stream",
     "text": [
      "105it [5:15:07, 72.87s/it]"
     ]
    },
    {
     "name": "stdout",
     "output_type": "stream",
     "text": [
      "i is 1, k is 3, a is 0.61, b is 0.01 and final cv is 0.49849051883335255\n"
     ]
    },
    {
     "name": "stderr",
     "output_type": "stream",
     "text": [
      "106it [5:16:17, 71.79s/it]"
     ]
    },
    {
     "name": "stdout",
     "output_type": "stream",
     "text": [
      "i is 1, k is 3, a is 0.61, b is 0.31 and final cv is 0.534248285323018\n"
     ]
    },
    {
     "name": "stderr",
     "output_type": "stream",
     "text": [
      "107it [5:17:29, 71.95s/it]"
     ]
    },
    {
     "name": "stdout",
     "output_type": "stream",
     "text": [
      "i is 1, k is 3, a is 0.61, b is 0.61 and final cv is 0.5298980378073593\n"
     ]
    },
    {
     "name": "stderr",
     "output_type": "stream",
     "text": [
      "108it [5:18:42, 72.37s/it]"
     ]
    },
    {
     "name": "stdout",
     "output_type": "stream",
     "text": [
      "i is 1, k is 3, a is 0.61, b is 0.9099999999999999 and final cv is 0.511250883411309\n"
     ]
    },
    {
     "name": "stderr",
     "output_type": "stream",
     "text": [
      "109it [6:13:26, 1035.72s/it]"
     ]
    },
    {
     "name": "stdout",
     "output_type": "stream",
     "text": [
      "i is 1, k is 3, a is 0.9099999999999999, b is 0.01 and final cv is 0.501012101950974\n"
     ]
    },
    {
     "name": "stderr",
     "output_type": "stream",
     "text": [
      "110it [6:14:28, 743.74s/it] "
     ]
    },
    {
     "name": "stdout",
     "output_type": "stream",
     "text": [
      "i is 1, k is 3, a is 0.9099999999999999, b is 0.31 and final cv is 0.5346297897960105\n"
     ]
    },
    {
     "name": "stderr",
     "output_type": "stream",
     "text": [
      "111it [6:15:30, 539.08s/it]"
     ]
    },
    {
     "name": "stdout",
     "output_type": "stream",
     "text": [
      "i is 1, k is 3, a is 0.9099999999999999, b is 0.61 and final cv is 0.5514377952032484\n"
     ]
    },
    {
     "name": "stderr",
     "output_type": "stream",
     "text": [
      "112it [6:16:27, 394.64s/it]"
     ]
    },
    {
     "name": "stdout",
     "output_type": "stream",
     "text": [
      "i is 1, k is 3, a is 0.9099999999999999, b is 0.9099999999999999 and final cv is 0.5212496072874524\n"
     ]
    },
    {
     "name": "stderr",
     "output_type": "stream",
     "text": [
      "113it [6:17:30, 295.17s/it]"
     ]
    },
    {
     "name": "stdout",
     "output_type": "stream",
     "text": [
      "i is 1, k is 6, a is 0.01, b is 0.01 and final cv is 0.45724687341282877\n"
     ]
    },
    {
     "name": "stderr",
     "output_type": "stream",
     "text": [
      "114it [6:18:42, 228.11s/it]"
     ]
    },
    {
     "name": "stdout",
     "output_type": "stream",
     "text": [
      "i is 1, k is 6, a is 0.01, b is 0.31 and final cv is 0.5116269138243633\n"
     ]
    },
    {
     "name": "stderr",
     "output_type": "stream",
     "text": [
      "115it [6:19:44, 178.36s/it]"
     ]
    },
    {
     "name": "stdout",
     "output_type": "stream",
     "text": [
      "i is 1, k is 6, a is 0.01, b is 0.61 and final cv is 0.5409342196588675\n"
     ]
    },
    {
     "name": "stderr",
     "output_type": "stream",
     "text": [
      "116it [6:20:43, 142.60s/it]"
     ]
    },
    {
     "name": "stdout",
     "output_type": "stream",
     "text": [
      "i is 1, k is 6, a is 0.01, b is 0.9099999999999999 and final cv is 0.5607684512524452\n"
     ]
    },
    {
     "name": "stderr",
     "output_type": "stream",
     "text": [
      "117it [6:21:48, 119.24s/it]"
     ]
    },
    {
     "name": "stdout",
     "output_type": "stream",
     "text": [
      "i is 1, k is 6, a is 0.31, b is 0.01 and final cv is 0.5256380347248913\n"
     ]
    },
    {
     "name": "stderr",
     "output_type": "stream",
     "text": [
      "118it [6:22:54, 103.13s/it]"
     ]
    },
    {
     "name": "stdout",
     "output_type": "stream",
     "text": [
      "i is 1, k is 6, a is 0.31, b is 0.31 and final cv is 0.50338563976003\n"
     ]
    },
    {
     "name": "stderr",
     "output_type": "stream",
     "text": [
      "119it [6:24:06, 93.98s/it] "
     ]
    },
    {
     "name": "stdout",
     "output_type": "stream",
     "text": [
      "i is 1, k is 6, a is 0.31, b is 0.61 and final cv is 0.5497385964867264\n"
     ]
    },
    {
     "name": "stderr",
     "output_type": "stream",
     "text": [
      "120it [6:25:12, 85.58s/it]"
     ]
    },
    {
     "name": "stdout",
     "output_type": "stream",
     "text": [
      "i is 1, k is 6, a is 0.31, b is 0.9099999999999999 and final cv is 0.5409477342741813\n"
     ]
    },
    {
     "name": "stderr",
     "output_type": "stream",
     "text": [
      "121it [6:26:13, 78.01s/it]"
     ]
    },
    {
     "name": "stdout",
     "output_type": "stream",
     "text": [
      "i is 1, k is 6, a is 0.61, b is 0.01 and final cv is 0.5138638919124652\n"
     ]
    },
    {
     "name": "stderr",
     "output_type": "stream",
     "text": [
      "122it [6:27:15, 73.30s/it]"
     ]
    },
    {
     "name": "stdout",
     "output_type": "stream",
     "text": [
      "i is 1, k is 6, a is 0.61, b is 0.31 and final cv is 0.52668186616114\n"
     ]
    },
    {
     "name": "stderr",
     "output_type": "stream",
     "text": [
      "123it [6:28:16, 69.63s/it]"
     ]
    },
    {
     "name": "stdout",
     "output_type": "stream",
     "text": [
      "i is 1, k is 6, a is 0.61, b is 0.61 and final cv is 0.5168645097754152\n"
     ]
    },
    {
     "name": "stderr",
     "output_type": "stream",
     "text": [
      "124it [6:29:18, 67.20s/it]"
     ]
    },
    {
     "name": "stdout",
     "output_type": "stream",
     "text": [
      "i is 1, k is 6, a is 0.61, b is 0.9099999999999999 and final cv is 0.49017653638032926\n"
     ]
    },
    {
     "name": "stderr",
     "output_type": "stream",
     "text": [
      "125it [6:30:20, 65.62s/it]"
     ]
    },
    {
     "name": "stdout",
     "output_type": "stream",
     "text": [
      "i is 1, k is 6, a is 0.9099999999999999, b is 0.01 and final cv is 0.5255766799432695\n"
     ]
    },
    {
     "name": "stderr",
     "output_type": "stream",
     "text": [
      "126it [6:31:19, 63.83s/it]"
     ]
    },
    {
     "name": "stdout",
     "output_type": "stream",
     "text": [
      "i is 1, k is 6, a is 0.9099999999999999, b is 0.31 and final cv is 0.5039359573124336\n"
     ]
    },
    {
     "name": "stderr",
     "output_type": "stream",
     "text": [
      "127it [6:32:23, 63.72s/it]"
     ]
    },
    {
     "name": "stdout",
     "output_type": "stream",
     "text": [
      "i is 1, k is 6, a is 0.9099999999999999, b is 0.61 and final cv is 0.5255109323479966\n"
     ]
    },
    {
     "name": "stderr",
     "output_type": "stream",
     "text": [
      "128it [6:33:27, 63.94s/it]"
     ]
    },
    {
     "name": "stdout",
     "output_type": "stream",
     "text": [
      "i is 1, k is 6, a is 0.9099999999999999, b is 0.9099999999999999 and final cv is 0.4857395013637884\n"
     ]
    },
    {
     "name": "stderr",
     "output_type": "stream",
     "text": [
      "129it [6:34:36, 65.41s/it]"
     ]
    },
    {
     "name": "stdout",
     "output_type": "stream",
     "text": [
      "i is 1, k is 9, a is 0.01, b is 0.01 and final cv is 0.5079936467491536\n"
     ]
    },
    {
     "name": "stderr",
     "output_type": "stream",
     "text": [
      "130it [6:35:43, 65.86s/it]"
     ]
    },
    {
     "name": "stdout",
     "output_type": "stream",
     "text": [
      "i is 1, k is 9, a is 0.01, b is 0.31 and final cv is 0.5045017099448368\n"
     ]
    },
    {
     "name": "stderr",
     "output_type": "stream",
     "text": [
      "131it [6:36:50, 66.33s/it]"
     ]
    },
    {
     "name": "stdout",
     "output_type": "stream",
     "text": [
      "i is 1, k is 9, a is 0.01, b is 0.61 and final cv is 0.5670210382565616\n"
     ]
    },
    {
     "name": "stderr",
     "output_type": "stream",
     "text": [
      "132it [6:37:57, 66.47s/it]"
     ]
    },
    {
     "name": "stdout",
     "output_type": "stream",
     "text": [
      "i is 1, k is 9, a is 0.01, b is 0.9099999999999999 and final cv is 0.6096426778308394\n"
     ]
    },
    {
     "name": "stderr",
     "output_type": "stream",
     "text": [
      "133it [6:39:05, 66.98s/it]"
     ]
    },
    {
     "name": "stdout",
     "output_type": "stream",
     "text": [
      "i is 1, k is 9, a is 0.31, b is 0.01 and final cv is 0.4524832287461936\n"
     ]
    },
    {
     "name": "stderr",
     "output_type": "stream",
     "text": [
      "134it [6:40:25, 70.72s/it]"
     ]
    },
    {
     "name": "stdout",
     "output_type": "stream",
     "text": [
      "i is 1, k is 9, a is 0.31, b is 0.31 and final cv is 0.46468139635620775\n"
     ]
    },
    {
     "name": "stderr",
     "output_type": "stream",
     "text": [
      "135it [6:41:36, 70.80s/it]"
     ]
    },
    {
     "name": "stdout",
     "output_type": "stream",
     "text": [
      "i is 1, k is 9, a is 0.31, b is 0.61 and final cv is 0.5535803644861791\n"
     ]
    },
    {
     "name": "stderr",
     "output_type": "stream",
     "text": [
      "136it [6:42:44, 70.11s/it]"
     ]
    },
    {
     "name": "stdout",
     "output_type": "stream",
     "text": [
      "i is 1, k is 9, a is 0.31, b is 0.9099999999999999 and final cv is 0.5861548318910468\n"
     ]
    },
    {
     "name": "stderr",
     "output_type": "stream",
     "text": [
      "137it [6:43:52, 69.32s/it]"
     ]
    },
    {
     "name": "stdout",
     "output_type": "stream",
     "text": [
      "i is 1, k is 9, a is 0.61, b is 0.01 and final cv is 0.4602224934936667\n"
     ]
    },
    {
     "name": "stderr",
     "output_type": "stream",
     "text": [
      "138it [6:44:59, 68.85s/it]"
     ]
    },
    {
     "name": "stdout",
     "output_type": "stream",
     "text": [
      "i is 1, k is 9, a is 0.61, b is 0.31 and final cv is 0.5043661396908498\n"
     ]
    },
    {
     "name": "stderr",
     "output_type": "stream",
     "text": [
      "139it [6:46:05, 67.76s/it]"
     ]
    },
    {
     "name": "stdout",
     "output_type": "stream",
     "text": [
      "i is 1, k is 9, a is 0.61, b is 0.61 and final cv is 0.5826403228626114\n"
     ]
    },
    {
     "name": "stderr",
     "output_type": "stream",
     "text": [
      "140it [6:47:10, 66.99s/it]"
     ]
    },
    {
     "name": "stdout",
     "output_type": "stream",
     "text": [
      "i is 1, k is 9, a is 0.61, b is 0.9099999999999999 and final cv is 0.5498373883219569\n"
     ]
    },
    {
     "name": "stderr",
     "output_type": "stream",
     "text": [
      "141it [6:48:17, 66.99s/it]"
     ]
    },
    {
     "name": "stdout",
     "output_type": "stream",
     "text": [
      "i is 1, k is 9, a is 0.9099999999999999, b is 0.01 and final cv is 0.4681698609929275\n"
     ]
    },
    {
     "name": "stderr",
     "output_type": "stream",
     "text": [
      "142it [6:49:23, 66.80s/it]"
     ]
    },
    {
     "name": "stdout",
     "output_type": "stream",
     "text": [
      "i is 1, k is 9, a is 0.9099999999999999, b is 0.31 and final cv is 0.5162542761197554\n"
     ]
    },
    {
     "name": "stderr",
     "output_type": "stream",
     "text": [
      "143it [6:50:29, 66.40s/it]"
     ]
    },
    {
     "name": "stdout",
     "output_type": "stream",
     "text": [
      "i is 1, k is 9, a is 0.9099999999999999, b is 0.61 and final cv is 0.5536720706630632\n"
     ]
    },
    {
     "name": "stderr",
     "output_type": "stream",
     "text": [
      "144it [6:59:54, 215.96s/it]"
     ]
    },
    {
     "name": "stdout",
     "output_type": "stream",
     "text": [
      "i is 1, k is 9, a is 0.9099999999999999, b is 0.9099999999999999 and final cv is 0.547614318600867\n"
     ]
    },
    {
     "name": "stderr",
     "output_type": "stream",
     "text": [
      "145it [7:01:57, 188.15s/it]"
     ]
    },
    {
     "name": "stdout",
     "output_type": "stream",
     "text": [
      "i is 1, k is 12, a is 0.01, b is 0.01 and final cv is 0.4726565776825009\n"
     ]
    },
    {
     "name": "stderr",
     "output_type": "stream",
     "text": [
      "146it [7:03:35, 161.09s/it]"
     ]
    },
    {
     "name": "stdout",
     "output_type": "stream",
     "text": [
      "i is 1, k is 12, a is 0.01, b is 0.31 and final cv is 0.5179710564984369\n"
     ]
    },
    {
     "name": "stderr",
     "output_type": "stream",
     "text": [
      "147it [7:05:15, 142.76s/it]"
     ]
    },
    {
     "name": "stdout",
     "output_type": "stream",
     "text": [
      "i is 1, k is 12, a is 0.01, b is 0.61 and final cv is 0.5700313866631255\n"
     ]
    },
    {
     "name": "stderr",
     "output_type": "stream",
     "text": [
      "148it [7:07:27, 139.47s/it]"
     ]
    },
    {
     "name": "stdout",
     "output_type": "stream",
     "text": [
      "i is 1, k is 12, a is 0.01, b is 0.9099999999999999 and final cv is 0.48765184594707317\n"
     ]
    },
    {
     "name": "stderr",
     "output_type": "stream",
     "text": [
      "149it [7:09:46, 139.37s/it]"
     ]
    },
    {
     "name": "stdout",
     "output_type": "stream",
     "text": [
      "i is 1, k is 12, a is 0.31, b is 0.01 and final cv is 0.45669803648683605\n"
     ]
    },
    {
     "name": "stderr",
     "output_type": "stream",
     "text": [
      "150it [7:11:41, 132.05s/it]"
     ]
    },
    {
     "name": "stdout",
     "output_type": "stream",
     "text": [
      "i is 1, k is 12, a is 0.31, b is 0.31 and final cv is 0.4767268806129423\n"
     ]
    },
    {
     "name": "stderr",
     "output_type": "stream",
     "text": [
      "151it [7:13:19, 121.95s/it]"
     ]
    },
    {
     "name": "stdout",
     "output_type": "stream",
     "text": [
      "i is 1, k is 12, a is 0.31, b is 0.61 and final cv is 0.532530449445047\n"
     ]
    },
    {
     "name": "stderr",
     "output_type": "stream",
     "text": [
      "152it [7:15:06, 117.33s/it]"
     ]
    },
    {
     "name": "stdout",
     "output_type": "stream",
     "text": [
      "i is 1, k is 12, a is 0.31, b is 0.9099999999999999 and final cv is 0.5634462109981105\n"
     ]
    },
    {
     "name": "stderr",
     "output_type": "stream",
     "text": [
      "153it [7:16:49, 113.26s/it]"
     ]
    },
    {
     "name": "stdout",
     "output_type": "stream",
     "text": [
      "i is 1, k is 12, a is 0.61, b is 0.01 and final cv is 0.4755100123314658\n"
     ]
    },
    {
     "name": "stderr",
     "output_type": "stream",
     "text": [
      "154it [7:19:03, 119.45s/it]"
     ]
    },
    {
     "name": "stdout",
     "output_type": "stream",
     "text": [
      "i is 1, k is 12, a is 0.61, b is 0.31 and final cv is 0.5209560239495358\n"
     ]
    },
    {
     "name": "stderr",
     "output_type": "stream",
     "text": [
      "155it [7:21:34, 128.70s/it]"
     ]
    },
    {
     "name": "stdout",
     "output_type": "stream",
     "text": [
      "i is 1, k is 12, a is 0.61, b is 0.61 and final cv is 0.5720722316231767\n"
     ]
    },
    {
     "name": "stderr",
     "output_type": "stream",
     "text": [
      "156it [7:24:36, 144.94s/it]"
     ]
    },
    {
     "name": "stdout",
     "output_type": "stream",
     "text": [
      "i is 1, k is 12, a is 0.61, b is 0.9099999999999999 and final cv is 0.5748337600154448\n"
     ]
    },
    {
     "name": "stderr",
     "output_type": "stream",
     "text": [
      "157it [7:27:38, 155.99s/it]"
     ]
    },
    {
     "name": "stdout",
     "output_type": "stream",
     "text": [
      "i is 1, k is 12, a is 0.9099999999999999, b is 0.01 and final cv is 0.46726940652911075\n"
     ]
    },
    {
     "name": "stderr",
     "output_type": "stream",
     "text": [
      "158it [7:30:37, 162.76s/it]"
     ]
    },
    {
     "name": "stdout",
     "output_type": "stream",
     "text": [
      "i is 1, k is 12, a is 0.9099999999999999, b is 0.31 and final cv is 0.4987814769039686\n"
     ]
    },
    {
     "name": "stderr",
     "output_type": "stream",
     "text": [
      "159it [7:33:39, 168.57s/it]"
     ]
    },
    {
     "name": "stdout",
     "output_type": "stream",
     "text": [
      "i is 1, k is 12, a is 0.9099999999999999, b is 0.61 and final cv is 0.5297212195379079\n"
     ]
    },
    {
     "name": "stderr",
     "output_type": "stream",
     "text": [
      "160it [7:36:08, 162.79s/it]"
     ]
    },
    {
     "name": "stdout",
     "output_type": "stream",
     "text": [
      "i is 1, k is 12, a is 0.9099999999999999, b is 0.9099999999999999 and final cv is 0.5592916955417152\n"
     ]
    },
    {
     "name": "stderr",
     "output_type": "stream",
     "text": [
      "161it [7:37:37, 140.53s/it]"
     ]
    },
    {
     "name": "stdout",
     "output_type": "stream",
     "text": [
      "i is 1, k is 15, a is 0.01, b is 0.01 and final cv is 0.45864513802968726\n"
     ]
    },
    {
     "name": "stderr",
     "output_type": "stream",
     "text": [
      "162it [7:39:03, 124.34s/it]"
     ]
    },
    {
     "name": "stdout",
     "output_type": "stream",
     "text": [
      "i is 1, k is 15, a is 0.01, b is 0.31 and final cv is 0.5643437732299177\n"
     ]
    },
    {
     "name": "stderr",
     "output_type": "stream",
     "text": [
      "163it [7:40:28, 112.55s/it]"
     ]
    },
    {
     "name": "stdout",
     "output_type": "stream",
     "text": [
      "i is 1, k is 15, a is 0.01, b is 0.61 and final cv is 0.5377960498578409\n"
     ]
    },
    {
     "name": "stderr",
     "output_type": "stream",
     "text": [
      "164it [7:41:50, 103.26s/it]"
     ]
    },
    {
     "name": "stdout",
     "output_type": "stream",
     "text": [
      "i is 1, k is 15, a is 0.01, b is 0.9099999999999999 and final cv is 0.4190944194959208\n"
     ]
    },
    {
     "name": "stderr",
     "output_type": "stream",
     "text": [
      "165it [7:43:15, 97.79s/it] "
     ]
    },
    {
     "name": "stdout",
     "output_type": "stream",
     "text": [
      "i is 1, k is 15, a is 0.31, b is 0.01 and final cv is 0.4104177865887712\n"
     ]
    },
    {
     "name": "stderr",
     "output_type": "stream",
     "text": [
      "166it [7:44:40, 93.99s/it]"
     ]
    },
    {
     "name": "stdout",
     "output_type": "stream",
     "text": [
      "i is 1, k is 15, a is 0.31, b is 0.31 and final cv is 0.5041920955186985\n"
     ]
    },
    {
     "name": "stderr",
     "output_type": "stream",
     "text": [
      "167it [7:46:49, 104.36s/it]"
     ]
    },
    {
     "name": "stdout",
     "output_type": "stream",
     "text": [
      "i is 1, k is 15, a is 0.31, b is 0.61 and final cv is 0.5965428229835213\n"
     ]
    },
    {
     "name": "stderr",
     "output_type": "stream",
     "text": [
      "168it [7:49:46, 126.13s/it]"
     ]
    },
    {
     "name": "stdout",
     "output_type": "stream",
     "text": [
      "i is 1, k is 15, a is 0.31, b is 0.9099999999999999 and final cv is 0.5636681395449997\n"
     ]
    },
    {
     "name": "stderr",
     "output_type": "stream",
     "text": [
      "169it [7:52:15, 133.24s/it]"
     ]
    },
    {
     "name": "stdout",
     "output_type": "stream",
     "text": [
      "i is 1, k is 15, a is 0.61, b is 0.01 and final cv is 0.44878465150964936\n"
     ]
    },
    {
     "name": "stderr",
     "output_type": "stream",
     "text": [
      "170it [7:54:59, 142.42s/it]"
     ]
    },
    {
     "name": "stdout",
     "output_type": "stream",
     "text": [
      "i is 1, k is 15, a is 0.61, b is 0.31 and final cv is 0.5128951122508485\n"
     ]
    },
    {
     "name": "stderr",
     "output_type": "stream",
     "text": [
      "171it [7:57:33, 145.87s/it]"
     ]
    },
    {
     "name": "stdout",
     "output_type": "stream",
     "text": [
      "i is 1, k is 15, a is 0.61, b is 0.61 and final cv is 0.5465968258769851\n"
     ]
    },
    {
     "name": "stderr",
     "output_type": "stream",
     "text": [
      "172it [7:59:22, 134.91s/it]"
     ]
    },
    {
     "name": "stdout",
     "output_type": "stream",
     "text": [
      "i is 1, k is 15, a is 0.61, b is 0.9099999999999999 and final cv is 0.6038416133668643\n"
     ]
    },
    {
     "name": "stderr",
     "output_type": "stream",
     "text": [
      "173it [8:01:09, 126.38s/it]"
     ]
    },
    {
     "name": "stdout",
     "output_type": "stream",
     "text": [
      "i is 1, k is 15, a is 0.9099999999999999, b is 0.01 and final cv is 0.4504871398895386\n"
     ]
    },
    {
     "name": "stderr",
     "output_type": "stream",
     "text": [
      "174it [8:03:12, 125.40s/it]"
     ]
    },
    {
     "name": "stdout",
     "output_type": "stream",
     "text": [
      "i is 1, k is 15, a is 0.9099999999999999, b is 0.31 and final cv is 0.47391959470969586\n"
     ]
    },
    {
     "name": "stderr",
     "output_type": "stream",
     "text": [
      "175it [8:05:32, 129.78s/it]"
     ]
    },
    {
     "name": "stdout",
     "output_type": "stream",
     "text": [
      "i is 1, k is 15, a is 0.9099999999999999, b is 0.61 and final cv is 0.5564986610731082\n"
     ]
    },
    {
     "name": "stderr",
     "output_type": "stream",
     "text": [
      "176it [8:08:03, 136.18s/it]"
     ]
    },
    {
     "name": "stdout",
     "output_type": "stream",
     "text": [
      "i is 1, k is 15, a is 0.9099999999999999, b is 0.9099999999999999 and final cv is 0.5284681608811658\n"
     ]
    },
    {
     "name": "stderr",
     "output_type": "stream",
     "text": [
      "177it [8:10:40, 142.45s/it]"
     ]
    },
    {
     "name": "stdout",
     "output_type": "stream",
     "text": [
      "i is 1, k is 18, a is 0.01, b is 0.01 and final cv is 0.44012575320576924\n"
     ]
    },
    {
     "name": "stderr",
     "output_type": "stream",
     "text": [
      "178it [8:13:30, 150.60s/it]"
     ]
    },
    {
     "name": "stdout",
     "output_type": "stream",
     "text": [
      "i is 1, k is 18, a is 0.01, b is 0.31 and final cv is 0.5187089955332609\n"
     ]
    },
    {
     "name": "stderr",
     "output_type": "stream",
     "text": [
      "179it [8:16:23, 157.29s/it]"
     ]
    },
    {
     "name": "stdout",
     "output_type": "stream",
     "text": [
      "i is 1, k is 18, a is 0.01, b is 0.61 and final cv is 0.5061224457514926\n"
     ]
    },
    {
     "name": "stderr",
     "output_type": "stream",
     "text": [
      "180it [8:19:29, 165.92s/it]"
     ]
    },
    {
     "name": "stdout",
     "output_type": "stream",
     "text": [
      "i is 1, k is 18, a is 0.01, b is 0.9099999999999999 and final cv is 0.4263228679873421\n"
     ]
    },
    {
     "name": "stderr",
     "output_type": "stream",
     "text": [
      "181it [8:21:35, 154.00s/it]"
     ]
    },
    {
     "name": "stdout",
     "output_type": "stream",
     "text": [
      "i is 1, k is 18, a is 0.31, b is 0.01 and final cv is 0.39453032836950414\n"
     ]
    },
    {
     "name": "stderr",
     "output_type": "stream",
     "text": [
      "182it [8:23:33, 143.24s/it]"
     ]
    },
    {
     "name": "stdout",
     "output_type": "stream",
     "text": [
      "i is 1, k is 18, a is 0.31, b is 0.31 and final cv is 0.48852804135403766\n"
     ]
    },
    {
     "name": "stderr",
     "output_type": "stream",
     "text": [
      "183it [8:25:15, 130.74s/it]"
     ]
    },
    {
     "name": "stdout",
     "output_type": "stream",
     "text": [
      "i is 1, k is 18, a is 0.31, b is 0.61 and final cv is 0.5572191172379543\n"
     ]
    },
    {
     "name": "stderr",
     "output_type": "stream",
     "text": [
      "184it [8:27:02, 123.85s/it]"
     ]
    },
    {
     "name": "stdout",
     "output_type": "stream",
     "text": [
      "i is 1, k is 18, a is 0.31, b is 0.9099999999999999 and final cv is 0.5206052397215961\n"
     ]
    },
    {
     "name": "stderr",
     "output_type": "stream",
     "text": [
      "185it [8:28:53, 119.85s/it]"
     ]
    },
    {
     "name": "stdout",
     "output_type": "stream",
     "text": [
      "i is 1, k is 18, a is 0.61, b is 0.01 and final cv is 0.4341872529569428\n"
     ]
    },
    {
     "name": "stderr",
     "output_type": "stream",
     "text": [
      "186it [8:30:34, 114.33s/it]"
     ]
    },
    {
     "name": "stdout",
     "output_type": "stream",
     "text": [
      "i is 1, k is 18, a is 0.61, b is 0.31 and final cv is 0.5497589830818439\n"
     ]
    },
    {
     "name": "stderr",
     "output_type": "stream",
     "text": [
      "187it [8:32:21, 111.93s/it]"
     ]
    },
    {
     "name": "stdout",
     "output_type": "stream",
     "text": [
      "i is 1, k is 18, a is 0.61, b is 0.61 and final cv is 0.5429129859782015\n"
     ]
    },
    {
     "name": "stderr",
     "output_type": "stream",
     "text": [
      "188it [8:34:01, 108.32s/it]"
     ]
    },
    {
     "name": "stdout",
     "output_type": "stream",
     "text": [
      "i is 1, k is 18, a is 0.61, b is 0.9099999999999999 and final cv is 0.5963154361548297\n"
     ]
    },
    {
     "name": "stderr",
     "output_type": "stream",
     "text": [
      "189it [8:35:43, 106.60s/it]"
     ]
    },
    {
     "name": "stdout",
     "output_type": "stream",
     "text": [
      "i is 1, k is 18, a is 0.9099999999999999, b is 0.01 and final cv is 0.44611457893945644\n"
     ]
    },
    {
     "name": "stderr",
     "output_type": "stream",
     "text": [
      "190it [8:37:29, 106.32s/it]"
     ]
    },
    {
     "name": "stdout",
     "output_type": "stream",
     "text": [
      "i is 1, k is 18, a is 0.9099999999999999, b is 0.31 and final cv is 0.5015716128159027\n"
     ]
    },
    {
     "name": "stderr",
     "output_type": "stream",
     "text": [
      "191it [8:39:04, 102.98s/it]"
     ]
    },
    {
     "name": "stdout",
     "output_type": "stream",
     "text": [
      "i is 1, k is 18, a is 0.9099999999999999, b is 0.61 and final cv is 0.5594686681415737\n"
     ]
    },
    {
     "name": "stderr",
     "output_type": "stream",
     "text": [
      "192it [8:40:37, 99.83s/it] "
     ]
    },
    {
     "name": "stdout",
     "output_type": "stream",
     "text": [
      "i is 1, k is 18, a is 0.9099999999999999, b is 0.9099999999999999 and final cv is 0.5548121289771473\n"
     ]
    },
    {
     "name": "stderr",
     "output_type": "stream",
     "text": [
      "192it [8:40:37, 162.69s/it]\n"
     ]
    }
   ],
   "source": [
    "corpus_title = ['75% Corpus', '100% Corpus']\n",
    "model_results = {'Validation_Set': [],\n",
    "                 'Topics': [],\n",
    "                 'Alpha': [],\n",
    "                 'Beta': [],\n",
    "                 'Coherence': []\n",
    "                }\n",
    "# Can take a long time to run\n",
    "if 1 == 1:\n",
    "    pbar = tqdm.tqdm(total=10)\n",
    "    \n",
    "    # iterate through validation corpuses\n",
    "    for i in range(len(corpus_sets)):\n",
    "        # iterate through number of topics\n",
    "        for k in topics_range:\n",
    "            # iterate through alpha values\n",
    "            for a in alpha:\n",
    "                # iterare through beta values\n",
    "                for b in beta:\n",
    "                    # get the coherence score for the given parameters\n",
    "                    cv =0\n",
    "                    #print( \"i is {}, k is {}, a is {}, b is {}\".format(i,k,a,b) )\n",
    "                    cv = compute_coherence_values(corpus_sets[i],extracted_data,dictionary,k,a,b)\n",
    "                    print( \"i is {}, k is {}, a is {}, b is {} and final cv is {}\".format(i,k,a,b,cv) )\n",
    "                    # Save the model results\n",
    "                    model_results['Validation_Set'].append(corpus_title[i])\n",
    "                    model_results['Topics'].append(k)\n",
    "                    model_results['Alpha'].append(a)\n",
    "                    model_results['Beta'].append(b)\n",
    "                    model_results['Coherence'].append(cv)\n",
    "                    pbar.update(1)\n",
    "    pd.DataFrame(model_results).to_csv('lda_tuning_results.csv', index=False)\n",
    "    pbar.close()"
   ]
  },
  {
   "cell_type": "code",
   "execution_count": 69,
   "metadata": {},
   "outputs": [],
   "source": [
    "tuneResults=pd.read_csv('lda_tuning_results.csv')"
   ]
  },
  {
   "cell_type": "code",
   "execution_count": 70,
   "metadata": {},
   "outputs": [
    {
     "data": {
      "text/html": [
       "<div>\n",
       "<style scoped>\n",
       "    .dataframe tbody tr th:only-of-type {\n",
       "        vertical-align: middle;\n",
       "    }\n",
       "\n",
       "    .dataframe tbody tr th {\n",
       "        vertical-align: top;\n",
       "    }\n",
       "\n",
       "    .dataframe thead th {\n",
       "        text-align: right;\n",
       "    }\n",
       "</style>\n",
       "<table border=\"1\" class=\"dataframe\">\n",
       "  <thead>\n",
       "    <tr style=\"text-align: right;\">\n",
       "      <th></th>\n",
       "      <th>Validation_Set</th>\n",
       "      <th>Topics</th>\n",
       "      <th>Alpha</th>\n",
       "      <th>Beta</th>\n",
       "      <th>Coherence</th>\n",
       "    </tr>\n",
       "  </thead>\n",
       "  <tbody>\n",
       "    <tr>\n",
       "      <th>0</th>\n",
       "      <td>75% Corpus</td>\n",
       "      <td>3</td>\n",
       "      <td>0.01</td>\n",
       "      <td>0.01</td>\n",
       "      <td>0.472949</td>\n",
       "    </tr>\n",
       "    <tr>\n",
       "      <th>1</th>\n",
       "      <td>75% Corpus</td>\n",
       "      <td>3</td>\n",
       "      <td>0.01</td>\n",
       "      <td>0.31</td>\n",
       "      <td>0.470218</td>\n",
       "    </tr>\n",
       "    <tr>\n",
       "      <th>2</th>\n",
       "      <td>75% Corpus</td>\n",
       "      <td>3</td>\n",
       "      <td>0.01</td>\n",
       "      <td>0.61</td>\n",
       "      <td>0.429090</td>\n",
       "    </tr>\n",
       "    <tr>\n",
       "      <th>3</th>\n",
       "      <td>75% Corpus</td>\n",
       "      <td>3</td>\n",
       "      <td>0.01</td>\n",
       "      <td>0.91</td>\n",
       "      <td>0.455688</td>\n",
       "    </tr>\n",
       "    <tr>\n",
       "      <th>4</th>\n",
       "      <td>75% Corpus</td>\n",
       "      <td>3</td>\n",
       "      <td>0.31</td>\n",
       "      <td>0.01</td>\n",
       "      <td>0.509521</td>\n",
       "    </tr>\n",
       "  </tbody>\n",
       "</table>\n",
       "</div>"
      ],
      "text/plain": [
       "  Validation_Set  Topics  Alpha  Beta  Coherence\n",
       "0     75% Corpus       3   0.01  0.01   0.472949\n",
       "1     75% Corpus       3   0.01  0.31   0.470218\n",
       "2     75% Corpus       3   0.01  0.61   0.429090\n",
       "3     75% Corpus       3   0.01  0.91   0.455688\n",
       "4     75% Corpus       3   0.31  0.01   0.509521"
      ]
     },
     "execution_count": 70,
     "metadata": {},
     "output_type": "execute_result"
    }
   ],
   "source": [
    "tuneResults.head()"
   ]
  },
  {
   "cell_type": "code",
   "execution_count": 71,
   "metadata": {},
   "outputs": [
    {
     "data": {
      "text/html": [
       "<div>\n",
       "<style scoped>\n",
       "    .dataframe tbody tr th:only-of-type {\n",
       "        vertical-align: middle;\n",
       "    }\n",
       "\n",
       "    .dataframe tbody tr th {\n",
       "        vertical-align: top;\n",
       "    }\n",
       "\n",
       "    .dataframe thead th {\n",
       "        text-align: right;\n",
       "    }\n",
       "</style>\n",
       "<table border=\"1\" class=\"dataframe\">\n",
       "  <thead>\n",
       "    <tr style=\"text-align: right;\">\n",
       "      <th></th>\n",
       "      <th>Validation_Set</th>\n",
       "      <th>Topics</th>\n",
       "      <th>Alpha</th>\n",
       "      <th>Beta</th>\n",
       "      <th>Coherence</th>\n",
       "    </tr>\n",
       "  </thead>\n",
       "  <tbody>\n",
       "    <tr>\n",
       "      <th>91</th>\n",
       "      <td>75% Corpus</td>\n",
       "      <td>18</td>\n",
       "      <td>0.61</td>\n",
       "      <td>0.91</td>\n",
       "      <td>0.657931</td>\n",
       "    </tr>\n",
       "  </tbody>\n",
       "</table>\n",
       "</div>"
      ],
      "text/plain": [
       "   Validation_Set  Topics  Alpha  Beta  Coherence\n",
       "91     75% Corpus      18   0.61  0.91   0.657931"
      ]
     },
     "execution_count": 71,
     "metadata": {},
     "output_type": "execute_result"
    }
   ],
   "source": [
    "tuneResults[tuneResults.Coherence == tuneResults.Coherence.values.ravel().max()]"
   ]
  },
  {
   "cell_type": "code",
   "execution_count": 97,
   "metadata": {},
   "outputs": [
    {
     "data": {
      "text/html": [
       "<div>\n",
       "<style scoped>\n",
       "    .dataframe tbody tr th:only-of-type {\n",
       "        vertical-align: middle;\n",
       "    }\n",
       "\n",
       "    .dataframe tbody tr th {\n",
       "        vertical-align: top;\n",
       "    }\n",
       "\n",
       "    .dataframe thead th {\n",
       "        text-align: right;\n",
       "    }\n",
       "</style>\n",
       "<table border=\"1\" class=\"dataframe\">\n",
       "  <thead>\n",
       "    <tr style=\"text-align: right;\">\n",
       "      <th></th>\n",
       "      <th>Validation_Set</th>\n",
       "      <th>Topics</th>\n",
       "      <th>Alpha</th>\n",
       "      <th>Beta</th>\n",
       "      <th>Coherence</th>\n",
       "    </tr>\n",
       "  </thead>\n",
       "  <tbody>\n",
       "    <tr>\n",
       "      <th>34</th>\n",
       "      <td>75% Corpus</td>\n",
       "      <td>9</td>\n",
       "      <td>0.01</td>\n",
       "      <td>0.61</td>\n",
       "      <td>0.593486</td>\n",
       "    </tr>\n",
       "    <tr>\n",
       "      <th>35</th>\n",
       "      <td>75% Corpus</td>\n",
       "      <td>9</td>\n",
       "      <td>0.01</td>\n",
       "      <td>0.91</td>\n",
       "      <td>0.593204</td>\n",
       "    </tr>\n",
       "    <tr>\n",
       "      <th>54</th>\n",
       "      <td>75% Corpus</td>\n",
       "      <td>12</td>\n",
       "      <td>0.31</td>\n",
       "      <td>0.61</td>\n",
       "      <td>0.582094</td>\n",
       "    </tr>\n",
       "    <tr>\n",
       "      <th>59</th>\n",
       "      <td>75% Corpus</td>\n",
       "      <td>12</td>\n",
       "      <td>0.61</td>\n",
       "      <td>0.91</td>\n",
       "      <td>0.583300</td>\n",
       "    </tr>\n",
       "    <tr>\n",
       "      <th>70</th>\n",
       "      <td>75% Corpus</td>\n",
       "      <td>15</td>\n",
       "      <td>0.31</td>\n",
       "      <td>0.61</td>\n",
       "      <td>0.601347</td>\n",
       "    </tr>\n",
       "    <tr>\n",
       "      <th>75</th>\n",
       "      <td>75% Corpus</td>\n",
       "      <td>15</td>\n",
       "      <td>0.61</td>\n",
       "      <td>0.91</td>\n",
       "      <td>0.587688</td>\n",
       "    </tr>\n",
       "    <tr>\n",
       "      <th>91</th>\n",
       "      <td>75% Corpus</td>\n",
       "      <td>18</td>\n",
       "      <td>0.61</td>\n",
       "      <td>0.91</td>\n",
       "      <td>0.657931</td>\n",
       "    </tr>\n",
       "    <tr>\n",
       "      <th>94</th>\n",
       "      <td>75% Corpus</td>\n",
       "      <td>18</td>\n",
       "      <td>0.91</td>\n",
       "      <td>0.61</td>\n",
       "      <td>0.587074</td>\n",
       "    </tr>\n",
       "    <tr>\n",
       "      <th>131</th>\n",
       "      <td>100% Corpus</td>\n",
       "      <td>9</td>\n",
       "      <td>0.01</td>\n",
       "      <td>0.91</td>\n",
       "      <td>0.609643</td>\n",
       "    </tr>\n",
       "    <tr>\n",
       "      <th>135</th>\n",
       "      <td>100% Corpus</td>\n",
       "      <td>9</td>\n",
       "      <td>0.31</td>\n",
       "      <td>0.91</td>\n",
       "      <td>0.586155</td>\n",
       "    </tr>\n",
       "    <tr>\n",
       "      <th>138</th>\n",
       "      <td>100% Corpus</td>\n",
       "      <td>9</td>\n",
       "      <td>0.61</td>\n",
       "      <td>0.61</td>\n",
       "      <td>0.582640</td>\n",
       "    </tr>\n",
       "    <tr>\n",
       "      <th>166</th>\n",
       "      <td>100% Corpus</td>\n",
       "      <td>15</td>\n",
       "      <td>0.31</td>\n",
       "      <td>0.61</td>\n",
       "      <td>0.596543</td>\n",
       "    </tr>\n",
       "    <tr>\n",
       "      <th>171</th>\n",
       "      <td>100% Corpus</td>\n",
       "      <td>15</td>\n",
       "      <td>0.61</td>\n",
       "      <td>0.91</td>\n",
       "      <td>0.603842</td>\n",
       "    </tr>\n",
       "    <tr>\n",
       "      <th>187</th>\n",
       "      <td>100% Corpus</td>\n",
       "      <td>18</td>\n",
       "      <td>0.61</td>\n",
       "      <td>0.91</td>\n",
       "      <td>0.596315</td>\n",
       "    </tr>\n",
       "  </tbody>\n",
       "</table>\n",
       "</div>"
      ],
      "text/plain": [
       "    Validation_Set  Topics  Alpha  Beta  Coherence\n",
       "34      75% Corpus       9   0.01  0.61   0.593486\n",
       "35      75% Corpus       9   0.01  0.91   0.593204\n",
       "54      75% Corpus      12   0.31  0.61   0.582094\n",
       "59      75% Corpus      12   0.61  0.91   0.583300\n",
       "70      75% Corpus      15   0.31  0.61   0.601347\n",
       "75      75% Corpus      15   0.61  0.91   0.587688\n",
       "91      75% Corpus      18   0.61  0.91   0.657931\n",
       "94      75% Corpus      18   0.91  0.61   0.587074\n",
       "131    100% Corpus       9   0.01  0.91   0.609643\n",
       "135    100% Corpus       9   0.31  0.91   0.586155\n",
       "138    100% Corpus       9   0.61  0.61   0.582640\n",
       "166    100% Corpus      15   0.31  0.61   0.596543\n",
       "171    100% Corpus      15   0.61  0.91   0.603842\n",
       "187    100% Corpus      18   0.61  0.91   0.596315"
      ]
     },
     "execution_count": 97,
     "metadata": {},
     "output_type": "execute_result"
    }
   ],
   "source": [
    "tuneResults[tuneResults.Coherence > 0.58]"
   ]
  },
  {
   "cell_type": "code",
   "execution_count": 82,
   "metadata": {},
   "outputs": [
    {
     "data": {
      "text/plain": [
       "<matplotlib.collections.PathCollection at 0x16c0ece9cc8>"
      ]
     },
     "execution_count": 82,
     "metadata": {},
     "output_type": "execute_result"
    },
    {
     "data": {
      "image/png": "[encoded data removed]",
      "text/plain": [
       "<Figure size 432x288 with 1 Axes>"
      ]
     },
     "metadata": {
      "needs_background": "light"
     },
     "output_type": "display_data"
    }
   ],
   "source": [
    "plt.scatter(tuneResults['Topics'],tuneResults['Coherence'])"
   ]
  },
  {
   "cell_type": "code",
   "execution_count": 75,
   "metadata": {},
   "outputs": [
    {
     "data": {
      "text/plain": [
       "Index(['Validation_Set', 'Topics', 'Alpha', 'Beta', 'Coherence'], dtype='object')"
      ]
     },
     "execution_count": 75,
     "metadata": {},
     "output_type": "execute_result"
    }
   ],
   "source": [
    "tuneResults.columns"
   ]
  },
  {
   "cell_type": "code",
   "execution_count": 76,
   "metadata": {},
   "outputs": [
    {
     "data": {
      "text/html": [
       "<div>\n",
       "<style scoped>\n",
       "    .dataframe tbody tr th:only-of-type {\n",
       "        vertical-align: middle;\n",
       "    }\n",
       "\n",
       "    .dataframe tbody tr th {\n",
       "        vertical-align: top;\n",
       "    }\n",
       "\n",
       "    .dataframe thead th {\n",
       "        text-align: right;\n",
       "    }\n",
       "</style>\n",
       "<table border=\"1\" class=\"dataframe\">\n",
       "  <thead>\n",
       "    <tr style=\"text-align: right;\">\n",
       "      <th></th>\n",
       "      <th>Validation_Set</th>\n",
       "      <th>Topics</th>\n",
       "      <th>Alpha</th>\n",
       "      <th>Beta</th>\n",
       "      <th>Coherence</th>\n",
       "    </tr>\n",
       "  </thead>\n",
       "  <tbody>\n",
       "    <tr>\n",
       "      <th>91</th>\n",
       "      <td>75% Corpus</td>\n",
       "      <td>18</td>\n",
       "      <td>0.61</td>\n",
       "      <td>0.91</td>\n",
       "      <td>0.657931</td>\n",
       "    </tr>\n",
       "  </tbody>\n",
       "</table>\n",
       "</div>"
      ],
      "text/plain": [
       "   Validation_Set  Topics  Alpha  Beta  Coherence\n",
       "91     75% Corpus      18   0.61  0.91   0.657931"
      ]
     },
     "execution_count": 76,
     "metadata": {},
     "output_type": "execute_result"
    }
   ],
   "source": [
    "tuneResults[tuneResults.Coherence==tuneResults.Coherence.values.ravel().max()]"
   ]
  },
  {
   "cell_type": "code",
   "execution_count": 77,
   "metadata": {},
   "outputs": [
    {
     "data": {
      "text/html": [
       "<div>\n",
       "<style scoped>\n",
       "    .dataframe tbody tr th:only-of-type {\n",
       "        vertical-align: middle;\n",
       "    }\n",
       "\n",
       "    .dataframe tbody tr th {\n",
       "        vertical-align: top;\n",
       "    }\n",
       "\n",
       "    .dataframe thead th {\n",
       "        text-align: right;\n",
       "    }\n",
       "</style>\n",
       "<table border=\"1\" class=\"dataframe\">\n",
       "  <thead>\n",
       "    <tr style=\"text-align: right;\">\n",
       "      <th></th>\n",
       "      <th>Validation_Set</th>\n",
       "      <th>Topics</th>\n",
       "      <th>Alpha</th>\n",
       "      <th>Beta</th>\n",
       "      <th>Coherence</th>\n",
       "    </tr>\n",
       "  </thead>\n",
       "  <tbody>\n",
       "    <tr>\n",
       "      <th>34</th>\n",
       "      <td>75% Corpus</td>\n",
       "      <td>9</td>\n",
       "      <td>0.01</td>\n",
       "      <td>0.61</td>\n",
       "      <td>0.593486</td>\n",
       "    </tr>\n",
       "    <tr>\n",
       "      <th>35</th>\n",
       "      <td>75% Corpus</td>\n",
       "      <td>9</td>\n",
       "      <td>0.01</td>\n",
       "      <td>0.91</td>\n",
       "      <td>0.593204</td>\n",
       "    </tr>\n",
       "    <tr>\n",
       "      <th>54</th>\n",
       "      <td>75% Corpus</td>\n",
       "      <td>12</td>\n",
       "      <td>0.31</td>\n",
       "      <td>0.61</td>\n",
       "      <td>0.582094</td>\n",
       "    </tr>\n",
       "    <tr>\n",
       "      <th>59</th>\n",
       "      <td>75% Corpus</td>\n",
       "      <td>12</td>\n",
       "      <td>0.61</td>\n",
       "      <td>0.91</td>\n",
       "      <td>0.583300</td>\n",
       "    </tr>\n",
       "    <tr>\n",
       "      <th>70</th>\n",
       "      <td>75% Corpus</td>\n",
       "      <td>15</td>\n",
       "      <td>0.31</td>\n",
       "      <td>0.61</td>\n",
       "      <td>0.601347</td>\n",
       "    </tr>\n",
       "    <tr>\n",
       "      <th>75</th>\n",
       "      <td>75% Corpus</td>\n",
       "      <td>15</td>\n",
       "      <td>0.61</td>\n",
       "      <td>0.91</td>\n",
       "      <td>0.587688</td>\n",
       "    </tr>\n",
       "    <tr>\n",
       "      <th>91</th>\n",
       "      <td>75% Corpus</td>\n",
       "      <td>18</td>\n",
       "      <td>0.61</td>\n",
       "      <td>0.91</td>\n",
       "      <td>0.657931</td>\n",
       "    </tr>\n",
       "    <tr>\n",
       "      <th>94</th>\n",
       "      <td>75% Corpus</td>\n",
       "      <td>18</td>\n",
       "      <td>0.91</td>\n",
       "      <td>0.61</td>\n",
       "      <td>0.587074</td>\n",
       "    </tr>\n",
       "    <tr>\n",
       "      <th>131</th>\n",
       "      <td>100% Corpus</td>\n",
       "      <td>9</td>\n",
       "      <td>0.01</td>\n",
       "      <td>0.91</td>\n",
       "      <td>0.609643</td>\n",
       "    </tr>\n",
       "    <tr>\n",
       "      <th>135</th>\n",
       "      <td>100% Corpus</td>\n",
       "      <td>9</td>\n",
       "      <td>0.31</td>\n",
       "      <td>0.91</td>\n",
       "      <td>0.586155</td>\n",
       "    </tr>\n",
       "    <tr>\n",
       "      <th>138</th>\n",
       "      <td>100% Corpus</td>\n",
       "      <td>9</td>\n",
       "      <td>0.61</td>\n",
       "      <td>0.61</td>\n",
       "      <td>0.582640</td>\n",
       "    </tr>\n",
       "    <tr>\n",
       "      <th>166</th>\n",
       "      <td>100% Corpus</td>\n",
       "      <td>15</td>\n",
       "      <td>0.31</td>\n",
       "      <td>0.61</td>\n",
       "      <td>0.596543</td>\n",
       "    </tr>\n",
       "    <tr>\n",
       "      <th>171</th>\n",
       "      <td>100% Corpus</td>\n",
       "      <td>15</td>\n",
       "      <td>0.61</td>\n",
       "      <td>0.91</td>\n",
       "      <td>0.603842</td>\n",
       "    </tr>\n",
       "    <tr>\n",
       "      <th>187</th>\n",
       "      <td>100% Corpus</td>\n",
       "      <td>18</td>\n",
       "      <td>0.61</td>\n",
       "      <td>0.91</td>\n",
       "      <td>0.596315</td>\n",
       "    </tr>\n",
       "  </tbody>\n",
       "</table>\n",
       "</div>"
      ],
      "text/plain": [
       "    Validation_Set  Topics  Alpha  Beta  Coherence\n",
       "34      75% Corpus       9   0.01  0.61   0.593486\n",
       "35      75% Corpus       9   0.01  0.91   0.593204\n",
       "54      75% Corpus      12   0.31  0.61   0.582094\n",
       "59      75% Corpus      12   0.61  0.91   0.583300\n",
       "70      75% Corpus      15   0.31  0.61   0.601347\n",
       "75      75% Corpus      15   0.61  0.91   0.587688\n",
       "91      75% Corpus      18   0.61  0.91   0.657931\n",
       "94      75% Corpus      18   0.91  0.61   0.587074\n",
       "131    100% Corpus       9   0.01  0.91   0.609643\n",
       "135    100% Corpus       9   0.31  0.91   0.586155\n",
       "138    100% Corpus       9   0.61  0.61   0.582640\n",
       "166    100% Corpus      15   0.31  0.61   0.596543\n",
       "171    100% Corpus      15   0.61  0.91   0.603842\n",
       "187    100% Corpus      18   0.61  0.91   0.596315"
      ]
     },
     "execution_count": 77,
     "metadata": {},
     "output_type": "execute_result"
    }
   ],
   "source": [
    "tuneResults[tuneResults.Coherence > 0.58]"
   ]
  },
  {
   "cell_type": "code",
   "execution_count": 78,
   "metadata": {},
   "outputs": [
    {
     "data": {
      "text/plain": [
       "91     0.657931\n",
       "131    0.609643\n",
       "171    0.603842\n",
       "70     0.601347\n",
       "166    0.596543\n",
       "187    0.596315\n",
       "34     0.593486\n",
       "35     0.593204\n",
       "75     0.587688\n",
       "94     0.587074\n",
       "135    0.586155\n",
       "59     0.583300\n",
       "138    0.582640\n",
       "54     0.582094\n",
       "39     0.579713\n",
       "55     0.578456\n",
       "42     0.576858\n",
       "155    0.574834\n",
       "38     0.574297\n",
       "154    0.572072\n",
       "63     0.571860\n",
       "146    0.570031\n",
       "130    0.567021\n",
       "43     0.566107\n",
       "161    0.564344\n",
       "167    0.563668\n",
       "151    0.563446\n",
       "14     0.562894\n",
       "46     0.561396\n",
       "115    0.560768\n",
       "86     0.560306\n",
       "190    0.559469\n",
       "66     0.559418\n",
       "159    0.559292\n",
       "182    0.557219\n",
       "174    0.556499\n",
       "191    0.554812\n",
       "142    0.553672\n",
       "134    0.553580\n",
       "19     0.553357\n",
       "50     0.552725\n",
       "110    0.551438\n",
       "Name: Coherence, dtype: float64"
      ]
     },
     "execution_count": 78,
     "metadata": {},
     "output_type": "execute_result"
    }
   ],
   "source": [
    "tuneResults[tuneResults.Coherence > 0.55].Coherence.sort_values(ascending=False)"
   ]
  },
  {
   "cell_type": "code",
   "execution_count": 85,
   "metadata": {},
   "outputs": [],
   "source": [
    "lda_model=gensim.models.LdaMulticore(corpus=bow_corpus,\n",
    "                                        id2word=dictionary,\n",
    "                                        num_topics=18,\n",
    "                                        random_state=100,\n",
    "                                        chunksize=100,\n",
    "                                        passes=10,\n",
    "                                        alpha=.61,\n",
    "                                        eta=.91,\n",
    "                                        per_word_topics=True)"
   ]
  },
  {
   "cell_type": "code",
   "execution_count": 98,
   "metadata": {},
   "outputs": [
    {
     "name": "stdout",
     "output_type": "stream",
     "text": [
      "Coherence_Score :  0.6605331807651998\n"
     ]
    }
   ],
   "source": [
    "coherence_model_lda=CoherenceModel(model=lda_model,texts=extracted_data,dictionary=dictionary)\n",
    "coherence_lda=coherence_model_lda.get_coherence()\n",
    "print(\"Coherence_Score : \",coherence_lda)"
   ]
  },
  {
   "cell_type": "code",
   "execution_count": 99,
   "metadata": {},
   "outputs": [
    {
     "name": "stdout",
     "output_type": "stream",
     "text": [
      "Collecting pyLDAvis\n",
      "  Downloading pyLDAvis-2.1.2.tar.gz (1.6 MB)\n",
      "Requirement already satisfied: wheel>=0.23.0 in c:\\users\\prasath\\anaconda3\\lib\\site-packages (from pyLDAvis) (0.34.2)\n",
      "Requirement already satisfied: numpy>=1.9.2 in c:\\users\\prasath\\anaconda3\\lib\\site-packages (from pyLDAvis) (1.18.1)\n",
      "Requirement already satisfied: scipy>=0.18.0 in c:\\users\\prasath\\anaconda3\\lib\\site-packages (from pyLDAvis) (1.4.1)\n",
      "Requirement already satisfied: pandas>=0.17.0 in c:\\users\\prasath\\anaconda3\\lib\\site-packages (from pyLDAvis) (1.0.1)\n",
      "Requirement already satisfied: joblib>=0.8.4 in c:\\users\\prasath\\anaconda3\\lib\\site-packages (from pyLDAvis) (0.14.1)\n",
      "Requirement already satisfied: jinja2>=2.7.2 in c:\\users\\prasath\\anaconda3\\lib\\site-packages (from pyLDAvis) (2.11.1)\n",
      "Requirement already satisfied: numexpr in c:\\users\\prasath\\anaconda3\\lib\\site-packages (from pyLDAvis) (2.7.1)\n",
      "Requirement already satisfied: pytest in c:\\users\\prasath\\anaconda3\\lib\\site-packages (from pyLDAvis) (5.3.5)\n",
      "Requirement already satisfied: future in c:\\users\\prasath\\anaconda3\\lib\\site-packages (from pyLDAvis) (0.18.2)\n",
      "Collecting funcy\n",
      "  Downloading funcy-1.14.tar.gz (548 kB)\n",
      "Requirement already satisfied: python-dateutil>=2.6.1 in c:\\users\\prasath\\anaconda3\\lib\\site-packages (from pandas>=0.17.0->pyLDAvis) (2.8.1)\n",
      "Requirement already satisfied: pytz>=2017.2 in c:\\users\\prasath\\anaconda3\\lib\\site-packages (from pandas>=0.17.0->pyLDAvis) (2019.3)\n",
      "Requirement already satisfied: MarkupSafe>=0.23 in c:\\users\\prasath\\anaconda3\\lib\\site-packages (from jinja2>=2.7.2->pyLDAvis) (1.1.1)\n",
      "Requirement already satisfied: py>=1.5.0 in c:\\users\\prasath\\anaconda3\\lib\\site-packages (from pytest->pyLDAvis) (1.8.1)\n",
      "Requirement already satisfied: packaging in c:\\users\\prasath\\anaconda3\\lib\\site-packages (from pytest->pyLDAvis) (20.1)\n",
      "Requirement already satisfied: attrs>=17.4.0 in c:\\users\\prasath\\anaconda3\\lib\\site-packages (from pytest->pyLDAvis) (19.3.0)\n",
      "Requirement already satisfied: more-itertools>=4.0.0 in c:\\users\\prasath\\anaconda3\\lib\\site-packages (from pytest->pyLDAvis) (8.2.0)\n",
      "Requirement already satisfied: pluggy<1.0,>=0.12 in c:\\users\\prasath\\anaconda3\\lib\\site-packages (from pytest->pyLDAvis) (0.13.1)\n",
      "Requirement already satisfied: wcwidth in c:\\users\\prasath\\anaconda3\\lib\\site-packages (from pytest->pyLDAvis) (0.1.8)\n",
      "Requirement already satisfied: importlib-metadata>=0.12 in c:\\users\\prasath\\anaconda3\\lib\\site-packages (from pytest->pyLDAvis) (1.5.0)\n",
      "Requirement already satisfied: atomicwrites>=1.0 in c:\\users\\prasath\\anaconda3\\lib\\site-packages (from pytest->pyLDAvis) (1.3.0)\n",
      "Requirement already satisfied: colorama in c:\\users\\prasath\\anaconda3\\lib\\site-packages (from pytest->pyLDAvis) (0.4.3)\n",
      "Requirement already satisfied: six>=1.5 in c:\\users\\prasath\\anaconda3\\lib\\site-packages (from python-dateutil>=2.6.1->pandas>=0.17.0->pyLDAvis) (1.14.0)\n",
      "Requirement already satisfied: pyparsing>=2.0.2 in c:\\users\\prasath\\anaconda3\\lib\\site-packages (from packaging->pytest->pyLDAvis) (2.4.6)\n",
      "Requirement already satisfied: zipp>=0.5 in c:\\users\\prasath\\anaconda3\\lib\\site-packages (from importlib-metadata>=0.12->pytest->pyLDAvis) (2.2.0)\n",
      "Building wheels for collected packages: pyLDAvis, funcy\n",
      "  Building wheel for pyLDAvis (setup.py): started\n",
      "  Building wheel for pyLDAvis (setup.py): finished with status 'done'\n",
      "  Created wheel for pyLDAvis: filename=pyLDAvis-2.1.2-py2.py3-none-any.whl size=97716 sha256=2af42b192a5f19e60fdff7772394e1637ec918e322025a00a6a9ce7c3c4ad79a\n",
      "  Stored in directory: c:\\users\\prasath\\appdata\\local\\pip\\cache\\wheels\\3b\\fb\\41\\e32e5312da9f440d34c4eff0d2207b46dc9332a7b931ef1e89\n",
      "  Building wheel for funcy (setup.py): started\n",
      "  Building wheel for funcy (setup.py): finished with status 'done'\n",
      "  Created wheel for funcy: filename=funcy-1.14-py2.py3-none-any.whl size=32045 sha256=d39d9654ddce09b9a02e8bd3f14afd609a98c8f1365c8931d3371a427e992f20\n",
      "  Stored in directory: c:\\users\\prasath\\appdata\\local\\pip\\cache\\wheels\\3c\\33\\97\\805b282e129f60bb4e87cea622338f30b65f21eaf65219971f\n",
      "Successfully built pyLDAvis funcy\n",
      "Installing collected packages: funcy, pyLDAvis\n",
      "Successfully installed funcy-1.14 pyLDAvis-2.1.2\n",
      "Note: you may need to restart the kernel to use updated packages.\n"
     ]
    }
   ],
   "source": [
    "pip install pyLDAvis"
   ]
  },
  {
   "cell_type": "code",
   "execution_count": 100,
   "metadata": {},
   "outputs": [
    {
     "data": {
      "text/html": [
       "\n",
       "<link rel=\"stylesheet\" type=\"text/css\" href=\"https://cdn.rawgit.com/bmabey/pyLDAvis/files/ldavis.v1.0.0.css\">\n",
       "\n",
       "\n",
       "<div id=\"ldavis_el2812415636165993683928387701\"></div>\n",
       "<script type=\"text/javascript\">\n",
       "\n",
       "var ldavis_el2812415636165993683928387701_data = {\"mdsDat\": {\"x\": [-0.24862873157599066, -0.19667488973585473, 0.0450888199498356, 0.03699824495363327, 0.030813152796272628, 0.03521093092167554, 0.028296417477031686, 0.025771993308181747, 0.025700805086514372, 0.025310964744993288, 0.024523656387557994, 0.024287920401820297, 0.02388338356069443, 0.02388362013290071, 0.023883611435466034, 0.023883436788572944, 0.02388344095123651, 0.023883222415458382], \"y\": [0.14682556362675647, -0.18006547614331272, 0.008589291214155904, 0.004213450504247166, 0.002521155954486242, 0.0023107721222993785, 0.0016258983180792727, 0.0014632347318282817, 0.0014244911935292765, 0.0013655953532225047, 0.0012413929582655056, 0.0012289373402222727, 0.0012091238577559955, 0.001209199590638999, 0.001209440294211301, 0.0012092351439941045, 0.0012092364633600106, 0.0012094574762600448], \"topics\": [1, 2, 3, 4, 5, 6, 7, 8, 9, 10, 11, 12, 13, 14, 15, 16, 17, 18], \"cluster\": [1, 1, 1, 1, 1, 1, 1, 1, 1, 1, 1, 1, 1, 1, 1, 1, 1, 1], \"Freq\": [27.001623153686523, 21.22490119934082, 4.872246265411377, 4.146357536315918, 3.2996368408203125, 3.208125352859497, 3.1404805183410645, 3.0664730072021484, 3.026400089263916, 3.0151712894439697, 3.00966215133667, 3.008845090866089, 2.99670672416687, 2.9966907501220703, 2.9966907501220703, 2.9966771602630615, 2.9966678619384766, 2.9966444969177246]}, \"tinfo\": {\"Term\": [\"phone\", \"camera\", \"product\", \"quality\", \"battery\", \"problem\", \"Lenovo\", \"issue\", \"mobile\", \"Nice\", \"price\", \"time\", \"performance\", \"feature\", \"day\", \"Camera\", \"note\", \"Battery\", \"Mobile\", \"backup\", \"Amazon\", \"month\", \"hour\", \"service\", \"call\", \"screen\", \"Phone\", \"heating\", \"mode\", \"range\", \"product\", \"problem\", \"Lenovo\", \"issue\", \"time\", \"mobile\", \"note\", \"Amazon\", \"service\", \"call\", \"month\", \"hour\", \"day\", \"network\", \"Worst\", \"heating\", \"option\", \"k8\", \"charger\", \"screen\", \"K8\", \"Note\", \"customer\", \"waste\", \"delivery\", \"replacement\", \"use\", \"heat\", \"sim\", \"glass\", \"drain\", \"device\", \"charge\", \"money\", \"phone\", \"update\", \"software\", \"battery\", \"camera\", \"quality\", \"price\", \"performance\", \"Camera\", \"backup\", \"feature\", \"range\", \"mode\", \"processor\", \"Awesome\", \"life\", \"sound\", \"Dolby\", \"mark\", \"budget\", \"depth\", \"music\", \"bit\", \"Great\", \"picture\", \"clarity\", \"photo\", \"look\", \"stock\", \"memory\", \"front\", \"Best\", \"effect\", \"value\", \"battery\", \"Battery\", \"phone\", \"Phone\", \"speed\", \"game\", \"thing\", \"display\", \"h\", \"hai\", \"ho\", \"bhi\", \"bill\", \"k\", \"ka\", \"hi\", \"ki\", \"se\", \"bahut\", \"ye\", \"nhi\", \"ko\", \"raha\", \"jata\", \"cash\", \"bekar\", \"ke\", \"par\", \"invoice\", \"Hai\", \"nahi\", \"tha\", \"hone\", \"rha\", \"hota\", \"mob\", \"Sir\", \"phon\", \"PHONE\", \"LENOVO\", \"MOBILE\", \"BATTERY\", \"NOTE\", \"GOOD\", \"CAMERA\", \"AMAZON\", \"BUY\", \"NT\", \"WORKING\", \"PRODUCT\", \"CALL\", \"HEATING\", \"FEATURES\", \"BAD\", \"CHARGING\", \"BEST\", \"QUALITY\", \"PERFORMANCE\", \"POOR\", \"NICE\", \"EXCELLENT\", \"SCREEN\", \"WORST\", \"AWESOME\", \"PROBLEM\", \"BACKUP\", \"PROPERLY\", \"V\", \"PLEASE\", \"U\", \"Mobile\", \"Bad\", \"plz\", \"User\", \"dnt\", \"dis\", \"Friend\", \"Draining\", \"Friendly\", \"Circle\", \"ProductMobile\", \"Even\", \"CenterAlso\", \"offerAnd\", \"becauseI\", \"performanceTanks\", \"tank\", \"lennvo\", \"quickly\", \"Use\", \"Seller\", \"ZenFone\", \"sometimeOtherwise\", \"good\\u263a\\ufe0f\\u263a\\ufe0f\\ud83d\\udc4c\\ud83c\\udffb\", \"Experencie\", \"china\", \"Dnt\", \"Shot\", \"Gear\", \"Appearance\", \"Vary\", \"earliest\", \"Standby\", \"SpeedScreen\", \"Bakwas\", \"Decacore\", \"mobilePlease\", \"x20\", \"Heats\", \"wire\", \"Major\", \"Normal\", \"bt\", \"Company\", \"phn\", \"packing\", \"Delivery\", \"Nice\", \"super\", \"nice\", \"Heats\", \"gimmickOtherwise\", \"Cemara\", \"five\", \"caneea\", \"sometimes\", \"systemPerformance\", \"Nogat\", \"outdoors\", \"phn\", \"phohe\", \"sometimesOtherwise\", \"\\ud83d\\udcf7\", \"mobileTurbo\", \"camm\", \"phoneselfie\", \"GoodNice\", \"expert\", \"pert\", \"PhoneBattery\", \"CameraOn\", \"Diliver\", \"heatingplz\", \"soundand\", \"itlenovo\", \"Hassall\", \"rangeTurbo\", \"Bt\", \"performence\", \"\\ud83d\\ude0e\", \"Smartphone\", \"phoneCamera\", \"Ever\", \"cool\", \"features\", \"Products\", \"Handset\", \"Delivery\", \"\\ud83d\\udc4d\", \"fone\", \"headset\", \"job\", \"operating\", \"mobile\", \"Product\", \"Superb\", \"Price\", \"\\ud83d\\udc4d\", \"\\ud83d\\udc4c\", \"flashlight\", \"camera\\ud83d\\ude0d\\ud83d\\ude0d\", \"gamesperformance\", \"\\ud83d\\udc4c\\ud83d\\udc4cphoto\", \"aperture\", \"wire\", \"lifeExcellent\", \"Jhakas\", \"onePhone\", \"itEkdum\", \"problemi\", \"PCs\", \"chargerIt\", \"Problems\", \"Worthy\", \"cemeraTurbo\", \"lifeHighspeed\", \"Rohini\", \"cameraOverall\", \"Nyz\", \"Sell\", \"jump\", \"chargingGood\", \"Rs11k\", \"Meets\", \"cashback\", \"Working\", \"Osm\", \"Slow\", \"NYC\", \"Always\", \"Simply\", \"Sctrach\", \"Bed\", \"phoneBut\", \"Delivery\", \"fone\", \"Device\", \"word\", \"Need\", \"Photos\", \"Charge\", \"Value\", \"Gud\", \"Money\", \"Delay\", \"AmazonProduct\", \"Much\", \"Usage\", \"Expect\", \"Multiple\", \"Overally\", \"Response\", \"mobole\", \"Lags\", \"onoff\", \"fone\", \"Resale\", \"phoneGud\", \"backupMobile\", \"Clarity\", \"money\\ud83d\\udc4d\", \"Expectation\", \"Courier\", \"SeriesNot\", \"VOLTECamera\", \"VibeBut\", \"VibeI\", \"membership\", \"goodWaste\", \"priceoverall\", \"moneybeats\", \"features\", \"Delivery\", \"Hang\", \"camra\", \"Apps\", \"fancy\", \"Earphones\", \"spent\", \"Awsm\", \"Simply\", \"mobil\", \"gud\", \"Budget\", \"Need\", \"Dont\", \"Charge\", \"money\", \"Super\", \"fone\", \"\\ud83d\\ude0e\", \"producr\", \"Nicly\", \"food\", \"safety\", \"\\ud83d\\ude0d\\ud83d\\ude0d\", \"thiswell\", \"tq\", \"built\", \"prod\", \"touchJio\", \"cardboard\", \"\\ud83d\\ude00\", \"hoursno\", \"Hit\", \"raj\", \"\\ud83d\\udc4e\", \"calrity\", \"vundi\", \"ga\", \"config\", \"Fornt\", \"deliveryThank\", \"\\ud83e\\udd17\", \"government\", \"Someone\", \"pH\", \"problum\", \"Bettary\", \"\\ud83d\\ude0a\", \"band\", \"packing\", \"Osm\", \"gd\", \"NYC\", \"Batter\", \"Awsm\", \"man\", \"faster\", \"features\", \"buget\", \"mobil\", \"Simply\", \"Cool\", \"Need\", \"Charge\", \"amount\", \"penny\", \"iam\", \"world\", \"fine\", \"Fine\", \"Handset\", \"Headset\", \"ok\", \"word\", \"love\", \"Excellent\", \"respect\", \"Accept\", \"\\ud83d\\ude0e\", \"buyback\", \"rangeproblem\", \"con5\", \"less6\", \"output2\", \"filter\", \"darkPro1\", \"readings2\", \"perfectlyVerdictFine\", \"clarity4\", \"good3\", \"HeadphoneEarphone\", \"firstCons\", \"tracking\", \"luv\", \"chargingTurbo\", \"mobileAll\", \"Smartphone\", \"Get\", \"Moderate\", \"Bettary\", \"\\ud83d\\ude0a\", \"awsome\", \"rangeRam\", \"phoneFeatures\", \"gbCamera\", \"Osm\", \"Exllent\", \"gd\", \"man\", \"spent\", \"Fine\", \"NYC\", \"Batter\", \"Awsm\", \"features\", \"mobil\", \"buget\", \"fone\", \"Simply\", \"Cool\", \"penny\", \"material\", \"china\", \"Need\", \"lenova\", \"Broken\", \"gift\", \"Wow\", \"Charge\", \"Headset\", \"Ear\", \"Voice\", \"phoneI\", \"pc\", \"Handset\", \"world\", \"word\", \"Delivery\", \"ok\", \"amount\", \"Speaker\", \"Ok\", \"Drain\", \"Expectations\", \"Enough\", \"Fullfil\", \"Soon\", \"Coz\", \"fair\", \"qaulity\", \"Buts\", \"updates\", \"Bettary\", \"\\ud83d\\ude0a\", \"awsome\", \"UI2\", \"apps5\", \"show4\", \"price1\", \"gamer3Sound\", \"sturdy7\", \"Osm\", \"rangeRam\", \"phoneFeatures\", \"gbCamera\", \"Exllent\", \"Etho\", \"paravala\", \"MEETS\", \"EXPECATATIONS\", \"everythingno\", \"Thnks\", \"gd\", \"man\", \"Batter\", \"NYC\", \"Duplicate\", \"Old\", \"badcamera\", \"Awsm\", \"betry\", \"buget\", \"features\", \"phoneand\", \"Broken\", \"performence\", \"\\ud83d\\ude0e\", \"mobil\", \"fone\", \"Simply\", \"Cool\", \"china\", \"material\", \"penny\", \"lenova\", \"Need\", \"gift\", \"Charge\", \"Fine\", \"Wow\", \"Headset\", \"pc\", \"Handset\", \"gud\", \"Speaker\", \"world\", \"Delivery\", \"word\", \"ok\", \"Worth\", \"moneyCamera\", \"productFront\", \"\\ud83d\\udc4d\\ud83d\\udc4d\", \"Loving\", \"hours\", \"resistance\", \"Buying\", \"Oven\", \"prie\", \"Lack\", \"Latest\", \"Right\", \"issues\", \"Bettary\", \"\\ud83d\\ude0a\", \"Moderate\", \"Videos\", \"awsome\", \"Analog\", \"ButApps\", \"amountI\", \"Scrolling\", \"LikeTime\", \"Osm\", \"\\ud83d\\udcb0\\ud83d\\udcb0\", \"rangeRam\", \"phoneFeatures\", \"gbCamera\", \"Exllent\", \"EXPECATATIONS\", \"MEETS\", \"paravala\", \"Etho\", \"Charge\", \"woow\", \"gd\", \"man\", \"Batter\", \"NYC\", \"Duplicate\", \"badcamera\", \"Old\", \"Awsm\", \"lagging\", \"betry\", \"buget\", \"features\", \"phoneand\", \"Broken\", \"mobil\", \"performence\", \"fone\", \"Simply\", \"Cool\", \"china\", \"material\", \"penny\", \"lenova\", \"amount\", \"Need\", \"gift\", \"Wow\", \"Fine\", \"Headset\", \"pc\", \"Ear\", \"Handset\", \"Speaker\", \"world\", \"Delivery\", \"word\", \"ok\", \"Device\", \"Bettary\", \"\\ud83d\\ude0a\", \"awsome\", \"Osm\", \"gbCamera\", \"phoneFeatures\", \"rangeRam\", \"Exllent\", \"paravala\", \"Etho\", \"MEETS\", \"EXPECATATIONS\", \"winter\", \"Thnks\", \"woow\", \"CuxgF\", \"durafec\", \"pricey\", \"Owsm\", \"ADORABLE\", \"\\u0915\\u0921\\u0915\", \"scren\", \"ovar\", \"marvellousDont\", \"problame\", \"problameAnd\", \"Compas\", \"PhoneInbuilt\", \"Dint\", \"Wish\", \"tion\", \"Aswome\", \"man\", \"Batter\", \"gd\", \"NYC\", \"Duplicate\", \"Old\", \"badcamera\", \"Awsm\", \"betry\", \"phoneand\", \"qualityit\", \"buget\", \"features\", \"Broken\", \"performence\", \"\\ud83d\\ude0e\", \"Head\", \"mobil\", \"Problems\", \"Earphones\", \"moneycamera\", \"china\", \"Products\", \"material\", \"Cool\", \"fone\", \"Simply\", \"lenova\", \"penny\", \"Wow\", \"gift\", \"requirement\", \"Need\", \"Ear\", \"Fine\", \"Charge\", \"Headset\", \"pc\", \"Smartphone\", \"Earphone\", \"world\", \"Handset\", \"Delivery\", \"word\", \"ok\", \"Speaker\", \"Device\", \"Bettary\", \"\\ud83d\\ude0a\", \"awsome\", \"Osm\", \"rangeRam\", \"phoneFeatures\", \"gbCamera\", \"Exllent\", \"EXPECATATIONS\", \"MEETS\", \"Etho\", \"paravala\", \"winter\", \"Thnks\", \"woow\", \"durafec\", \"CuxgF\", \"pricey\", \"Owsm\", \"scren\", \"\\u0915\\u0921\\u0915\", \"ADORABLE\", \"ovar\", \"marvellousDont\", \"problameAnd\", \"problame\", \"PhoneInbuilt\", \"Compas\", \"Dint\", \"Wish\", \"tion\", \"Aswome\", \"man\", \"Batter\", \"gd\", \"NYC\", \"Duplicate\", \"Old\", \"badcamera\", \"Awsm\", \"betry\", \"phoneand\", \"qualityit\", \"buget\", \"features\", \"Broken\", \"performence\", \"\\ud83d\\ude0e\", \"Head\", \"mobil\", \"Problems\", \"Earphones\", \"china\", \"moneycamera\", \"Products\", \"Cool\", \"material\", \"fone\", \"Simply\", \"lenova\", \"penny\", \"Wow\", \"gift\", \"requirement\", \"Need\", \"Ear\", \"Fine\", \"Charge\", \"Headset\", \"pc\", \"Smartphone\", \"Earphone\", \"world\", \"Handset\", \"Delivery\", \"word\", \"ok\", \"Speaker\", \"Device\", \"Bettary\", \"\\ud83d\\ude0a\", \"awsome\", \"Osm\", \"rangeRam\", \"phoneFeatures\", \"gbCamera\", \"Exllent\", \"paravala\", \"Etho\", \"MEETS\", \"EXPECATATIONS\", \"winter\", \"woow\", \"Thnks\", \"durafec\", \"CuxgF\", \"pricey\", \"Owsm\", \"ovar\", \"\\u0915\\u0921\\u0915\", \"ADORABLE\", \"scren\", \"marvellousDont\", \"problame\", \"problameAnd\", \"Compas\", \"PhoneInbuilt\", \"tion\", \"Dint\", \"Aswome\", \"man\", \"Batter\", \"gd\", \"NYC\", \"Duplicate\", \"Old\", \"badcamera\", \"Awsm\", \"betry\", \"phoneand\", \"qualityit\", \"buget\", \"features\", \"Broken\", \"performence\", \"\\ud83d\\ude0e\", \"Head\", \"Problems\", \"mobil\", \"Earphones\", \"moneycamera\", \"china\", \"Products\", \"Cool\", \"material\", \"fone\", \"Simply\", \"lenova\", \"penny\", \"Wow\", \"gift\", \"requirement\", \"Need\", \"Ear\", \"Fine\", \"Charge\", \"Headset\", \"pc\", \"Smartphone\", \"Earphone\", \"world\", \"Handset\", \"Delivery\", \"word\", \"ok\", \"Speaker\", \"Device\", \"Bettary\", \"\\ud83d\\ude0a\", \"awsome\", \"Osm\", \"phoneFeatures\", \"rangeRam\", \"gbCamera\", \"Exllent\", \"MEETS\", \"EXPECATATIONS\", \"paravala\", \"Etho\", \"winter\", \"Thnks\", \"woow\", \"CuxgF\", \"durafec\", \"pricey\", \"Owsm\", \"\\u0915\\u0921\\u0915\", \"ADORABLE\", \"scren\", \"ovar\", \"marvellousDont\", \"problameAnd\", \"problame\", \"PhoneInbuilt\", \"Compas\", \"tion\", \"Dint\", \"Aswome\", \"man\", \"Batter\", \"gd\", \"NYC\", \"Duplicate\", \"Old\", \"badcamera\", \"Awsm\", \"betry\", \"phoneand\", \"qualityit\", \"buget\", \"features\", \"Broken\", \"performence\", \"\\ud83d\\ude0e\", \"Head\", \"mobil\", \"Problems\", \"Earphones\", \"china\", \"moneycamera\", \"Products\", \"material\", \"Cool\", \"fone\", \"Simply\", \"lenova\", \"penny\", \"Wow\", \"gift\", \"requirement\", \"Need\", \"Ear\", \"Fine\", \"Charge\", \"Headset\", \"pc\", \"Smartphone\", \"Earphone\", \"world\", \"Handset\", \"Delivery\", \"word\", \"ok\", \"Speaker\", \"Device\", \"Bettary\", \"\\ud83d\\ude0a\", \"awsome\", \"Osm\", \"phoneFeatures\", \"gbCamera\", \"rangeRam\", \"Exllent\", \"paravala\", \"Etho\", \"EXPECATATIONS\", \"MEETS\", \"winter\", \"Thnks\", \"woow\", \"durafec\", \"CuxgF\", \"pricey\", \"Owsm\", \"scren\", \"\\u0915\\u0921\\u0915\", \"ADORABLE\", \"ovar\", \"marvellousDont\", \"problame\", \"problameAnd\", \"Wish\", \"Dint\", \"returnable\", \"PhoneInbuilt\", \"Compas\", \"tion\", \"man\", \"Batter\", \"gd\", \"NYC\", \"Duplicate\", \"Old\", \"badcamera\", \"Awsm\", \"betry\", \"phoneand\", \"qualityit\", \"buget\", \"features\", \"Broken\", \"performence\", \"\\ud83d\\ude0e\", \"Problems\", \"mobil\", \"Head\", \"Earphones\", \"moneycamera\", \"china\", \"Products\", \"Cool\", \"material\", \"fone\", \"Simply\", \"lenova\", \"penny\", \"Wow\", \"gift\", \"requirement\", \"Need\", \"Ear\", \"Fine\", \"Charge\", \"Headset\", \"pc\", \"Smartphone\", \"Earphone\", \"world\", \"Handset\", \"Delivery\", \"word\", \"ok\", \"Speaker\", \"Device\", \"Bettary\", \"\\ud83d\\ude0a\", \"awsome\", \"Osm\", \"rangeRam\", \"phoneFeatures\", \"gbCamera\", \"Exllent\", \"EXPECATATIONS\", \"MEETS\", \"paravala\", \"Etho\", \"winter\", \"Thnks\", \"woow\", \"CuxgF\", \"durafec\", \"pricey\", \"Owsm\", \"ADORABLE\", \"ovar\", \"\\u0915\\u0921\\u0915\", \"scren\", \"marvellousDont\", \"problameAnd\", \"problame\", \"Compas\", \"PhoneInbuilt\", \"tion\", \"returnable\", \"Aswome\", \"man\", \"Batter\", \"gd\", \"NYC\", \"Duplicate\", \"Old\", \"badcamera\", \"Awsm\", \"betry\", \"phoneand\", \"qualityit\", \"buget\", \"features\", \"Broken\", \"performence\", \"\\ud83d\\ude0e\", \"Head\", \"mobil\", \"Problems\", \"Earphones\", \"moneycamera\", \"china\", \"Products\", \"Cool\", \"material\", \"fone\", \"Simply\", \"lenova\", \"penny\", \"Wow\", \"gift\", \"requirement\", \"Need\", \"Ear\", \"Fine\", \"Charge\", \"Headset\", \"pc\", \"Smartphone\", \"Earphone\", \"world\", \"Handset\", \"Delivery\", \"word\", \"ok\", \"Speaker\", \"Device\"], \"Freq\": [2906.0, 1124.0, 959.0, 604.0, 962.0, 698.0, 653.0, 643.0, 619.0, 186.0, 387.0, 455.0, 365.0, 352.0, 437.0, 328.0, 394.0, 401.0, 95.0, 251.0, 286.0, 240.0, 227.0, 223.0, 222.0, 228.0, 268.0, 209.0, 160.0, 158.0, 953.1882934570312, 693.0230102539062, 648.6555786132812, 637.170166015625, 449.4766540527344, 610.8170776367188, 387.9108581542969, 281.8243408203125, 219.17343139648438, 217.21739196777344, 234.74171447753906, 222.48959350585938, 427.1069641113281, 186.0067138671875, 191.2079315185547, 204.28102111816406, 168.75277709960938, 155.0653839111328, 169.98829650878906, 220.92617797851562, 188.20578002929688, 120.35884857177734, 98.99557495117188, 84.21477508544922, 104.73719787597656, 82.44004821777344, 129.62355041503906, 126.2138442993164, 96.33488464355469, 87.50943756103516, 102.58094787597656, 189.29336547851562, 123.61083984375, 247.33616638183594, 1094.14697265625, 140.14559936523438, 117.00749969482422, 259.4281921386719, 1119.870849609375, 598.7137451171875, 382.5155944824219, 360.4327697753906, 323.77288818359375, 246.44287109375, 343.62939453125, 153.94293212890625, 155.215087890625, 130.1782684326172, 137.4269256591797, 137.9417266845703, 118.15643310546875, 79.81883239746094, 78.20867156982422, 69.18415832519531, 64.76864624023438, 85.17428588867188, 73.30121612548828, 68.23741149902344, 63.40731430053711, 59.527931213378906, 65.33850860595703, 58.306304931640625, 60.5562744140625, 55.67546081542969, 54.03581619262695, 57.03718185424805, 51.763431549072266, 60.91545867919922, 699.0140991210938, 313.54534912109375, 1807.1492919921875, 200.1268768310547, 77.37440490722656, 74.54717254638672, 80.3041763305664, 84.3875961303711, 56.105167388916016, 55.666831970214844, 23.413293838500977, 16.16951560974121, 16.609756469726562, 15.157734870910645, 11.530251502990723, 10.713403701782227, 9.890867233276367, 9.867708206176758, 9.08528995513916, 8.394221305847168, 8.416829109191895, 8.332852363586426, 8.34360408782959, 7.716045379638672, 7.921456336975098, 7.4744977951049805, 6.875547409057617, 7.5643463134765625, 7.524878978729248, 6.734388828277588, 6.700127124786377, 6.367894649505615, 6.388716220855713, 6.000178813934326, 5.971573352813721, 6.643211841583252, 5.752208232879639, 6.813129901885986, 18.444583892822266, 18.294954299926758, 13.056493759155273, 12.610845565795898, 12.328595161437988, 8.688960075378418, 8.656783103942871, 10.707695007324219, 7.433614730834961, 6.877580165863037, 6.253230094909668, 6.170073986053467, 4.891894340515137, 4.855114459991455, 4.917365550994873, 4.43526554107666, 3.827895164489746, 3.840062141418457, 3.6235787868499756, 3.644118309020996, 3.467104911804199, 3.3493919372558594, 3.529576301574707, 3.311244249343872, 3.23960542678833, 2.9670634269714355, 2.8596527576446533, 2.660004138946533, 2.757876396179199, 2.958996057510376, 2.7535104751586914, 2.8361809253692627, 90.77999114990234, 30.945987701416016, 10.675437927246094, 1.6460033655166626, 1.3732250928878784, 0.9922876358032227, 0.7463566660881042, 0.6440125107765198, 0.5267074108123779, 0.5267074108123779, 0.4461275339126587, 0.4461275339126587, 0.4461275339126587, 0.47010451555252075, 0.47010451555252075, 0.47010451555252075, 0.47010451555252075, 0.4542979300022125, 0.4542979300022125, 0.4420953094959259, 0.4423224925994873, 0.43439844250679016, 0.43439844250679016, 0.39087724685668945, 0.38956138491630554, 0.5696439743041992, 0.4498857855796814, 0.3745434880256653, 0.3745434880256653, 0.3745434880256653, 0.5427780151367188, 0.4197530746459961, 0.3745434880256653, 0.3745434880256653, 0.6318824291229248, 0.4937790632247925, 0.4490979313850403, 0.5238641500473022, 0.5299989581108093, 0.4944310486316681, 0.4579307734966278, 0.5246783494949341, 0.51435387134552, 0.5355779528617859, 0.5378270149230957, 0.47555190324783325, 0.47576338052749634, 181.34536743164062, 8.125606536865234, 6.855525493621826, 1.6724356412887573, 0.5732893943786621, 0.5144327878952026, 0.5037188529968262, 0.431157648563385, 0.4280402362346649, 0.4074847102165222, 0.4074847102165222, 0.4316738545894623, 1.2059786319732666, 0.36127927899360657, 0.382236123085022, 0.575859010219574, 0.366058886051178, 0.35298678278923035, 0.3438606858253479, 0.3422187864780426, 0.3480774462223053, 0.3470698297023773, 0.3355419337749481, 0.3355419337749481, 0.3355419337749481, 0.38257306814193726, 0.38257306814193726, 0.38257306814193726, 0.3372895121574402, 0.3708954155445099, 0.4335764944553375, 0.4266086518764496, 0.4304041564464569, 0.47920992970466614, 0.49466222524642944, 0.3897761404514313, 0.5458054542541504, 0.4773004949092865, 0.3904261887073517, 0.589949369430542, 0.49300938844680786, 0.4133951663970947, 0.4445357620716095, 0.4537164866924286, 0.4356452226638794, 0.4159301817417145, 0.40300607681274414, 46.4619140625, 27.658008575439453, 7.603617191314697, 0.9079135656356812, 0.773865818977356, 0.58510822057724, 0.4315248429775238, 0.4315248429775238, 0.4315248429775238, 0.40020814538002014, 0.5707866549491882, 0.3867109715938568, 0.4028027057647705, 0.3686464726924896, 0.3743228018283844, 0.4293835759162903, 0.37280982732772827, 0.37982192635536194, 0.4279555678367615, 0.34474846720695496, 0.3501596450805664, 0.3501596450805664, 0.3644084930419922, 0.37343087792396545, 0.340169757604599, 0.32334330677986145, 0.32334330677986145, 0.32273924350738525, 0.33688122034072876, 0.3192446827888489, 0.3922325074672699, 0.4384579658508301, 0.39637213945388794, 0.35374587774276733, 0.402830570936203, 0.4227335453033447, 0.539117693901062, 0.39021217823028564, 0.4008733630180359, 0.4503234624862671, 0.44439899921417236, 0.4346005320549011, 0.4611435830593109, 0.4297211766242981, 0.40349406003952026, 0.3835147023200989, 0.3838649392127991, 22.403039932250977, 8.319988250732422, 6.487298965454102, 0.4630083441734314, 0.4285154640674591, 0.41859713196754456, 0.4104740023612976, 0.4104740023612976, 0.42089658975601196, 0.3970648944377899, 0.4086896479129791, 0.3671475350856781, 0.5298914909362793, 0.3929620385169983, 0.9148306846618652, 0.3262562155723572, 0.3312224745750427, 0.3312224745750427, 0.41271069645881653, 0.3147997260093689, 0.3047468662261963, 0.33241868019104004, 0.298291951417923, 0.298291951417923, 0.298291951417923, 0.298291951417923, 0.3145538866519928, 0.30079689621925354, 0.314844012260437, 0.314844012260437, 0.49622470140457153, 0.7522693872451782, 0.39785733819007874, 0.4617065191268921, 0.4571080207824707, 0.35070672631263733, 0.3615923523902893, 0.3982798159122467, 0.3865893483161926, 0.42163053154945374, 0.3850608170032501, 0.45975589752197266, 0.3980298340320587, 0.4105280935764313, 0.42223063111305237, 0.3851051330566406, 0.4992141127586365, 29.65625, 1.105672001838684, 0.5081909894943237, 0.3869818150997162, 0.3869818150997162, 0.3905821740627289, 0.390848845243454, 0.3774928152561188, 0.34938082098960876, 0.35767412185668945, 0.4251655340194702, 0.3212582767009735, 0.3212582767009735, 0.3640786409378052, 0.3094249665737152, 0.2844831347465515, 0.2692908048629761, 0.267755389213562, 0.3092036247253418, 0.29285627603530884, 0.2637717127799988, 0.2666343152523041, 0.27672556042671204, 0.2555340826511383, 0.25098681449890137, 0.24298949539661407, 0.2473069429397583, 0.2473069429397583, 0.28924673795700073, 0.26148292422294617, 0.30571648478507996, 0.3130851686000824, 0.32510942220687866, 0.5827075242996216, 0.3239861726760864, 0.34546908736228943, 0.3353182375431061, 0.3320504128932953, 0.38508301973342896, 0.3246206045150757, 0.34435397386550903, 0.3736603856086731, 0.34319451451301575, 0.38360077142715454, 0.4195045232772827, 0.35356494784355164, 0.41014325618743896, 0.38313207030296326, 0.4083003103733063, 0.34279683232307434, 0.35255634784698486, 0.36265045404434204, 0.391923189163208, 0.34944644570350647, 0.37614232301712036, 0.34845778346061707, 0.34770405292510986, 0.3461398482322693, 0.3455144464969635, 23.178260803222656, 0.45626965165138245, 0.34531912207603455, 0.4047326147556305, 0.3301299512386322, 0.27047258615493774, 0.2916543483734131, 0.2916543483734131, 0.2916543483734131, 0.2916543483734131, 0.2916543483734131, 0.2916543483734131, 0.2916543483734131, 0.2916543483734131, 0.2916543483734131, 0.2916543483734131, 0.2916543483734131, 0.3047949969768524, 0.2775328755378723, 0.24984438717365265, 0.248374342918396, 0.39999720454216003, 0.2862943112850189, 0.2480444461107254, 0.30633729696273804, 0.31353336572647095, 0.3050837218761444, 0.27312174439430237, 0.27312174439430237, 0.27312174439430237, 0.3246670663356781, 0.2750755846500397, 0.3459298610687256, 0.32509544491767883, 0.3971572816371918, 0.43805328011512756, 0.33626627922058105, 0.33293238282203674, 0.3864094316959381, 0.3744645118713379, 0.38480377197265625, 0.3433132767677307, 0.4502606987953186, 0.4219510555267334, 0.3548508584499359, 0.3436919152736664, 0.33541104197502136, 0.3321811258792877, 0.4134703576564789, 0.3327080309391022, 0.32116255164146423, 0.34349513053894043, 0.3402392566204071, 0.38441455364227295, 0.34937289357185364, 0.3353762626647949, 0.3562762141227722, 0.3603077232837677, 0.3441295027732849, 0.3773020803928375, 0.3447284996509552, 0.35496649146080017, 0.3470297157764435, 0.3483474850654602, 0.34155434370040894, 0.3411509394645691, 10.981746673583984, 0.48981982469558716, 0.40626490116119385, 0.3288950026035309, 0.3288950026035309, 0.3319217264652252, 0.3535572290420532, 0.33818796277046204, 0.3450544476509094, 0.26170432567596436, 0.3127080202102661, 0.3073903024196625, 0.31501734256744385, 0.30682140588760376, 0.2619398236274719, 0.2619398236274719, 0.2619398236274719, 0.2619398236274719, 0.2619398236274719, 0.2619398236274719, 0.3270793855190277, 0.27406254410743713, 0.27406254410743713, 0.27406254410743713, 0.2760715186595917, 0.2737405002117157, 0.2737405002117157, 0.27364590764045715, 0.27364590764045715, 0.2313726246356964, 0.27309978008270264, 0.34774625301361084, 0.32687658071517944, 0.3352711498737335, 0.33828648924827576, 0.30025920271873474, 0.2980835735797882, 0.31006479263305664, 0.38896629214286804, 0.3130214512348175, 0.34528598189353943, 0.37750858068466187, 0.30730733275413513, 0.3226083815097809, 0.3100629448890686, 0.31187185645103455, 0.3877864181995392, 0.4562501013278961, 0.42672812938690186, 0.35758981108665466, 0.3339218199253082, 0.33761411905288696, 0.3448469936847687, 0.33478012681007385, 0.41926488280296326, 0.34582599997520447, 0.38736265897750854, 0.3526695668697357, 0.34235066175460815, 0.35186484456062317, 0.3467617332935333, 0.3796549439430237, 0.3777526617050171, 0.37798482179641724, 0.3468509912490845, 0.34646716713905334, 0.3495309352874756, 0.3503963053226471, 8.798283576965332, 0.3764110207557678, 0.3283294141292572, 0.3467485010623932, 0.31165874004364014, 0.3117644786834717, 0.36104434728622437, 0.29907935857772827, 0.25587883591651917, 0.24625898897647858, 0.25623172521591187, 0.26506754755973816, 0.2720782160758972, 0.30861181020736694, 0.30752673745155334, 0.31526127457618713, 0.24560745060443878, 0.23899288475513458, 0.3071833550930023, 0.2325432002544403, 0.2325432002544403, 0.2325432002544403, 0.2325432002544403, 0.2325432002544403, 0.32744237780570984, 0.2301872819662094, 0.2741461992263794, 0.2741461992263794, 0.2741461992263794, 0.27618497610092163, 0.2739430069923401, 0.2739430069923401, 0.2737519145011902, 0.2737519145011902, 0.6120522022247314, 0.2731877267360687, 0.34790870547294617, 0.3271786868572235, 0.3355480134487152, 0.3387206792831421, 0.30040448904037476, 0.3102339208126068, 0.29821422696113586, 0.38947296142578125, 0.3107222616672516, 0.31324315071105957, 0.3454734683036804, 0.37779003381729126, 0.3074960708618164, 0.3227646052837372, 0.38845911622047424, 0.3102034628391266, 0.45801907777786255, 0.4270208477973938, 0.3583764433860779, 0.33411353826522827, 0.3380926251411438, 0.345130056142807, 0.3349282443523407, 0.44207891821861267, 0.42140549421310425, 0.3462059795856476, 0.34261995553970337, 0.3531773090362549, 0.35214269161224365, 0.3471733331680298, 0.3376164436340332, 0.3801525831222534, 0.37619391083717346, 0.34715303778648376, 0.34731951355934143, 0.35167938470840454, 0.3507656455039978, 0.3380778729915619, 0.30821213126182556, 0.31560689210891724, 0.30790767073631287, 0.3286813795566559, 0.27437829971313477, 0.27437829971313477, 0.27437829971313477, 0.27629974484443665, 0.27394360303878784, 0.27394360303878784, 0.27386415004730225, 0.27386415004730225, 0.2673826515674591, 0.2732682526111603, 0.27326494455337524, 0.27324655652046204, 0.27323436737060547, 0.27304330468177795, 0.27566832304000854, 0.2689953148365021, 0.2689165771007538, 0.26891061663627625, 0.26896995306015015, 0.2728222608566284, 0.261953741312027, 0.261953741312027, 0.2620222568511963, 0.2620222568511963, 0.25706735253334045, 0.25706735253334045, 0.26854023337364197, 0.2667461633682251, 0.3278442621231079, 0.3368176221847534, 0.3486431837081909, 0.33969688415527344, 0.30066800117492676, 0.2985866069793701, 0.31057068705558777, 0.3907434344291687, 0.3140795826911926, 0.30798080563545227, 0.29483067989349365, 0.34613075852394104, 0.3789897561073303, 0.3230961561203003, 0.3104824423789978, 0.3124239444732666, 0.2919696569442749, 0.3897327780723572, 0.29639655351638794, 0.3112466335296631, 0.30946487188339233, 0.33470892906188965, 0.3059757947921753, 0.33901509642601013, 0.3602902293205261, 0.4605681598186493, 0.42941394448280334, 0.3355464041233063, 0.345859557390213, 0.34372416138648987, 0.3471907675266266, 0.33514031767845154, 0.42466214299201965, 0.33822476863861084, 0.3545284569263458, 0.3890691101551056, 0.3534810543060303, 0.3482007086277008, 0.3236426115036011, 0.33528777956962585, 0.3479679822921753, 0.3814089298248291, 0.347912073135376, 0.3509812355041504, 0.3516441583633423, 0.3445628881454468, 0.33895888924598694, 0.30828553438186646, 0.3155992031097412, 0.3079011142253876, 0.328698068857193, 0.2744767665863037, 0.2744767665863037, 0.2744767665863037, 0.2762784957885742, 0.27401143312454224, 0.27401143312454224, 0.27388128638267517, 0.27388128638267517, 0.26736605167388916, 0.27327027916908264, 0.2732682526111603, 0.27324703335762024, 0.27324166893959045, 0.2730613350868225, 0.2756750285625458, 0.26890382170677185, 0.2688949406147003, 0.26893875002861023, 0.26893162727355957, 0.2727184295654297, 0.26203155517578125, 0.26203155517578125, 0.2620466947555542, 0.2620466947555542, 0.2571093440055847, 0.2571093440055847, 0.2685284912586212, 0.26665404438972473, 0.3278195261955261, 0.33680957555770874, 0.3486102223396301, 0.3397256135940552, 0.30064401030540466, 0.2985965311527252, 0.31057682633399963, 0.39072883129119873, 0.3138904869556427, 0.30801114439964294, 0.2948393225669861, 0.3461195230484009, 0.3793250024318695, 0.323087215423584, 0.31047895550727844, 0.3124360144138336, 0.29197606444358826, 0.3896719515323639, 0.29642269015312195, 0.31123480200767517, 0.3347259759902954, 0.3094876706600189, 0.3060135245323181, 0.36046934127807617, 0.33906853199005127, 0.4605674743652344, 0.42931005358695984, 0.33554765582084656, 0.3458667993545532, 0.3437080383300781, 0.34706440567970276, 0.3351312279701233, 0.4246295094490051, 0.3382100760936737, 0.35451245307922363, 0.3890798091888428, 0.35349568724632263, 0.3482314348220825, 0.32359519600868225, 0.3353034555912018, 0.3479650318622589, 0.3814384937286377, 0.34789493680000305, 0.3509780466556549, 0.35164666175842285, 0.344562828540802, 0.3390290439128876, 0.3081815242767334, 0.31562677025794983, 0.30786824226379395, 0.3286382853984833, 0.2743862271308899, 0.2743862271308899, 0.2743862271308899, 0.2763078510761261, 0.27390944957733154, 0.27390944957733154, 0.2737687826156616, 0.2737687826156616, 0.26735109090805054, 0.27327391505241394, 0.2732531428337097, 0.2732304036617279, 0.2732185423374176, 0.2730240523815155, 0.27572405338287354, 0.26900404691696167, 0.2689051330089569, 0.26895517110824585, 0.26884758472442627, 0.2727508246898651, 0.2620822787284851, 0.2620822787284851, 0.2619132697582245, 0.2619132697582245, 0.2685288190841675, 0.2569931447505951, 0.26664701104164124, 0.3277849853038788, 0.3367878198623657, 0.34870806336402893, 0.3397378623485565, 0.300709068775177, 0.2986128032207489, 0.3105579912662506, 0.3907471001148224, 0.3140137791633606, 0.3081018924713135, 0.29484546184539795, 0.34605515003204346, 0.37927886843681335, 0.323092520236969, 0.31046807765960693, 0.31242892146110535, 0.29192933440208435, 0.2964399755001068, 0.3898274004459381, 0.31125521659851074, 0.30947044491767883, 0.3347598612308502, 0.3060634434223175, 0.3605155348777771, 0.33904707431793213, 0.46079570055007935, 0.4294285774230957, 0.33551421761512756, 0.34587833285331726, 0.3438195288181305, 0.3471381366252899, 0.33519691228866577, 0.4237896502017975, 0.3382100760936737, 0.35450422763824463, 0.3891051709651947, 0.35343292355537415, 0.348320871591568, 0.32360008358955383, 0.33531007170677185, 0.3479432463645935, 0.3814302384853363, 0.34790170192718506, 0.35090723633766174, 0.3516390919685364, 0.34460917115211487, 0.33895066380500793, 0.3080148696899414, 0.3156434893608093, 0.3080287575721741, 0.3286552131175995, 0.2744219899177551, 0.2744219899177551, 0.2744219899177551, 0.27629920840263367, 0.27402010560035706, 0.27402010560035706, 0.2738458216190338, 0.2738458216190338, 0.26743215322494507, 0.27327877283096313, 0.2732774019241333, 0.27322548627853394, 0.2732113301753998, 0.27304762601852417, 0.27563828229904175, 0.2689381241798401, 0.268974244594574, 0.2688959538936615, 0.2688904106616974, 0.2728042006492615, 0.26203450560569763, 0.26203450560569763, 0.26190996170043945, 0.26190996170043945, 0.2685292363166809, 0.25696250796318054, 0.26660382747650146, 0.32784563302993774, 0.3370251953601837, 0.34854885935783386, 0.33971428871154785, 0.3007046580314636, 0.29864302277565, 0.3106120526790619, 0.3907979130744934, 0.3140711784362793, 0.3080308437347412, 0.29483696818351746, 0.34615418314933777, 0.37920230627059937, 0.32309451699256897, 0.31048518419265747, 0.3124442994594574, 0.29192668199539185, 0.38935238122940063, 0.29635074734687805, 0.31126564741134644, 0.3347454071044922, 0.3094632029533386, 0.3060412108898163, 0.3390297591686249, 0.3602474331855774, 0.4606179893016815, 0.42920994758605957, 0.3355351686477661, 0.3459010720252991, 0.343777596950531, 0.34718650579452515, 0.3351357579231262, 0.4248785972595215, 0.33821621537208557, 0.35442399978637695, 0.3890463411808014, 0.3534276485443115, 0.34834805130958557, 0.3236113488674164, 0.3353573679924011, 0.34794557094573975, 0.38141191005706787, 0.34791383147239685, 0.3509758710861206, 0.35163938999176025, 0.3446071147918701, 0.33898866176605225, 0.30781280994415283, 0.3155331015586853, 0.3079337179660797, 0.32867175340652466, 0.2744402289390564, 0.2744402289390564, 0.2744402289390564, 0.2762731611728668, 0.2738523483276367, 0.2738523483276367, 0.2737743854522705, 0.2737743854522705, 0.2673603296279907, 0.2732800543308258, 0.2732587158679962, 0.27322158217430115, 0.273219496011734, 0.273028165102005, 0.27567175030708313, 0.2689429223537445, 0.2689284682273865, 0.26899099349975586, 0.2689040005207062, 0.2728058993816376, 0.26197248697280884, 0.26197248697280884, 0.25726115703582764, 0.25726115703582764, 0.25726115703582764, 0.26195457577705383, 0.26195457577705383, 0.2685393989086151, 0.3278253674507141, 0.3368271589279175, 0.3485664129257202, 0.33973056077957153, 0.30066975951194763, 0.29859304428100586, 0.3105466663837433, 0.39079904556274414, 0.3139309585094452, 0.3080153167247772, 0.2948268949985504, 0.3460749387741089, 0.37903153896331787, 0.323085755109787, 0.31048303842544556, 0.3124426603317261, 0.29641208052635193, 0.38954591751098633, 0.29191121459007263, 0.311265230178833, 0.3094741106033325, 0.3347216546535492, 0.3059348464012146, 0.36050525307655334, 0.33902671933174133, 0.46063512563705444, 0.42924368381500244, 0.3355253040790558, 0.34584182500839233, 0.3436600863933563, 0.34701478481292725, 0.3350296914577484, 0.42477673292160034, 0.33821019530296326, 0.35445573925971985, 0.3890373408794403, 0.3533460199832916, 0.34833425283432007, 0.3236447870731354, 0.3351150453090668, 0.34796589612960815, 0.38141608238220215, 0.3478931486606598, 0.35089507699012756, 0.3516395390033722, 0.34454044699668884, 0.3389180600643158, 0.30802956223487854, 0.31582537293434143, 0.3079904019832611, 0.32865673303604126, 0.27448123693466187, 0.27448123693466187, 0.27448123693466187, 0.2762913703918457, 0.2739209234714508, 0.2739209234714508, 0.27385762333869934, 0.27385762333869934, 0.2673627734184265, 0.27325937151908875, 0.2732450067996979, 0.2732241451740265, 0.2732044458389282, 0.27301570773124695, 0.2756531834602356, 0.2690286636352539, 0.2690053880214691, 0.2688957452774048, 0.268892377614975, 0.2727715075016022, 0.26202964782714844, 0.26202964782714844, 0.26197782158851624, 0.26197782158851624, 0.26852405071258545, 0.25698360800743103, 0.26662057638168335, 0.3277948498725891, 0.33683091402053833, 0.3486727178096771, 0.3396944999694824, 0.3006874918937683, 0.2986159026622772, 0.3105226755142212, 0.3908030390739441, 0.31388726830482483, 0.30802667140960693, 0.2948281466960907, 0.34611234068870544, 0.3791980743408203, 0.32308128476142883, 0.3104812204837799, 0.31242915987968445, 0.291927307844162, 0.3901733160018921, 0.2962867021560669, 0.3112632632255554, 0.30945706367492676, 0.3346959948539734, 0.3060292601585388, 0.3604796826839447, 0.3390072286128998, 0.46060362458229065, 0.42945653200149536, 0.3355206549167633, 0.34587764739990234, 0.3435276746749878, 0.34725919365882874, 0.33510351181030273, 0.42410361766815186, 0.3382069766521454, 0.35448819398880005, 0.3891214430332184, 0.3533462882041931, 0.3484407067298889, 0.32354268431663513, 0.3353416323661804, 0.34794652462005615, 0.3813912570476532, 0.3478882610797882, 0.3509833812713623, 0.3516429662704468, 0.34456419944763184, 0.33897948265075684], \"Total\": [2906.0, 1124.0, 959.0, 604.0, 962.0, 698.0, 653.0, 643.0, 619.0, 186.0, 387.0, 455.0, 365.0, 352.0, 437.0, 328.0, 394.0, 401.0, 95.0, 251.0, 286.0, 240.0, 227.0, 223.0, 222.0, 228.0, 268.0, 209.0, 160.0, 158.0, 959.1304321289062, 698.2647094726562, 653.798095703125, 643.0349731445312, 455.17462158203125, 619.154052734375, 394.2929992675781, 286.71990966796875, 223.8641815185547, 222.024169921875, 240.27706909179688, 227.962646484375, 437.9656677246094, 190.86289978027344, 196.43544006347656, 209.9425811767578, 174.0845947265625, 160.03463745117188, 175.46646118164062, 228.24269104003906, 195.17906188964844, 125.79704284667969, 103.48790740966797, 88.85078430175781, 110.57025909423828, 87.1401596069336, 137.4063720703125, 133.79913330078125, 102.15995025634766, 93.00501251220703, 109.12631225585938, 203.873046875, 132.3994903564453, 280.9395751953125, 2906.259033203125, 168.46315002441406, 135.8456268310547, 962.9202880859375, 1124.8447265625, 604.07568359375, 387.6022644042969, 365.743896484375, 328.8199462890625, 251.46585083007812, 352.9128723144531, 158.79002380371094, 160.53138732910156, 134.99972534179688, 142.9319610595703, 143.95899963378906, 125.2024154663086, 84.8150405883789, 83.46411895751953, 74.08436584472656, 69.37934875488281, 91.4049072265625, 78.6913833618164, 73.4594955444336, 68.34752655029297, 64.41869354248047, 70.7251968383789, 63.16714859008789, 65.71089172363281, 60.50053787231445, 58.726715087890625, 62.220096588134766, 56.51329803466797, 66.6852798461914, 962.9202880859375, 401.9804382324219, 2906.259033203125, 268.4898986816406, 98.1191635131836, 95.17208099365234, 115.86053466796875, 136.76055908203125, 60.439456939697266, 59.99365997314453, 27.716020584106445, 20.48246955871582, 21.34790802001953, 20.11552619934082, 15.865923881530762, 15.02881908416748, 14.146114349365234, 14.214997291564941, 13.38723373413086, 12.663026809692383, 12.709775924682617, 12.599005699157715, 12.64766788482666, 12.13131332397461, 12.514836311340332, 11.825810432434082, 11.138615608215332, 12.326732635498047, 12.266314506530762, 11.036723136901855, 11.019790649414062, 10.651555061340332, 10.754616737365723, 10.290135383605957, 10.262823104858398, 11.823003768920898, 10.411601066589355, 12.409119606018066, 22.781457901000977, 23.203243255615234, 17.42985725402832, 16.923669815063477, 16.963275909423828, 12.958759307861328, 13.023283958435059, 16.67991828918457, 12.143567085266113, 11.349169731140137, 10.617237091064453, 10.57552433013916, 9.182990074157715, 9.15053939819336, 9.280009269714355, 8.712142944335938, 8.088699340820312, 8.271538734436035, 7.901320934295654, 8.028936386108398, 7.786262512207031, 7.679768085479736, 8.280111312866211, 7.920845985412598, 7.750247478485107, 7.377843856811523, 7.402531147003174, 6.903268337249756, 7.203935146331787, 7.788492679595947, 7.340872287750244, 10.6268949508667, 95.92769622802734, 35.98114776611328, 16.242523193359375, 7.49183988571167, 6.57700777053833, 5.710978984832764, 6.383086204528809, 5.709688186645508, 5.21088171005249, 5.21088171005249, 4.98162317276001, 4.98162317276001, 4.98162317276001, 5.436867713928223, 5.436867713928223, 5.436867713928223, 5.436867713928223, 5.448523044586182, 5.448523044586182, 5.319352626800537, 5.57111120223999, 5.671438694000244, 5.671438694000244, 5.109234809875488, 5.109200954437256, 7.493283748626709, 5.931034088134766, 4.966757297515869, 4.966757297515869, 4.966757297515869, 7.213311195373535, 5.5668206214904785, 4.966757297515869, 4.966757297515869, 8.548078536987305, 6.634139060974121, 6.100305557250977, 7.590414047241211, 7.800751686096191, 7.60363245010376, 6.513204097747803, 10.838790893554688, 10.203889846801758, 12.994897842407227, 16.226003646850586, 12.810417175292969, 14.717390060424805, 186.1937255859375, 13.02212142944336, 13.021124839782715, 7.800751686096191, 5.259526252746582, 5.472493648529053, 5.390725135803223, 5.417002201080322, 5.411587238311768, 5.394508361816406, 5.394508361816406, 5.767069339752197, 16.226003646850586, 4.86283016204834, 5.175161361694336, 7.939491271972656, 5.125722408294678, 5.093512058258057, 4.965581893920898, 4.959900379180908, 5.070083141326904, 5.067789554595947, 4.9013447761535645, 4.9013447761535645, 4.9013447761535645, 5.601733207702637, 5.601733207702637, 5.601733207702637, 4.991123199462891, 5.498992919921875, 6.487612724304199, 6.492209434509277, 6.567780017852783, 7.562038898468018, 8.291881561279297, 5.957643985748291, 10.443269729614258, 8.502052307128906, 6.473413944244385, 18.72864532470703, 14.717390060424805, 8.477643013000488, 13.16415786743164, 21.990541458129883, 15.829353332519531, 11.66393756866455, 619.154052734375, 51.407684326171875, 32.63053512573242, 13.834005355834961, 8.477643013000488, 7.408332824707031, 6.495196342468262, 5.498481750488281, 5.498481750488281, 5.498481750488281, 5.281837463378906, 7.60363245010376, 5.249547958374023, 5.476030349731445, 5.050411224365234, 5.1456298828125, 5.927558422088623, 5.1837286949157715, 5.299790382385254, 6.103955268859863, 4.994259357452393, 5.133512496948242, 5.133512496948242, 5.354340076446533, 5.633470058441162, 5.156773090362549, 4.904508113861084, 4.904508113861084, 4.917451858520508, 5.1333909034729, 4.881996154785156, 6.12240743637085, 7.323683738708496, 6.429675102233887, 5.607973575592041, 6.838603973388672, 7.472668647766113, 11.643491744995117, 6.590219497680664, 7.078242778778076, 10.678596496582031, 14.717390060424805, 13.16415786743164, 19.654150009155273, 19.591609954833984, 14.460609436035156, 9.740097999572754, 12.660076141357422, 27.447891235351562, 13.145979881286621, 11.446362495422363, 5.0970869064331055, 4.863973140716553, 4.874868869781494, 4.823060035705566, 4.823060035705566, 5.302681922912598, 5.244349002838135, 5.514195442199707, 5.059248924255371, 7.550759792327881, 5.607653617858887, 13.16415786743164, 4.915153980255127, 5.033722400665283, 5.033722400665283, 6.342811584472656, 4.838601589202881, 4.731090545654297, 5.210237979888916, 4.692616939544678, 4.692616939544678, 4.692616939544678, 4.692616939544678, 5.038224220275879, 4.824333667755127, 5.18741512298584, 5.18741512298584, 8.502052307128906, 14.717390060424805, 7.217698097229004, 9.115374565124512, 9.12796688079834, 6.240538597106934, 6.616332054138184, 8.302764892578125, 8.527609825134277, 11.643491744995117, 9.316484451293945, 19.1964054107666, 12.288284301757812, 14.460609436035156, 20.873767852783203, 12.660076141357422, 280.9395751953125, 34.4341926574707, 13.16415786743164, 6.567780017852783, 5.115348815917969, 5.115348815917969, 5.1901984214782715, 5.247694969177246, 5.287421226501465, 5.070734977722168, 5.3143157958984375, 6.393420696258545, 5.075316429138184, 5.075316429138184, 5.889587879180908, 5.2433295249938965, 4.9188079833984375, 4.6846466064453125, 4.660943984985352, 5.399673938751221, 5.145644187927246, 4.6437482833862305, 4.761553764343262, 5.043755531311035, 4.671239376068115, 4.676259994506836, 4.5937089920043945, 4.697700500488281, 4.697700500488281, 5.618841171264648, 5.090657711029053, 5.960978984832764, 6.114691734313965, 6.439486980438232, 12.810417175292969, 6.429675102233887, 7.016592025756836, 6.838603973388672, 6.764118671417236, 8.527609825134277, 6.568662643432617, 7.297935962677002, 8.502052307128906, 7.454616546630859, 9.316484451293945, 11.643491744995117, 8.55013370513916, 14.460609436035156, 12.660076141357422, 16.449888229370117, 8.174324035644531, 9.367424011230469, 10.88923454284668, 21.748254776000977, 9.389148712158203, 18.72864532470703, 9.578999519348145, 25.865068435668945, 19.591609954833984, 15.023110389709473, 27.980974197387695, 6.00263786315918, 5.085466384887695, 6.567780017852783, 5.358790397644043, 4.695364475250244, 5.111688137054443, 5.111688137054443, 5.111688137054443, 5.111688137054443, 5.111688137054443, 5.111688137054443, 5.111688137054443, 5.111688137054443, 5.111688137054443, 5.111688137054443, 5.111688137054443, 5.347707748413086, 4.9100165367126465, 4.710979461669922, 4.689553260803223, 7.562038898468018, 5.4688873291015625, 4.76654577255249, 5.960978984832764, 6.114691734313965, 6.001588821411133, 5.390305042266846, 5.390305042266846, 5.390305042266846, 6.429675102233887, 5.432762145996094, 7.016592025756836, 6.568662643432617, 8.302764892578125, 9.389148712158203, 6.838603973388672, 6.764118671417236, 8.527609825134277, 8.502052307128906, 9.316484451293945, 7.454616546630859, 13.16415786743164, 11.643491744995117, 8.55013370513916, 8.174324035644531, 7.708484649658203, 7.493283748626709, 14.460609436035156, 7.6358642578125, 6.848474979400635, 8.626568794250488, 8.4087495803833, 12.660076141357422, 9.578999519348145, 8.162738800048828, 11.783945083618164, 12.832818984985352, 9.601465225219727, 18.72864532470703, 10.88923454284668, 19.591609954833984, 14.717390060424805, 25.865068435668945, 16.449888229370117, 21.600820541381836, 15.980852127075195, 6.699462890625, 5.601065158843994, 4.815364837646484, 4.815364837646484, 4.91141414642334, 5.261952877044678, 5.081933975219727, 5.294386863708496, 4.721621036529541, 5.680311679840088, 5.960978984832764, 6.114691734313965, 6.001588821411133, 5.134703636169434, 5.134703636169434, 5.134703636169434, 5.134703636169434, 5.134703636169434, 5.134703636169434, 6.429675102233887, 5.390305042266846, 5.390305042266846, 5.390305042266846, 5.432762145996094, 5.392592430114746, 5.392592430114746, 5.392584800720215, 5.392584800720215, 4.565608501434326, 5.395434856414795, 7.016592025756836, 6.568662643432617, 6.764118671417236, 6.838603973388672, 6.014618396759033, 5.987672805786133, 6.276289939880371, 8.527609825134277, 6.479267597198486, 7.454616546630859, 8.502052307128906, 6.355328559875488, 6.848474979400635, 6.492209434509277, 6.567780017852783, 9.316484451293945, 13.16415786743164, 11.643491744995117, 8.55013370513916, 7.493283748626709, 7.708484649658203, 8.174324035644531, 7.6358642578125, 14.460609436035156, 8.626568794250488, 12.660076141357422, 9.389148712158203, 8.4087495803833, 9.578999519348145, 9.601465225219727, 18.72864532470703, 19.1964054107666, 21.600820541381836, 10.88923454284668, 14.717390060424805, 19.591609954833984, 25.865068435668945, 14.348899841308594, 5.460945129394531, 4.94392204284668, 5.416226863861084, 4.883260250091553, 4.9943060874938965, 6.524763584136963, 5.415852069854736, 4.6913909912109375, 4.582216739654541, 4.802074432373047, 4.973475933074951, 5.1691083908081055, 5.934765815734863, 5.960978984832764, 6.114691734313965, 4.76654577255249, 4.665085315704346, 6.001588821411133, 4.549427509307861, 4.549427509307861, 4.549427509307861, 4.549427509307861, 4.549427509307861, 6.429675102233887, 4.5230183601379395, 5.390305042266846, 5.390305042266846, 5.390305042266846, 5.432762145996094, 5.392584800720215, 5.392584800720215, 5.392592430114746, 5.392592430114746, 12.660076141357422, 5.395437717437744, 7.016592025756836, 6.568662643432617, 6.764118671417236, 6.838603973388672, 6.014618396759033, 6.276289939880371, 5.987672805786133, 8.527609825134277, 6.385391712188721, 6.479267597198486, 7.454616546630859, 8.502052307128906, 6.355328559875488, 6.848474979400635, 9.316484451293945, 6.492209434509277, 13.16415786743164, 11.643491744995117, 8.55013370513916, 7.493283748626709, 7.708484649658203, 8.174324035644531, 7.6358642578125, 16.449888229370117, 14.460609436035156, 8.626568794250488, 8.4087495803833, 9.389148712158203, 9.578999519348145, 9.601465225219727, 8.162738800048828, 18.72864532470703, 21.600820541381836, 10.88923454284668, 14.717390060424805, 19.591609954833984, 25.865068435668945, 19.654150009155273, 5.960978984832764, 6.114691734313965, 6.001588821411133, 6.429675102233887, 5.390305042266846, 5.390305042266846, 5.390305042266846, 5.432762145996094, 5.392592430114746, 5.392592430114746, 5.392584800720215, 5.392584800720215, 5.276327133178711, 5.395434856414795, 5.395437717437744, 5.395586013793945, 5.395582675933838, 5.393128871917725, 5.452894687652588, 5.323267936706543, 5.321755409240723, 5.321766376495361, 5.323298454284668, 5.4076457023620605, 5.196268081665039, 5.196268081665039, 5.200113296508789, 5.200113296508789, 5.105191707611084, 5.105191707611084, 5.3335771560668945, 5.298369407653809, 6.568662643432617, 6.764118671417236, 7.016592025756836, 6.838603973388672, 6.014618396759033, 5.987672805786133, 6.276289939880371, 8.527609825134277, 6.479267597198486, 6.355328559875488, 6.002676963806152, 7.454616546630859, 8.502052307128906, 6.848474979400635, 6.492209434509277, 6.567780017852783, 5.9628095626831055, 9.316484451293945, 6.103955268859863, 6.616332054138184, 6.585390090942383, 7.493283748626709, 6.473413944244385, 7.708484649658203, 8.55013370513916, 13.16415786743164, 11.643491744995117, 7.6358642578125, 8.174324035644531, 8.4087495803833, 8.626568794250488, 7.950648784637451, 14.460609436035156, 8.162738800048828, 9.389148712158203, 12.660076141357422, 9.578999519348145, 9.601465225219727, 7.562038898468018, 8.9856538772583, 10.88923454284668, 18.72864532470703, 14.717390060424805, 19.591609954833984, 25.865068435668945, 21.600820541381836, 19.654150009155273, 5.960978984832764, 6.114691734313965, 6.001588821411133, 6.429675102233887, 5.390305042266846, 5.390305042266846, 5.390305042266846, 5.432762145996094, 5.392584800720215, 5.392584800720215, 5.392592430114746, 5.392592430114746, 5.276327133178711, 5.395434856414795, 5.395437717437744, 5.395582675933838, 5.395586013793945, 5.393128871917725, 5.452894687652588, 5.321766376495361, 5.321755409240723, 5.323267936706543, 5.323298454284668, 5.4076457023620605, 5.196268081665039, 5.196268081665039, 5.200113296508789, 5.200113296508789, 5.105191707611084, 5.105191707611084, 5.3335771560668945, 5.298369407653809, 6.568662643432617, 6.764118671417236, 7.016592025756836, 6.838603973388672, 6.014618396759033, 5.987672805786133, 6.276289939880371, 8.527609825134277, 6.479267597198486, 6.355328559875488, 6.002676963806152, 7.454616546630859, 8.502052307128906, 6.848474979400635, 6.492209434509277, 6.567780017852783, 5.9628095626831055, 9.316484451293945, 6.103955268859863, 6.616332054138184, 7.493283748626709, 6.585390090942383, 6.473413944244385, 8.55013370513916, 7.708484649658203, 13.16415786743164, 11.643491744995117, 7.6358642578125, 8.174324035644531, 8.4087495803833, 8.626568794250488, 7.950648784637451, 14.460609436035156, 8.162738800048828, 9.389148712158203, 12.660076141357422, 9.578999519348145, 9.601465225219727, 7.562038898468018, 8.9856538772583, 10.88923454284668, 18.72864532470703, 14.717390060424805, 19.591609954833984, 25.865068435668945, 21.600820541381836, 19.654150009155273, 5.960978984832764, 6.114691734313965, 6.001588821411133, 6.429675102233887, 5.390305042266846, 5.390305042266846, 5.390305042266846, 5.432762145996094, 5.392592430114746, 5.392592430114746, 5.392584800720215, 5.392584800720215, 5.276327133178711, 5.395437717437744, 5.395434856414795, 5.395582675933838, 5.395586013793945, 5.393128871917725, 5.452894687652588, 5.323298454284668, 5.321755409240723, 5.323267936706543, 5.321766376495361, 5.4076457023620605, 5.196268081665039, 5.196268081665039, 5.200113296508789, 5.200113296508789, 5.3335771560668945, 5.105191707611084, 5.298369407653809, 6.568662643432617, 6.764118671417236, 7.016592025756836, 6.838603973388672, 6.014618396759033, 5.987672805786133, 6.276289939880371, 8.527609825134277, 6.479267597198486, 6.355328559875488, 6.002676963806152, 7.454616546630859, 8.502052307128906, 6.848474979400635, 6.492209434509277, 6.567780017852783, 5.9628095626831055, 6.103955268859863, 9.316484451293945, 6.616332054138184, 6.585390090942383, 7.493283748626709, 6.473413944244385, 8.55013370513916, 7.708484649658203, 13.16415786743164, 11.643491744995117, 7.6358642578125, 8.174324035644531, 8.4087495803833, 8.626568794250488, 7.950648784637451, 14.460609436035156, 8.162738800048828, 9.389148712158203, 12.660076141357422, 9.578999519348145, 9.601465225219727, 7.562038898468018, 8.9856538772583, 10.88923454284668, 18.72864532470703, 14.717390060424805, 19.591609954833984, 25.865068435668945, 21.600820541381836, 19.654150009155273, 5.960978984832764, 6.114691734313965, 6.001588821411133, 6.429675102233887, 5.390305042266846, 5.390305042266846, 5.390305042266846, 5.432762145996094, 5.392584800720215, 5.392584800720215, 5.392592430114746, 5.392592430114746, 5.276327133178711, 5.395434856414795, 5.395437717437744, 5.395586013793945, 5.395582675933838, 5.393128871917725, 5.452894687652588, 5.321755409240723, 5.323267936706543, 5.321766376495361, 5.323298454284668, 5.4076457023620605, 5.196268081665039, 5.196268081665039, 5.200113296508789, 5.200113296508789, 5.3335771560668945, 5.105191707611084, 5.298369407653809, 6.568662643432617, 6.764118671417236, 7.016592025756836, 6.838603973388672, 6.014618396759033, 5.987672805786133, 6.276289939880371, 8.527609825134277, 6.479267597198486, 6.355328559875488, 6.002676963806152, 7.454616546630859, 8.502052307128906, 6.848474979400635, 6.492209434509277, 6.567780017852783, 5.9628095626831055, 9.316484451293945, 6.103955268859863, 6.616332054138184, 7.493283748626709, 6.585390090942383, 6.473413944244385, 7.708484649658203, 8.55013370513916, 13.16415786743164, 11.643491744995117, 7.6358642578125, 8.174324035644531, 8.4087495803833, 8.626568794250488, 7.950648784637451, 14.460609436035156, 8.162738800048828, 9.389148712158203, 12.660076141357422, 9.578999519348145, 9.601465225219727, 7.562038898468018, 8.9856538772583, 10.88923454284668, 18.72864532470703, 14.717390060424805, 19.591609954833984, 25.865068435668945, 21.600820541381836, 19.654150009155273, 5.960978984832764, 6.114691734313965, 6.001588821411133, 6.429675102233887, 5.390305042266846, 5.390305042266846, 5.390305042266846, 5.432762145996094, 5.392592430114746, 5.392592430114746, 5.392584800720215, 5.392584800720215, 5.276327133178711, 5.395434856414795, 5.395437717437744, 5.395582675933838, 5.395586013793945, 5.393128871917725, 5.452894687652588, 5.321766376495361, 5.321755409240723, 5.323267936706543, 5.323298454284668, 5.4076457023620605, 5.196268081665039, 5.196268081665039, 5.105191707611084, 5.105191707611084, 5.105191707611084, 5.200113296508789, 5.200113296508789, 5.3335771560668945, 6.568662643432617, 6.764118671417236, 7.016592025756836, 6.838603973388672, 6.014618396759033, 5.987672805786133, 6.276289939880371, 8.527609825134277, 6.479267597198486, 6.355328559875488, 6.002676963806152, 7.454616546630859, 8.502052307128906, 6.848474979400635, 6.492209434509277, 6.567780017852783, 6.103955268859863, 9.316484451293945, 5.9628095626831055, 6.616332054138184, 6.585390090942383, 7.493283748626709, 6.473413944244385, 8.55013370513916, 7.708484649658203, 13.16415786743164, 11.643491744995117, 7.6358642578125, 8.174324035644531, 8.4087495803833, 8.626568794250488, 7.950648784637451, 14.460609436035156, 8.162738800048828, 9.389148712158203, 12.660076141357422, 9.578999519348145, 9.601465225219727, 7.562038898468018, 8.9856538772583, 10.88923454284668, 18.72864532470703, 14.717390060424805, 19.591609954833984, 25.865068435668945, 21.600820541381836, 19.654150009155273, 5.960978984832764, 6.114691734313965, 6.001588821411133, 6.429675102233887, 5.390305042266846, 5.390305042266846, 5.390305042266846, 5.432762145996094, 5.392584800720215, 5.392584800720215, 5.392592430114746, 5.392592430114746, 5.276327133178711, 5.395434856414795, 5.395437717437744, 5.395586013793945, 5.395582675933838, 5.393128871917725, 5.452894687652588, 5.323267936706543, 5.323298454284668, 5.321755409240723, 5.321766376495361, 5.4076457023620605, 5.196268081665039, 5.196268081665039, 5.200113296508789, 5.200113296508789, 5.3335771560668945, 5.105191707611084, 5.298369407653809, 6.568662643432617, 6.764118671417236, 7.016592025756836, 6.838603973388672, 6.014618396759033, 5.987672805786133, 6.276289939880371, 8.527609825134277, 6.479267597198486, 6.355328559875488, 6.002676963806152, 7.454616546630859, 8.502052307128906, 6.848474979400635, 6.492209434509277, 6.567780017852783, 5.9628095626831055, 9.316484451293945, 6.103955268859863, 6.616332054138184, 6.585390090942383, 7.493283748626709, 6.473413944244385, 8.55013370513916, 7.708484649658203, 13.16415786743164, 11.643491744995117, 7.6358642578125, 8.174324035644531, 8.4087495803833, 8.626568794250488, 7.950648784637451, 14.460609436035156, 8.162738800048828, 9.389148712158203, 12.660076141357422, 9.578999519348145, 9.601465225219727, 7.562038898468018, 8.9856538772583, 10.88923454284668, 18.72864532470703, 14.717390060424805, 19.591609954833984, 25.865068435668945, 21.600820541381836, 19.654150009155273], \"Category\": [\"Default\", \"Default\", \"Default\", \"Default\", \"Default\", \"Default\", \"Default\", \"Default\", \"Default\", \"Default\", \"Default\", \"Default\", \"Default\", \"Default\", \"Default\", \"Default\", \"Default\", \"Default\", \"Default\", \"Default\", \"Default\", \"Default\", \"Default\", \"Default\", \"Default\", \"Default\", \"Default\", \"Default\", \"Default\", \"Default\", \"Topic1\", \"Topic1\", \"Topic1\", \"Topic1\", \"Topic1\", \"Topic1\", \"Topic1\", \"Topic1\", \"Topic1\", \"Topic1\", \"Topic1\", \"Topic1\", \"Topic1\", \"Topic1\", \"Topic1\", \"Topic1\", \"Topic1\", \"Topic1\", \"Topic1\", \"Topic1\", \"Topic1\", \"Topic1\", \"Topic1\", \"Topic1\", \"Topic1\", \"Topic1\", \"Topic1\", \"Topic1\", \"Topic1\", \"Topic1\", \"Topic1\", \"Topic1\", \"Topic1\", \"Topic1\", \"Topic1\", \"Topic1\", \"Topic1\", \"Topic1\", \"Topic2\", \"Topic2\", \"Topic2\", \"Topic2\", \"Topic2\", \"Topic2\", \"Topic2\", \"Topic2\", \"Topic2\", \"Topic2\", \"Topic2\", \"Topic2\", \"Topic2\", \"Topic2\", \"Topic2\", \"Topic2\", \"Topic2\", \"Topic2\", \"Topic2\", \"Topic2\", \"Topic2\", \"Topic2\", \"Topic2\", \"Topic2\", \"Topic2\", \"Topic2\", \"Topic2\", \"Topic2\", \"Topic2\", \"Topic2\", \"Topic2\", \"Topic2\", \"Topic2\", \"Topic2\", \"Topic2\", \"Topic2\", \"Topic2\", \"Topic2\", \"Topic3\", \"Topic3\", \"Topic3\", \"Topic3\", \"Topic3\", \"Topic3\", \"Topic3\", \"Topic3\", \"Topic3\", \"Topic3\", \"Topic3\", \"Topic3\", \"Topic3\", \"Topic3\", \"Topic3\", \"Topic3\", \"Topic3\", \"Topic3\", \"Topic3\", \"Topic3\", \"Topic3\", \"Topic3\", \"Topic3\", \"Topic3\", \"Topic3\", \"Topic3\", \"Topic3\", \"Topic3\", \"Topic3\", \"Topic3\", \"Topic4\", \"Topic4\", \"Topic4\", \"Topic4\", \"Topic4\", \"Topic4\", \"Topic4\", \"Topic4\", \"Topic4\", \"Topic4\", \"Topic4\", \"Topic4\", \"Topic4\", \"Topic4\", \"Topic4\", \"Topic4\", \"Topic4\", \"Topic4\", \"Topic4\", \"Topic4\", \"Topic4\", \"Topic4\", \"Topic4\", \"Topic4\", \"Topic4\", \"Topic4\", \"Topic4\", \"Topic4\", \"Topic4\", \"Topic4\", \"Topic4\", \"Topic4\", \"Topic5\", \"Topic5\", \"Topic5\", \"Topic5\", \"Topic5\", \"Topic5\", \"Topic5\", \"Topic5\", \"Topic5\", \"Topic5\", \"Topic5\", \"Topic5\", \"Topic5\", \"Topic5\", \"Topic5\", \"Topic5\", \"Topic5\", \"Topic5\", \"Topic5\", \"Topic5\", \"Topic5\", \"Topic5\", \"Topic5\", \"Topic5\", \"Topic5\", \"Topic5\", \"Topic5\", \"Topic5\", \"Topic5\", \"Topic5\", \"Topic5\", \"Topic5\", \"Topic5\", \"Topic5\", \"Topic5\", \"Topic5\", \"Topic5\", \"Topic5\", \"Topic5\", \"Topic5\", \"Topic5\", \"Topic5\", \"Topic5\", \"Topic5\", \"Topic5\", \"Topic5\", \"Topic5\", \"Topic6\", \"Topic6\", \"Topic6\", \"Topic6\", \"Topic6\", \"Topic6\", \"Topic6\", \"Topic6\", \"Topic6\", \"Topic6\", \"Topic6\", \"Topic6\", \"Topic6\", \"Topic6\", \"Topic6\", \"Topic6\", \"Topic6\", \"Topic6\", \"Topic6\", \"Topic6\", \"Topic6\", \"Topic6\", \"Topic6\", \"Topic6\", \"Topic6\", \"Topic6\", \"Topic6\", \"Topic6\", \"Topic6\", \"Topic6\", \"Topic6\", \"Topic6\", \"Topic6\", \"Topic6\", \"Topic6\", \"Topic6\", \"Topic6\", \"Topic6\", \"Topic6\", \"Topic6\", \"Topic6\", \"Topic6\", \"Topic6\", \"Topic6\", \"Topic6\", \"Topic6\", \"Topic6\", \"Topic7\", \"Topic7\", \"Topic7\", \"Topic7\", \"Topic7\", \"Topic7\", \"Topic7\", \"Topic7\", \"Topic7\", \"Topic7\", \"Topic7\", \"Topic7\", \"Topic7\", \"Topic7\", \"Topic7\", \"Topic7\", \"Topic7\", \"Topic7\", \"Topic7\", \"Topic7\", \"Topic7\", \"Topic7\", \"Topic7\", \"Topic7\", \"Topic7\", \"Topic7\", \"Topic7\", \"Topic7\", \"Topic7\", \"Topic7\", \"Topic7\", \"Topic7\", \"Topic7\", \"Topic7\", \"Topic7\", \"Topic7\", \"Topic7\", \"Topic7\", \"Topic7\", \"Topic7\", \"Topic7\", \"Topic7\", \"Topic7\", \"Topic7\", \"Topic7\", \"Topic7\", \"Topic7\", \"Topic8\", \"Topic8\", \"Topic8\", \"Topic8\", \"Topic8\", \"Topic8\", \"Topic8\", \"Topic8\", \"Topic8\", \"Topic8\", \"Topic8\", \"Topic8\", \"Topic8\", \"Topic8\", \"Topic8\", \"Topic8\", \"Topic8\", \"Topic8\", \"Topic8\", \"Topic8\", \"Topic8\", \"Topic8\", \"Topic8\", \"Topic8\", \"Topic8\", \"Topic8\", \"Topic8\", \"Topic8\", \"Topic8\", \"Topic8\", \"Topic8\", \"Topic8\", \"Topic8\", \"Topic8\", \"Topic8\", \"Topic8\", \"Topic8\", \"Topic8\", \"Topic8\", \"Topic8\", \"Topic8\", \"Topic8\", \"Topic8\", \"Topic8\", \"Topic8\", \"Topic8\", \"Topic8\", \"Topic9\", \"Topic9\", \"Topic9\", \"Topic9\", \"Topic9\", \"Topic9\", \"Topic9\", \"Topic9\", \"Topic9\", \"Topic9\", \"Topic9\", \"Topic9\", \"Topic9\", \"Topic9\", \"Topic9\", \"Topic9\", \"Topic9\", \"Topic9\", \"Topic9\", \"Topic9\", \"Topic9\", \"Topic9\", \"Topic9\", \"Topic9\", \"Topic9\", \"Topic9\", \"Topic9\", \"Topic9\", \"Topic9\", \"Topic9\", \"Topic9\", \"Topic9\", \"Topic9\", \"Topic9\", \"Topic9\", \"Topic9\", \"Topic9\", \"Topic9\", \"Topic9\", \"Topic9\", \"Topic9\", \"Topic9\", \"Topic9\", \"Topic9\", \"Topic9\", \"Topic9\", \"Topic9\", \"Topic9\", \"Topic9\", \"Topic9\", \"Topic9\", \"Topic9\", \"Topic9\", \"Topic9\", \"Topic9\", \"Topic9\", \"Topic9\", \"Topic9\", \"Topic9\", \"Topic10\", \"Topic10\", \"Topic10\", \"Topic10\", \"Topic10\", \"Topic10\", \"Topic10\", \"Topic10\", \"Topic10\", \"Topic10\", \"Topic10\", \"Topic10\", \"Topic10\", \"Topic10\", \"Topic10\", \"Topic10\", \"Topic10\", \"Topic10\", \"Topic10\", \"Topic10\", \"Topic10\", \"Topic10\", \"Topic10\", \"Topic10\", \"Topic10\", \"Topic10\", \"Topic10\", \"Topic10\", \"Topic10\", \"Topic10\", \"Topic10\", \"Topic10\", \"Topic10\", \"Topic10\", \"Topic10\", \"Topic10\", \"Topic10\", \"Topic10\", \"Topic10\", \"Topic10\", \"Topic10\", \"Topic10\", \"Topic10\", \"Topic10\", \"Topic10\", \"Topic10\", \"Topic10\", \"Topic10\", \"Topic10\", \"Topic10\", \"Topic10\", \"Topic10\", \"Topic10\", \"Topic10\", \"Topic10\", \"Topic10\", \"Topic10\", \"Topic10\", \"Topic10\", \"Topic10\", \"Topic10\", \"Topic10\", \"Topic10\", \"Topic10\", \"Topic10\", \"Topic10\", \"Topic11\", \"Topic11\", \"Topic11\", \"Topic11\", \"Topic11\", \"Topic11\", \"Topic11\", \"Topic11\", \"Topic11\", \"Topic11\", \"Topic11\", \"Topic11\", \"Topic11\", \"Topic11\", \"Topic11\", \"Topic11\", \"Topic11\", \"Topic11\", \"Topic11\", \"Topic11\", \"Topic11\", \"Topic11\", \"Topic11\", \"Topic11\", \"Topic11\", \"Topic11\", \"Topic11\", \"Topic11\", \"Topic11\", \"Topic11\", \"Topic11\", \"Topic11\", \"Topic11\", \"Topic11\", \"Topic11\", \"Topic11\", \"Topic11\", \"Topic11\", \"Topic11\", \"Topic11\", \"Topic11\", \"Topic11\", \"Topic11\", \"Topic11\", \"Topic11\", \"Topic11\", \"Topic11\", \"Topic11\", \"Topic11\", \"Topic11\", \"Topic11\", \"Topic11\", \"Topic11\", \"Topic11\", \"Topic11\", \"Topic11\", \"Topic11\", \"Topic11\", \"Topic11\", \"Topic11\", \"Topic11\", \"Topic11\", \"Topic11\", \"Topic11\", \"Topic11\", \"Topic11\", \"Topic11\", \"Topic11\", \"Topic12\", \"Topic12\", \"Topic12\", \"Topic12\", \"Topic12\", \"Topic12\", \"Topic12\", \"Topic12\", \"Topic12\", \"Topic12\", \"Topic12\", \"Topic12\", \"Topic12\", \"Topic12\", \"Topic12\", \"Topic12\", \"Topic12\", \"Topic12\", \"Topic12\", \"Topic12\", \"Topic12\", \"Topic12\", \"Topic12\", \"Topic12\", \"Topic12\", \"Topic12\", \"Topic12\", \"Topic12\", \"Topic12\", \"Topic12\", \"Topic12\", \"Topic12\", \"Topic12\", \"Topic12\", \"Topic12\", \"Topic12\", \"Topic12\", \"Topic12\", \"Topic12\", \"Topic12\", \"Topic12\", \"Topic12\", \"Topic12\", \"Topic12\", \"Topic12\", \"Topic12\", \"Topic12\", \"Topic12\", \"Topic12\", \"Topic12\", \"Topic12\", \"Topic12\", \"Topic12\", \"Topic12\", \"Topic12\", \"Topic12\", \"Topic12\", \"Topic12\", \"Topic12\", \"Topic12\", \"Topic12\", \"Topic12\", \"Topic12\", \"Topic12\", \"Topic12\", \"Topic12\", \"Topic12\", \"Topic12\", \"Topic12\", \"Topic12\", \"Topic12\", \"Topic12\", \"Topic12\", \"Topic12\", \"Topic13\", \"Topic13\", \"Topic13\", \"Topic13\", \"Topic13\", \"Topic13\", \"Topic13\", \"Topic13\", \"Topic13\", \"Topic13\", \"Topic13\", \"Topic13\", \"Topic13\", \"Topic13\", \"Topic13\", \"Topic13\", \"Topic13\", \"Topic13\", \"Topic13\", \"Topic13\", \"Topic13\", \"Topic13\", \"Topic13\", \"Topic13\", \"Topic13\", \"Topic13\", \"Topic13\", \"Topic13\", \"Topic13\", \"Topic13\", \"Topic13\", \"Topic13\", \"Topic13\", \"Topic13\", \"Topic13\", \"Topic13\", \"Topic13\", \"Topic13\", \"Topic13\", \"Topic13\", \"Topic13\", \"Topic13\", \"Topic13\", \"Topic13\", \"Topic13\", \"Topic13\", \"Topic13\", \"Topic13\", \"Topic13\", \"Topic13\", \"Topic13\", \"Topic13\", \"Topic13\", \"Topic13\", \"Topic13\", \"Topic13\", \"Topic13\", \"Topic13\", \"Topic13\", \"Topic13\", \"Topic13\", \"Topic13\", \"Topic13\", \"Topic13\", \"Topic13\", \"Topic13\", \"Topic13\", \"Topic13\", \"Topic13\", \"Topic13\", \"Topic13\", \"Topic13\", \"Topic13\", \"Topic13\", \"Topic13\", \"Topic13\", \"Topic13\", \"Topic13\", \"Topic13\", \"Topic14\", \"Topic14\", \"Topic14\", \"Topic14\", \"Topic14\", \"Topic14\", \"Topic14\", \"Topic14\", \"Topic14\", \"Topic14\", \"Topic14\", \"Topic14\", \"Topic14\", \"Topic14\", \"Topic14\", \"Topic14\", \"Topic14\", \"Topic14\", \"Topic14\", \"Topic14\", \"Topic14\", \"Topic14\", \"Topic14\", \"Topic14\", \"Topic14\", \"Topic14\", \"Topic14\", \"Topic14\", \"Topic14\", \"Topic14\", \"Topic14\", \"Topic14\", \"Topic14\", \"Topic14\", \"Topic14\", \"Topic14\", \"Topic14\", \"Topic14\", \"Topic14\", \"Topic14\", \"Topic14\", \"Topic14\", \"Topic14\", \"Topic14\", \"Topic14\", \"Topic14\", \"Topic14\", \"Topic14\", \"Topic14\", \"Topic14\", \"Topic14\", \"Topic14\", \"Topic14\", \"Topic14\", \"Topic14\", \"Topic14\", \"Topic14\", \"Topic14\", \"Topic14\", \"Topic14\", \"Topic14\", \"Topic14\", \"Topic14\", \"Topic14\", \"Topic14\", \"Topic14\", \"Topic14\", \"Topic14\", \"Topic14\", \"Topic14\", \"Topic14\", \"Topic14\", \"Topic14\", \"Topic14\", \"Topic14\", \"Topic14\", \"Topic14\", \"Topic14\", \"Topic14\", \"Topic15\", \"Topic15\", \"Topic15\", \"Topic15\", \"Topic15\", \"Topic15\", \"Topic15\", \"Topic15\", \"Topic15\", \"Topic15\", \"Topic15\", \"Topic15\", \"Topic15\", \"Topic15\", \"Topic15\", \"Topic15\", \"Topic15\", \"Topic15\", \"Topic15\", \"Topic15\", \"Topic15\", \"Topic15\", \"Topic15\", \"Topic15\", \"Topic15\", \"Topic15\", \"Topic15\", \"Topic15\", \"Topic15\", \"Topic15\", \"Topic15\", \"Topic15\", \"Topic15\", \"Topic15\", \"Topic15\", \"Topic15\", \"Topic15\", \"Topic15\", \"Topic15\", \"Topic15\", \"Topic15\", \"Topic15\", \"Topic15\", \"Topic15\", \"Topic15\", \"Topic15\", \"Topic15\", \"Topic15\", \"Topic15\", \"Topic15\", \"Topic15\", \"Topic15\", \"Topic15\", \"Topic15\", \"Topic15\", \"Topic15\", \"Topic15\", \"Topic15\", \"Topic15\", \"Topic15\", \"Topic15\", \"Topic15\", \"Topic15\", \"Topic15\", \"Topic15\", \"Topic15\", \"Topic15\", \"Topic15\", \"Topic15\", \"Topic15\", \"Topic15\", \"Topic15\", \"Topic15\", \"Topic15\", \"Topic15\", \"Topic15\", \"Topic15\", \"Topic15\", \"Topic16\", \"Topic16\", \"Topic16\", \"Topic16\", \"Topic16\", \"Topic16\", \"Topic16\", \"Topic16\", \"Topic16\", \"Topic16\", \"Topic16\", \"Topic16\", \"Topic16\", \"Topic16\", \"Topic16\", \"Topic16\", \"Topic16\", \"Topic16\", \"Topic16\", \"Topic16\", \"Topic16\", \"Topic16\", \"Topic16\", \"Topic16\", \"Topic16\", \"Topic16\", \"Topic16\", \"Topic16\", \"Topic16\", \"Topic16\", \"Topic16\", \"Topic16\", \"Topic16\", \"Topic16\", \"Topic16\", \"Topic16\", \"Topic16\", \"Topic16\", \"Topic16\", \"Topic16\", \"Topic16\", \"Topic16\", \"Topic16\", \"Topic16\", \"Topic16\", \"Topic16\", \"Topic16\", \"Topic16\", \"Topic16\", \"Topic16\", \"Topic16\", \"Topic16\", \"Topic16\", \"Topic16\", \"Topic16\", \"Topic16\", \"Topic16\", \"Topic16\", \"Topic16\", \"Topic16\", \"Topic16\", \"Topic16\", \"Topic16\", \"Topic16\", \"Topic16\", \"Topic16\", \"Topic16\", \"Topic16\", \"Topic16\", \"Topic16\", \"Topic16\", \"Topic16\", \"Topic16\", \"Topic16\", \"Topic16\", \"Topic16\", \"Topic16\", \"Topic16\", \"Topic17\", \"Topic17\", \"Topic17\", \"Topic17\", \"Topic17\", \"Topic17\", \"Topic17\", \"Topic17\", \"Topic17\", \"Topic17\", \"Topic17\", \"Topic17\", \"Topic17\", \"Topic17\", \"Topic17\", \"Topic17\", \"Topic17\", \"Topic17\", \"Topic17\", \"Topic17\", \"Topic17\", \"Topic17\", \"Topic17\", \"Topic17\", \"Topic17\", \"Topic17\", \"Topic17\", \"Topic17\", \"Topic17\", \"Topic17\", \"Topic17\", \"Topic17\", \"Topic17\", \"Topic17\", \"Topic17\", \"Topic17\", \"Topic17\", \"Topic17\", \"Topic17\", \"Topic17\", \"Topic17\", \"Topic17\", \"Topic17\", \"Topic17\", \"Topic17\", \"Topic17\", \"Topic17\", \"Topic17\", \"Topic17\", \"Topic17\", \"Topic17\", \"Topic17\", \"Topic17\", \"Topic17\", \"Topic17\", \"Topic17\", \"Topic17\", \"Topic17\", \"Topic17\", \"Topic17\", \"Topic17\", \"Topic17\", \"Topic17\", \"Topic17\", \"Topic17\", \"Topic17\", \"Topic17\", \"Topic17\", \"Topic17\", \"Topic17\", \"Topic17\", \"Topic17\", \"Topic17\", \"Topic17\", \"Topic17\", \"Topic17\", \"Topic17\", \"Topic17\", \"Topic17\", \"Topic18\", \"Topic18\", \"Topic18\", \"Topic18\", \"Topic18\", \"Topic18\", \"Topic18\", \"Topic18\", \"Topic18\", \"Topic18\", \"Topic18\", \"Topic18\", \"Topic18\", \"Topic18\", \"Topic18\", \"Topic18\", \"Topic18\", \"Topic18\", \"Topic18\", \"Topic18\", \"Topic18\", \"Topic18\", \"Topic18\", \"Topic18\", \"Topic18\", \"Topic18\", \"Topic18\", \"Topic18\", \"Topic18\", \"Topic18\", \"Topic18\", \"Topic18\", \"Topic18\", \"Topic18\", \"Topic18\", \"Topic18\", \"Topic18\", \"Topic18\", \"Topic18\", \"Topic18\", \"Topic18\", \"Topic18\", \"Topic18\", \"Topic18\", \"Topic18\", \"Topic18\", \"Topic18\", \"Topic18\", \"Topic18\", \"Topic18\", \"Topic18\", \"Topic18\", \"Topic18\", \"Topic18\", \"Topic18\", \"Topic18\", \"Topic18\", \"Topic18\", \"Topic18\", \"Topic18\", \"Topic18\", \"Topic18\", \"Topic18\", \"Topic18\", \"Topic18\", \"Topic18\", \"Topic18\", \"Topic18\", \"Topic18\", \"Topic18\", \"Topic18\", \"Topic18\", \"Topic18\", \"Topic18\", \"Topic18\", \"Topic18\", \"Topic18\", \"Topic18\"], \"logprob\": [30.0, 29.0, 28.0, 27.0, 26.0, 25.0, 24.0, 23.0, 22.0, 21.0, 20.0, 19.0, 18.0, 17.0, 16.0, 15.0, 14.0, 13.0, 12.0, 11.0, 10.0, 9.0, 8.0, 7.0, 6.0, 5.0, 4.0, 3.0, 2.0, 1.0, -3.2797999382019043, -3.5985000133514404, -3.6647000312805176, -3.682499885559082, -4.031499862670898, -3.7248001098632812, -4.178800106048584, -4.498300075531006, -4.74970006942749, -4.758699893951416, -4.681099891662598, -4.7347002029418945, -4.082499980926514, -4.91379976272583, -4.886199951171875, -4.820099830627441, -5.011099815368652, -5.095699787139893, -5.003900051116943, -4.741799831390381, -4.9019999504089355, -5.349100112915039, -5.54449987411499, -5.706200122833252, -5.488100051879883, -5.727499961853027, -5.274899959564209, -5.301599979400635, -5.571800231933594, -5.667799949645996, -5.508900165557861, -4.896299839019775, -5.322400093078613, -4.628799915313721, -3.141900062561035, -5.196899890899658, -5.377299785614014, -4.581099987030029, -2.8778998851776123, -3.5041000843048096, -3.9521000385284424, -4.011600017547607, -4.118800163269043, -4.39169979095459, -4.059299945831299, -4.862299919128418, -4.854000091552734, -5.03000020980835, -4.975800037384033, -4.9720001220703125, -5.1269001960754395, -5.519100189208984, -5.5395002365112305, -5.662099838256836, -5.728000164031982, -5.45419979095459, -5.604300022125244, -5.675899982452393, -5.749300003051758, -5.812399864196777, -5.719299793243408, -5.833199977874756, -5.795300006866455, -5.879300117492676, -5.909200191497803, -5.855199813842773, -5.952199935913086, -5.789400100708008, -3.3492000102996826, -4.150899887084961, -2.399399995803833, -4.599899768829346, -5.55019998550415, -5.587399959564209, -5.513000011444092, -5.463399887084961, -4.400000095367432, -4.407899856567383, -5.273900032043457, -5.644100189208984, -5.617300033569336, -5.708700180053711, -5.9822998046875, -6.055699825286865, -6.1356000900268555, -6.138000011444092, -6.220600128173828, -6.299699783325195, -6.296999931335449, -6.307000160217285, -6.305699825286865, -6.383900165557861, -6.357699871063232, -6.4156999588012695, -6.499300003051758, -6.403800010681152, -6.408999919891357, -6.519999980926514, -6.525100231170654, -6.576000213623047, -6.572700023651123, -6.635499954223633, -6.640200138092041, -6.533599853515625, -6.677700042724609, -6.508399963378906, -5.351099967956543, -5.359300136566162, -5.696599960327148, -5.731400012969971, -5.754000186920166, -6.103899955749512, -6.107600212097168, -5.894999980926514, -6.259900093078613, -6.337600231170654, -6.432799816131592, -6.446199893951416, -6.678299903869629, -6.6859002113342285, -6.673099994659424, -6.776299953460693, -6.923600196838379, -6.920400142669678, -6.978499889373779, -6.972799777984619, -7.022600173950195, -7.05709981918335, -7.004700183868408, -7.068600177764893, -7.0904998779296875, -7.178299903869629, -7.215199947357178, -7.287600040435791, -7.251500129699707, -7.181099891662598, -7.252999782562256, -7.223499774932861, -3.529099941253662, -4.605299949645996, -5.669600009918213, -7.539100170135498, -7.720300197601318, -8.04520034790039, -8.330100059509277, -8.477499961853027, -8.678600311279297, -8.678600311279297, -8.844599723815918, -8.844599723815918, -8.844599723815918, -8.7923002243042, -8.7923002243042, -8.7923002243042, -8.7923002243042, -8.826499938964844, -8.826499938964844, -8.853699684143066, -8.85319995880127, -8.871299743652344, -8.871299743652344, -8.976900100708008, -8.980199813842773, -8.600199699401855, -8.836299896240234, -9.019499778747559, -9.019499778747559, -9.019499778747559, -8.648599624633789, -8.905599594116211, -9.019499778747559, -9.019499778747559, -8.496600151062012, -8.743200302124023, -8.838000297546387, -8.684000015258789, -8.67240047454834, -8.741800308227539, -8.818499565124512, -8.682499885559082, -8.702300071716309, -8.66189956665039, -8.657699584960938, -8.780799865722656, -8.78030014038086, -2.809000015258789, -5.914400100708008, -6.0843000411987305, -7.495100021362305, -8.565699577331543, -8.674099922180176, -8.695099830627441, -8.850700378417969, -8.85789966583252, -8.907099723815918, -8.907099723815918, -8.849499702453613, -7.8221001625061035, -9.02750015258789, -8.971099853515625, -8.561300277709961, -9.014300346374512, -9.050700187683105, -9.076899528503418, -9.081700325012207, -9.06470012664795, -9.06760025024414, -9.101400375366211, -9.101400375366211, -9.101400375366211, -8.970199584960938, -8.970199584960938, -8.970199584960938, -9.096199989318848, -9.001199722290039, -8.845100402832031, -8.861300468444824, -8.852399826049805, -8.744999885559082, -8.713299751281738, -8.951600074768066, -8.614899635314941, -8.74899959564209, -8.949899673461914, -8.537099838256836, -8.71660041809082, -8.8927001953125, -8.820099830627441, -8.799699783325195, -8.840299606323242, -8.88659954071045, -8.91819953918457, -4.149400234222412, -4.668099880218506, -5.959400177001953, -8.084699630737305, -8.244400024414062, -8.52400016784668, -8.828499794006348, -8.828499794006348, -8.828499794006348, -8.903800010681152, -8.548800468444824, -8.93809986114502, -8.89739990234375, -8.986000061035156, -8.97070026397705, -8.833499908447266, -8.974699974060059, -8.956100463867188, -8.836799621582031, -9.053000450134277, -9.037400245666504, -9.037400245666504, -8.9975004196167, -8.973099708557129, -9.066399574279785, -9.11709976196289, -9.11709976196289, -9.119000434875488, -9.07610034942627, -9.129899978637695, -8.923999786376953, -8.812600135803223, -8.91349983215332, -9.027199745178223, -8.897299766540527, -8.849100112915039, -8.605899810791016, -8.929100036621094, -8.902199745178223, -8.785900115966797, -8.799099922180176, -8.821399688720703, -8.762100219726562, -8.8326997756958, -8.895700454711914, -8.946399688720703, -8.945500373840332, -4.855000019073486, -5.845600128173828, -6.094399929046631, -8.734199523925781, -8.811599731445312, -8.835100173950195, -8.854700088500977, -8.854700088500977, -8.82960033416748, -8.887900352478027, -8.859000205993652, -8.96619987487793, -8.599300384521484, -8.898300170898438, -8.053199768066406, -9.08430004119873, -9.069199562072754, -9.069199562072754, -8.849200248718262, -9.119999885559082, -9.15250015258789, -9.065600395202637, -9.17389965057373, -9.17389965057373, -9.17389965057373, -9.17389965057373, -9.120800018310547, -9.165499687194824, -9.11989974975586, -9.11989974975586, -8.664899826049805, -8.248900413513184, -8.885899543762207, -8.737000465393066, -8.746999740600586, -9.01200008392334, -8.981499671936035, -8.88479995727539, -8.914600372314453, -8.827799797058105, -8.918600082397461, -8.741299629211426, -8.88539981842041, -8.854499816894531, -8.826399803161621, -8.918499946594238, -8.658900260925293, -4.561399936676025, -7.850599765777588, -8.628000259399414, -8.900400161743164, -8.900400161743164, -8.891200065612793, -8.89050006866455, -8.925299644470215, -9.002699851989746, -8.97920036315918, -8.806300163269043, -9.086600303649902, -9.086600303649902, -8.961400032043457, -9.124099731445312, -9.208100318908691, -9.262999534606934, -9.268699645996094, -9.124799728393555, -9.179100036621094, -9.283699989318848, -9.272899627685547, -9.235799789428711, -9.315500259399414, -9.333399772644043, -9.365799903869629, -9.348199844360352, -9.348199844360352, -9.191499710083008, -9.292400360107422, -9.136199951171875, -9.112299919128418, -9.074700355529785, -8.491100311279297, -9.078100204467773, -9.013899803161621, -9.043700218200684, -9.053500175476074, -8.905400276184082, -9.076199531555176, -9.01710033416748, -8.935500144958496, -9.020500183105469, -8.909199714660645, -8.819700241088867, -8.990699768066406, -8.842300415039062, -8.910400390625, -8.846799850463867, -9.021699905395508, -8.993599891662598, -8.965399742126465, -8.887800216674805, -9.0024995803833, -8.928799629211426, -9.00529956817627, -9.007499694824219, -9.01200008392334, -9.013799667358398, -4.804100036621094, -8.732000350952148, -9.010600090026855, -8.851900100708008, -9.0556001663208, -9.254899978637695, -9.179499626159668, -9.179499626159668, -9.179499626159668, -9.179499626159668, -9.179499626159668, -9.179499626159668, -9.179499626159668, -9.179499626159668, -9.179499626159668, -9.179499626159668, -9.179499626159668, -9.135499954223633, -9.22920036315918, -9.33430004119873, -9.340200424194336, -8.86359977722168, -9.198100090026855, -9.341500282287598, -9.130399703979492, -9.107199668884277, -9.134499549865723, -9.245200157165527, -9.245200157165527, -9.245200157165527, -9.07229995727539, -9.238100051879883, -9.008899688720703, -9.071000099182129, -8.870800018310547, -8.77280044555664, -9.037199974060059, -9.047200202941895, -8.898200035095215, -8.92959976196289, -8.902400016784668, -9.016500473022461, -8.74530029296875, -8.810199737548828, -8.983400344848633, -9.015399932861328, -9.03969955444336, -9.049400329589844, -8.830499649047852, -9.047800064086914, -9.083200454711914, -9.015899658203125, -9.025400161743164, -8.903400421142578, -8.99899959564209, -9.039799690246582, -8.979399681091309, -8.968099594116211, -9.014100074768066, -8.922100067138672, -9.012299537658691, -8.983099937438965, -9.00570011138916, -9.001899719238281, -9.021599769592285, -9.02280044555664, -5.549300193786621, -8.659199714660645, -8.84630012512207, -9.057499885559082, -9.057499885559082, -9.048399925231934, -8.985199928283691, -9.02970027923584, -9.009599685668945, -9.286100387573242, -9.107999801635742, -9.125200271606445, -9.100600242614746, -9.126999855041504, -9.285200119018555, -9.285200119018555, -9.285200119018555, -9.285200119018555, -9.285200119018555, -9.285200119018555, -9.06309986114502, -9.239899635314941, -9.239899635314941, -9.239899635314941, -9.232600212097168, -9.241100311279297, -9.241100311279297, -9.241399765014648, -9.241399765014648, -9.409199714660645, -9.243399620056152, -9.001799583435059, -9.063699722290039, -9.038299560546875, -9.029399871826172, -9.148599624633789, -9.155900001525879, -9.116499900817871, -8.889800071716309, -9.107000350952148, -9.008899688720703, -8.919699668884277, -9.125399589538574, -9.076800346374512, -9.116499900817871, -9.110699653625488, -8.892800331115723, -8.730199813842773, -8.797100067138672, -8.973899841308594, -9.042400360107422, -9.031399726867676, -9.010199546813965, -9.039799690246582, -8.814800262451172, -9.00730037689209, -8.893899917602539, -8.987700462341309, -9.017399787902832, -8.989999771118164, -9.004599571228027, -8.913999557495117, -8.918999671936035, -8.918399810791016, -9.004400253295898, -9.005499839782715, -8.996700286865234, -8.994199752807617, -5.770699977874756, -8.922300338745117, -9.059000015258789, -9.004400253295898, -9.111100196838379, -9.110699653625488, -8.96399974822998, -9.152299880981445, -9.308300018310547, -9.346599578857422, -9.306900024414062, -9.27299976348877, -9.246899604797363, -9.12090015411377, -9.12440013885498, -9.099599838256836, -9.349300384521484, -9.37660026550293, -9.12559986114502, -9.403900146484375, -9.403900146484375, -9.403900146484375, -9.403900146484375, -9.403900146484375, -9.061699867248535, -9.41409969329834, -9.239299774169922, -9.239299774169922, -9.239299774169922, -9.231900215148926, -9.240099906921387, -9.240099906921387, -9.240799903869629, -9.240799903869629, -8.436200141906738, -9.242799758911133, -9.001099586486816, -9.0625, -9.037199974060059, -9.027799606323242, -9.147899627685547, -9.115699768066406, -9.155200004577637, -8.888199806213379, -9.114100456237793, -9.105999946594238, -9.008099555969238, -8.918700218200684, -9.124500274658203, -9.07610034942627, -8.890800476074219, -9.115799903869629, -8.726099967956543, -8.796199798583984, -8.971400260925293, -9.041500091552734, -9.02970027923584, -9.009099960327148, -9.03909969329834, -8.761500358581543, -8.809399604797363, -9.005999565124512, -9.016400337219238, -8.986000061035156, -8.98900032043457, -9.003199577331543, -9.031100273132324, -8.912400245666504, -8.922900199890137, -9.003199577331543, -9.002799987792969, -8.990300178527832, -8.992899894714355, -9.02970027923584, -9.118200302124023, -9.094499588012695, -9.119199752807617, -9.053899765014648, -9.234399795532227, -9.234399795532227, -9.234399795532227, -9.227499961853027, -9.236000061035156, -9.236000061035156, -9.236300468444824, -9.236300468444824, -9.260299682617188, -9.238499641418457, -9.238499641418457, -9.23859977722168, -9.23859977722168, -9.239299774169922, -9.2298002243042, -9.254300117492676, -9.254599571228027, -9.254599571228027, -9.254400253295898, -9.240099906921387, -9.280799865722656, -9.280799865722656, -9.280500411987305, -9.280500411987305, -9.299599647521973, -9.299599647521973, -9.255999565124512, -9.262700080871582, -9.056400299072266, -9.029399871826172, -8.99489974975586, -9.020899772644043, -9.142900466918945, -9.149900436401367, -9.11050033569336, -8.880900382995605, -9.099300384521484, -9.118900299072266, -9.162599563598633, -9.002099990844727, -8.911399841308594, -9.071000099182129, -9.110799789428711, -9.104599952697754, -9.172300338745117, -8.883500099182129, -9.157299995422363, -9.108400344848633, -9.114100456237793, -9.035699844360352, -9.125399589538574, -9.022899627685547, -8.961999893188477, -8.716500282287598, -8.786499977111816, -9.03320026397705, -9.002900123596191, -9.009099960327148, -8.999099731445312, -9.03439998626709, -8.797699928283691, -9.025199890136719, -8.97819995880127, -8.885199546813965, -8.981100082397461, -8.996199607849121, -9.069299697875977, -9.034000396728516, -8.996800422668457, -8.905099868774414, -8.996999740600586, -8.988200187683105, -8.986300468444824, -9.006699562072754, -9.023099899291992, -9.117899894714355, -9.094499588012695, -9.119199752807617, -9.053799629211426, -9.234100341796875, -9.234100341796875, -9.234100341796875, -9.227499961853027, -9.235799789428711, -9.235799789428711, -9.236300468444824, -9.236300468444824, -9.260299682617188, -9.238499641418457, -9.238499641418457, -9.23859977722168, -9.23859977722168, -9.239299774169922, -9.229700088500977, -9.254599571228027, -9.254599571228027, -9.254500389099121, -9.254500389099121, -9.240500450134277, -9.280500411987305, -9.280500411987305, -9.280400276184082, -9.280400276184082, -9.299400329589844, -9.299400329589844, -9.255999565124512, -9.262999534606934, -9.056500434875488, -9.029399871826172, -8.994999885559082, -9.02079963684082, -9.142999649047852, -9.149900436401367, -9.11050033569336, -8.880900382995605, -9.099900245666504, -9.118800163269043, -9.162500381469727, -9.00220012664795, -8.910599708557129, -9.071000099182129, -9.110799789428711, -9.104599952697754, -9.172300338745117, -8.883600234985352, -9.15719985961914, -9.108400344848633, -9.035599708557129, -9.11400032043457, -9.125300407409668, -8.96150016784668, -9.022700309753418, -8.716500282287598, -8.786800384521484, -9.03320026397705, -9.002900123596191, -9.009200096130371, -8.99940013885498, -9.03439998626709, -8.797699928283691, -9.025300025939941, -8.97819995880127, -8.885199546813965, -8.981100082397461, -8.996100425720215, -9.069499969482422, -9.033900260925293, -8.996800422668457, -8.904999732971191, -8.996999740600586, -8.988200187683105, -8.986300468444824, -9.006699562072754, -9.022899627685547, -9.118300437927246, -9.094400405883789, -9.11929988861084, -9.053999900817871, -9.234399795532227, -9.234399795532227, -9.234399795532227, -9.227399826049805, -9.236200332641602, -9.236200332641602, -9.236700057983398, -9.236700057983398, -9.26039981842041, -9.238499641418457, -9.23859977722168, -9.23859977722168, -9.238699913024902, -9.239399909973145, -9.229499816894531, -9.254199981689453, -9.254599571228027, -9.254400253295898, -9.254799842834473, -9.240400314331055, -9.28030014038086, -9.28030014038086, -9.280900001525879, -9.280900001525879, -9.255999565124512, -9.29990005493164, -9.262999534606934, -9.056599617004395, -9.029500007629395, -8.99470043182373, -9.02079963684082, -9.142800331115723, -9.149800300598145, -9.110600471496582, -8.880900382995605, -9.099499702453613, -9.118499755859375, -9.162500381469727, -9.002400398254395, -8.910699844360352, -9.071000099182129, -9.110899925231934, -9.104599952697754, -9.17240047454834, -9.157099723815918, -8.883199691772461, -9.10830020904541, -9.114100456237793, -9.035499572753906, -9.125200271606445, -8.961400032043457, -9.02280044555664, -8.715999603271484, -8.786499977111816, -9.033300399780273, -9.002900123596191, -9.00879955291748, -8.999199867248535, -9.034199714660645, -8.799699783325195, -9.025300025939941, -8.97819995880127, -8.885100364685059, -8.981300354003906, -8.995800018310547, -9.0693998336792, -9.033900260925293, -8.996899604797363, -8.904999732971191, -8.996999740600586, -8.98840045928955, -8.986300468444824, -9.006500244140625, -9.023099899291992, -9.118800163269043, -9.094300270080566, -9.118800163269043, -9.053899765014648, -9.234299659729004, -9.234299659729004, -9.234299659729004, -9.227499961853027, -9.235699653625488, -9.235699653625488, -9.23639965057373, -9.23639965057373, -9.260100364685059, -9.238499641418457, -9.238499641418457, -9.23859977722168, -9.238699913024902, -9.239299774169922, -9.229900360107422, -9.254500389099121, -9.254300117492676, -9.254599571228027, -9.254599571228027, -9.24020004272461, -9.280500411987305, -9.280500411987305, -9.280900001525879, -9.280900001525879, -9.255999565124512, -9.300000190734863, -9.263199806213379, -9.056400299072266, -9.028800010681152, -8.995200157165527, -9.02079963684082, -9.142800331115723, -9.149700164794922, -9.110400199890137, -8.880800247192383, -9.099300384521484, -9.11870002746582, -9.162500381469727, -9.002099990844727, -8.910900115966797, -9.071000099182129, -9.110799789428711, -9.104499816894531, -9.17240047454834, -8.884499549865723, -9.157400131225586, -9.10830020904541, -9.035599708557129, -9.114100456237793, -9.125200271606445, -9.022899627685547, -8.962200164794922, -8.716400146484375, -8.786999702453613, -9.03320026397705, -9.002799987792969, -9.008999824523926, -8.999099731445312, -9.03439998626709, -8.797100067138672, -9.025300025939941, -8.978500366210938, -8.885199546813965, -8.981300354003906, -8.995699882507324, -9.0693998336792, -9.033699989318848, -8.996899604797363, -8.905099868774414, -8.996999740600586, -8.988200187683105, -8.986300468444824, -9.006500244140625, -9.02299976348877, -9.119500160217285, -9.09469985961914, -9.119099617004395, -9.053899765014648, -9.234199523925781, -9.234199523925781, -9.234199523925781, -9.22760009765625, -9.23639965057373, -9.23639965057373, -9.236599922180176, -9.236599922180176, -9.260299682617188, -9.23840045928955, -9.238499641418457, -9.238699913024902, -9.238699913024902, -9.239399909973145, -9.229700088500977, -9.254400253295898, -9.254500389099121, -9.254300117492676, -9.254599571228027, -9.24020004272461, -9.280699729919434, -9.280699729919434, -9.298800468444824, -9.298800468444824, -9.298800468444824, -9.280799865722656, -9.280799865722656, -9.255900382995605, -9.056500434875488, -9.029399871826172, -8.995100021362305, -9.02079963684082, -9.142900466918945, -9.149900436401367, -9.110600471496582, -8.88070011138916, -9.099800109863281, -9.118800163269043, -9.162599563598633, -9.002300262451172, -8.911299705505371, -9.071000099182129, -9.110799789428711, -9.104499816894531, -9.15719985961914, -8.883999824523926, -9.172499656677246, -9.10830020904541, -9.114100456237793, -9.035599708557129, -9.12559986114502, -8.961400032043457, -9.022899627685547, -8.716300010681152, -8.78689956665039, -9.03320026397705, -9.003000259399414, -9.009300231933594, -8.999600410461426, -9.034700393676758, -8.79740047454834, -9.025300025939941, -8.978400230407715, -8.885299682617188, -8.981499671936035, -8.995800018310547, -9.069299697875977, -9.034500122070312, -8.996800422668457, -8.905099868774414, -8.996999740600586, -8.988499641418457, -8.986300468444824, -9.006699562072754, -9.023200035095215, -9.11870002746582, -9.093700408935547, -9.118900299072266, -9.053899765014648, -9.234100341796875, -9.234100341796875, -9.234100341796875, -9.227499961853027, -9.236100196838379, -9.236100196838379, -9.236300468444824, -9.236300468444824, -9.260299682617188, -9.238499641418457, -9.23859977722168, -9.23859977722168, -9.238699913024902, -9.239399909973145, -9.2298002243042, -9.25409984588623, -9.254199981689453, -9.254599571228027, -9.254599571228027, -9.240300178527832, -9.280500411987305, -9.280500411987305, -9.280699729919434, -9.280699729919434, -9.255999565124512, -9.29990005493164, -9.263099670410156, -9.056500434875488, -9.029399871826172, -8.994799613952637, -9.020899772644043, -9.142900466918945, -9.149800300598145, -9.110699653625488, -8.88070011138916, -9.099900245666504, -9.11870002746582, -9.162500381469727, -9.00220012664795, -8.910900115966797, -9.071000099182129, -9.110799789428711, -9.104599952697754, -9.17240047454834, -8.88230037689209, -9.157600402832031, -9.10830020904541, -9.114100456237793, -9.035699844360352, -9.125300407409668, -8.96150016784668, -9.022899627685547, -8.716400146484375, -8.786399841308594, -9.033300399780273, -9.002799987792969, -9.009699821472168, -8.998900413513184, -9.034500122070312, -8.798999786376953, -9.025300025939941, -8.978300094604492, -8.885000228881836, -8.981499671936035, -8.995499610900879, -9.069600105285645, -9.03380012512207, -8.996899604797363, -8.905099868774414, -8.997099876403809, -8.988200187683105, -8.986300468444824, -9.006699562072754, -9.02299976348877], \"loglift\": [30.0, 29.0, 28.0, 27.0, 26.0, 25.0, 24.0, 23.0, 22.0, 21.0, 20.0, 19.0, 18.0, 17.0, 16.0, 15.0, 14.0, 13.0, 12.0, 11.0, 10.0, 9.0, 8.0, 7.0, 6.0, 5.0, 4.0, 3.0, 2.0, 1.0, 1.3030999898910522, 1.3016999959945679, 1.3013999462127686, 1.3000999689102173, 1.2967000007629395, 1.295699954032898, 1.2929999828338623, 1.292099952697754, 1.288100004196167, 1.2874000072479248, 1.2860000133514404, 1.284999966621399, 1.2841999530792236, 1.2834999561309814, 1.2822999954223633, 1.2819000482559204, 1.2782000303268433, 1.2776999473571777, 1.2776000499725342, 1.2767000198364258, 1.2728999853134155, 1.2651000022888184, 1.2648999691009521, 1.2556999921798706, 1.2551000118255615, 1.2538000345230103, 1.2510000467300415, 1.2509000301361084, 1.250599980354309, 1.2483999729156494, 1.2474000453948975, 1.2351000308990479, 1.2405999898910522, 1.1819000244140625, 0.33239999413490295, 1.1252000331878662, 1.159999966621399, -0.002199999988079071, 1.5456000566482544, 1.541100025177002, 1.5368000268936157, 1.5354000329971313, 1.534500002861023, 1.5298000574111938, 1.523300051689148, 1.5190000534057617, 1.5162999629974365, 1.5135999917984009, 1.510699987411499, 1.5073000192642212, 1.4921000003814697, 1.489300012588501, 1.4850000143051147, 1.481600046157837, 1.4811999797821045, 1.4794000387191772, 1.4789999723434448, 1.4763000011444092, 1.475000023841858, 1.4709999561309814, 1.4708000421524048, 1.4699000120162964, 1.4682999849319458, 1.4668999910354614, 1.4666999578475952, 1.4630000591278076, 1.4622000455856323, 1.4594999551773071, 1.229699969291687, 1.3014999628067017, 1.0749000310897827, 1.256100058555603, 1.3125, 1.3056999444961548, 1.18340003490448, 1.067199945449829, 2.947200059890747, 2.9467999935150146, 2.8529000282287598, 2.7852001190185547, 2.770699977874756, 2.738600015640259, 2.702399969100952, 2.6830999851226807, 2.663800001144409, 2.656599998474121, 2.634000062942505, 2.6105000972747803, 2.609499931335449, 2.6082000732421875, 2.605600118637085, 2.5690999031066895, 2.564300060272217, 2.5627999305725098, 2.5392000675201416, 2.5332999229431152, 2.5329999923706055, 2.527600049972534, 2.5239999294281006, 2.507200002670288, 2.5007998943328857, 2.4821999073028564, 2.48009991645813, 2.445199966430664, 2.428299903869629, 2.421999931335449, 2.9718000888824463, 2.9453001022338867, 2.8940000534057617, 2.8887999057769775, 2.863800048828125, 2.7832000255584717, 2.7744998931884766, 2.7397000789642334, 2.692199945449829, 2.6821000576019287, 2.653599977493286, 2.6440999507904053, 2.5532000064849854, 2.5492000579833984, 2.5478999614715576, 2.5078001022338867, 2.434799909591675, 2.415600061416626, 2.40339994430542, 2.3929998874664307, 2.3738999366760254, 2.353100061416626, 2.3303000926971436, 2.310800075531006, 2.310699939727783, 2.2720000743865967, 2.231800079345703, 2.229300022125244, 2.2228000164031982, 2.215100049972534, 2.202399969100952, 1.8619999885559082, 3.3561999797821045, 3.2606000900268555, 2.9916999340057373, 1.895900011062622, 1.8449000120162964, 1.6612000465393066, 1.2652000188827515, 1.229200005531311, 1.1195000410079956, 1.1195000410079956, 0.9984999895095825, 0.9984999895095825, 0.9984999895095825, 0.9634000062942505, 0.9634000062942505, 0.9634000062942505, 0.9634000062942505, 0.9269999861717224, 0.9269999861717224, 0.923799991607666, 0.878000020980835, 0.8421000242233276, 0.8421000242233276, 0.8409000039100647, 0.8375999927520752, 0.8345999717712402, 0.8324000239372253, 0.8264999985694885, 0.8264999985694885, 0.8264999985694885, 0.824400007724762, 0.8263999819755554, 0.8264999985694885, 0.8264999985694885, 0.8065999746322632, 0.8134999871253967, 0.8025000095367432, 0.7379000186920166, 0.7222999930381775, 0.6783999800682068, 0.7565000057220459, 0.3833000063896179, 0.4237000048160553, 0.2223999947309494, 0.0044999998062849045, 0.11779999732971191, -0.020500000566244125, 3.413100004196167, 2.967900037765503, 2.7980000972747803, 1.8995000123977661, 1.223099946975708, 1.0750999450683594, 1.069100022315979, 0.9086999893188477, 0.902400016784668, 0.8564000129699707, 0.8564000129699707, 0.8471999764442444, 0.8402000069618225, 0.8398000001907349, 0.833899974822998, 0.8156999945640564, 0.8003000020980835, 0.7702000141143799, 0.7694000005722046, 0.7657999992370605, 0.7608000040054321, 0.7583000063896179, 0.7580000162124634, 0.7580000162124634, 0.7580000162124634, 0.7555999755859375, 0.7555999755859375, 0.7555999755859375, 0.7450000047683716, 0.7430999875068665, 0.7339000105857849, 0.7170000076293945, 0.7142999768257141, 0.6807000041007996, 0.6202999949455261, 0.7125999927520752, 0.4880000054836273, 0.5595999956130981, 0.6312999725341797, -0.018300000578165054, 0.04320000112056732, 0.4187000095844269, 0.05130000039935112, -0.4413999915122986, -0.15330000221729279, 0.10570000112056732, -3.897700071334839, 3.359600067138672, 3.2955000400543213, 2.862299919128418, 1.2267999649047852, 1.201799988746643, 1.0537999868392944, 0.9158999919891357, 0.9158999919891357, 0.9158999919891357, 0.8806999921798706, 0.871399998664856, 0.8525999784469604, 0.8511000275611877, 0.8434000015258789, 0.8399999737739563, 0.8357999920845032, 0.8285999894142151, 0.8251000046730042, 0.8030999898910522, 0.7875999808311462, 0.775600016117096, 0.775600016117096, 0.7734000086784363, 0.746999979019165, 0.7422000169754028, 0.741599977016449, 0.741599977016449, 0.7371000051498413, 0.7369999885559082, 0.7333999872207642, 0.7128999829292297, 0.6452000141143799, 0.6744999885559082, 0.6973999738693237, 0.6290000081062317, 0.5885000228881836, 0.3882000148296356, 0.6341000199317932, 0.5896999835968018, 0.2948000133037567, -0.03929999843239784, 0.05000000074505806, -0.2915000021457672, -0.3589000105857849, -0.11819999665021896, 0.22619999945163727, -0.035100001841783524, 3.2815001010894775, 3.0271999835968018, 2.916800022125244, 1.0859999656677246, 1.055400013923645, 1.0297000408172607, 1.020799994468689, 1.020799994468689, 0.9510999917984009, 0.9038000106811523, 0.8824999928474426, 0.8614000082015991, 0.8278999924659729, 0.8264999985694885, 0.8180999755859375, 0.7721999883651733, 0.7634999752044678, 0.7634999752044678, 0.7523000240325928, 0.7522000074386597, 0.7422000169754028, 0.732699990272522, 0.7289999723434448, 0.7289999723434448, 0.7289999723434448, 0.7289999723434448, 0.7110000252723694, 0.7095999717712402, 0.682699978351593, 0.682699978351593, 0.6435999870300293, 0.5109999775886536, 0.5863999724388123, 0.5019000172615051, 0.49050000309944153, 0.6057999730110168, 0.5778999924659729, 0.44749999046325684, 0.39089998602867126, 0.1662999987602234, 0.2985000014305115, -0.24709999561309814, 0.05480000004172325, -0.0771000012755394, -0.41609999537467957, -0.008100000210106373, -2.8482000827789307, 3.348400115966797, 1.020799994468689, 0.9387000203132629, 0.9161999821662903, 0.9161999821662903, 0.9108999967575073, 0.900600016117096, 0.858299970626831, 0.822700023651123, 0.7993000149726868, 0.7872999906539917, 0.7379000186920166, 0.7379000186920166, 0.7142000198364258, 0.6678000092506409, 0.647599995136261, 0.6414999961853027, 0.6409000158309937, 0.6377000212669373, 0.631600022315979, 0.6295999884605408, 0.6152999997138977, 0.5949000120162964, 0.5920000076293945, 0.5728999972343445, 0.5583999752998352, 0.553600013256073, 0.553600013256073, 0.5311999917030334, 0.5289999842643738, 0.5274999737739563, 0.5257999897003174, 0.5117999911308289, 0.4074999988079071, 0.5098000168800354, 0.48669999837875366, 0.48249998688697815, 0.4837000072002411, 0.4002000093460083, 0.4903999865055084, 0.4440999925136566, 0.37310001254081726, 0.4194999933242798, 0.30790001153945923, 0.17440000176429749, 0.31220000982284546, -0.0649000033736229, -0.0, -0.19830000400543213, 0.326200008392334, 0.21799999475479126, 0.09570000320672989, -0.5184000134468079, 0.20679999887943268, -0.4099999964237213, 0.18400000035762787, -0.8115000128746033, -0.5382000207901001, -0.2745000123977661, 3.313199996948242, 0.9246000051498413, 0.8118000030517578, 0.7148000001907349, 0.7145000100135803, 0.6474000215530396, 0.6377999782562256, 0.6377999782562256, 0.6377999782562256, 0.6377999782562256, 0.6377999782562256, 0.6377999782562256, 0.6377999782562256, 0.6377999782562256, 0.6377999782562256, 0.6377999782562256, 0.6377999782562256, 0.6366999745368958, 0.6284000277519226, 0.5647000074386597, 0.5633999705314636, 0.5620999932289124, 0.5516999959945679, 0.5457000136375427, 0.5332000255584717, 0.531000018119812, 0.5223000049591064, 0.51910001039505, 0.51910001039505, 0.51910001039505, 0.5156000256538391, 0.5184000134468079, 0.4916999936103821, 0.49559998512268066, 0.46149998903274536, 0.43650001287460327, 0.48910000920295715, 0.4900999963283539, 0.4072999954223633, 0.3788999915122986, 0.31470000743865967, 0.4235999882221222, 0.12610000371932983, 0.18389999866485596, 0.31949999928474426, 0.33250001072883606, 0.3668000102043152, 0.3853999972343445, -0.05310000106692314, 0.36820000410079956, 0.4417000114917755, 0.27810001373291016, 0.29409998655319214, 0.007000000216066837, 0.19030000269412994, 0.3093999922275543, 0.0027000000700354576, -0.07129999995231628, 0.1729000061750412, -0.4032000005245209, 0.048700001090765, -0.5092999935150146, -0.2459000051021576, -0.805899977684021, -0.37310001254081726, -0.6466000080108643, 3.128200054168701, 0.8876000046730042, 0.8795999884605408, 0.8195000290870667, 0.8195000290870667, 0.808899998664856, 0.8030999898910522, 0.7935000061988831, 0.772599995136261, 0.6107000112533569, 0.6039000153541565, 0.5385000109672546, 0.5375000238418579, 0.5297999978065491, 0.5277000069618225, 0.5277000069618225, 0.5277000069618225, 0.5277000069618225, 0.5277000069618225, 0.5277000069618225, 0.5249000191688538, 0.5242999792098999, 0.5242999792098999, 0.5242999792098999, 0.5238000154495239, 0.5227000117301941, 0.5227000117301941, 0.5224000215530396, 0.5224000215530396, 0.5210999846458435, 0.5199000239372253, 0.49880000948905945, 0.5029000043869019, 0.49889999628067017, 0.4968999922275543, 0.5059999823570251, 0.5033000111579895, 0.49559998512268066, 0.415800005197525, 0.4733000099658966, 0.4311000108718872, 0.3889000117778778, 0.4740999937057495, 0.4480000138282776, 0.4618000090122223, 0.4560000002384186, 0.32429999113082886, 0.14110000431537628, 0.19699999690055847, 0.32899999618530273, 0.39250001311302185, 0.3752000033855438, 0.3377000093460083, 0.37619999051094055, -0.037300001829862595, 0.2867000102996826, 0.016499999910593033, 0.2215999960899353, 0.3021000027656555, 0.19930000603199005, 0.18230000138282776, -0.3952000141143799, -0.42489999532699585, -0.5422999858856201, 0.056699998676776886, -0.24570000171661377, -0.5228999853134155, -0.7982000112533569, 3.0144999027252197, 0.8288999795913696, 0.791700005531311, 0.7551000118255615, 0.7519999742507935, 0.7297999858856201, 0.6093000173568726, 0.607200026512146, 0.5947999954223633, 0.5800999999046326, 0.5728999972343445, 0.5716999769210815, 0.5591999888420105, 0.5471000075340271, 0.5392000079154968, 0.5386000275611877, 0.5379999876022339, 0.5321999788284302, 0.5313000082969666, 0.5299000144004822, 0.5299000144004822, 0.5299000144004822, 0.5299000144004822, 0.5299000144004822, 0.526199996471405, 0.525600016117096, 0.5249000191688538, 0.5249000191688538, 0.5249000191688538, 0.5245000123977661, 0.5238000154495239, 0.5238000154495239, 0.5231000185012817, 0.5231000185012817, 0.4742000102996826, 0.5205000042915344, 0.49950000643730164, 0.5041000247001648, 0.5, 0.4984999895095825, 0.5067999958992004, 0.49639999866485596, 0.5040000081062317, 0.4172999858856201, 0.48069998621940613, 0.4742000102996826, 0.4318999946117401, 0.38989999890327454, 0.4749999940395355, 0.4487999975681305, 0.3262999951839447, 0.4625000059604645, 0.1453000009059906, 0.19789999723434448, 0.33149999380111694, 0.39329999685287476, 0.37689998745918274, 0.33880001306533813, 0.37689998745918274, -0.11299999803304672, -0.03200000151991844, 0.2879999876022339, 0.30320000648498535, 0.2232999950647354, 0.20029999315738678, 0.18379999697208405, 0.3181999921798706, -0.3935999870300293, -0.5468000173568726, 0.05779999867081642, -0.24289999902248383, -0.5164999961853027, -0.7968999743461609, -0.5591999888420105, 0.5454999804496765, 0.5436999797821045, 0.5376999974250793, 0.5340999960899353, 0.5297999978065491, 0.5297999978065491, 0.5297999978065491, 0.5289000272750854, 0.5278000235557556, 0.5278000235557556, 0.5274999737739563, 0.5274999737739563, 0.5253999829292297, 0.5248000025749207, 0.5248000025749207, 0.5246999859809875, 0.5246999859809875, 0.524399995803833, 0.5230000019073486, 0.5224999785423279, 0.5224999785423279, 0.5224999785423279, 0.5224000215530396, 0.5209000110626221, 0.5200999975204468, 0.5200999975204468, 0.519599974155426, 0.519599974155426, 0.5189999938011169, 0.5189999938011169, 0.5188999772071838, 0.5188000202178955, 0.5101000070571899, 0.5077999830245972, 0.5056999921798706, 0.5054000020027161, 0.5116999745368958, 0.5092999935150146, 0.5015000104904175, 0.4246000051498413, 0.48089998960494995, 0.4805999994277954, 0.49410000443458557, 0.43790000677108765, 0.3971000015735626, 0.4537999927997589, 0.4674000144004822, 0.46209999918937683, 0.4909999966621399, 0.3336000144481659, 0.482699990272522, 0.45089998841285706, 0.4499000012874603, 0.3991999924182892, 0.45570001006126404, 0.38359999656677246, 0.3409000039100647, 0.15489999949932098, 0.20759999752044678, 0.38280001282691956, 0.3449000120162964, 0.31049999594688416, 0.29490000009536743, 0.34119999408721924, -0.02019999921321869, 0.3240000009536743, 0.23109999299049377, 0.025200000032782555, 0.20819999277591705, 0.1907999962568283, 0.3564000129699707, 0.21930000185966492, 0.06419999897480011, -0.3862999975681305, -0.23720000684261322, -0.5145000219345093, -0.7904000282287598, -0.6305999755859375, -0.5525000095367432, 0.5457000136375427, 0.5436999797821045, 0.5376999974250793, 0.5340999960899353, 0.5302000045776367, 0.5302000045776367, 0.5302000045776367, 0.5289000272750854, 0.5281000137329102, 0.5281000137329102, 0.5275999903678894, 0.5275999903678894, 0.5253000259399414, 0.5248000025749207, 0.5248000025749207, 0.5246999859809875, 0.5246999859809875, 0.5245000123977661, 0.5230000019073486, 0.5224999785423279, 0.5224000215530396, 0.5223000049591064, 0.5223000049591064, 0.5205000042915344, 0.5203999876976013, 0.5203999876976013, 0.5196999907493591, 0.5196999907493591, 0.51910001039505, 0.51910001039505, 0.5188000202178955, 0.5184999704360962, 0.5101000070571899, 0.5077999830245972, 0.5055999755859375, 0.5055000185966492, 0.5116000175476074, 0.5092999935150146, 0.5016000270843506, 0.4246000051498413, 0.48030000925064087, 0.48069998621940613, 0.49410000443458557, 0.43790000677108765, 0.39800000190734863, 0.4537999927997589, 0.4674000144004822, 0.46209999918937683, 0.4909999966621399, 0.33340001106262207, 0.4828000068664551, 0.45089998841285706, 0.3991999924182892, 0.44999998807907104, 0.45579999685287476, 0.34139999747276306, 0.3837999999523163, 0.15489999949932098, 0.20730000734329224, 0.38280001282691956, 0.3449999988079071, 0.31040000915527344, 0.2946000099182129, 0.34119999408721924, -0.0203000009059906, 0.3240000009536743, 0.23109999299049377, 0.025200000032782555, 0.20819999277591705, 0.19089999794960022, 0.3562999963760376, 0.21930000185966492, 0.06419999897480011, -0.3862000107765198, -0.23720000684261322, -0.5145000219345093, -0.7904000282287598, -0.6305000185966492, -0.552299976348877, 0.5454000234603882, 0.5437999963760376, 0.5375999808311462, 0.5339000225067139, 0.5297999978065491, 0.5297999978065491, 0.5297999978065491, 0.5289999842643738, 0.5277000069618225, 0.5277000069618225, 0.5271999835968018, 0.5271999835968018, 0.5252000093460083, 0.5248000025749207, 0.5248000025749207, 0.5246000289916992, 0.5246000289916992, 0.5242999792098999, 0.5231999754905701, 0.5224999785423279, 0.5224999785423279, 0.5224000215530396, 0.5221999883651733, 0.5206999778747559, 0.5206000208854675, 0.5206000208854675, 0.5192000269889832, 0.5192000269889832, 0.5188000202178955, 0.5187000036239624, 0.5184000134468079, 0.5099999904632568, 0.5077000260353088, 0.5059000253677368, 0.5055000185966492, 0.511900007724762, 0.5094000101089478, 0.5015000104904175, 0.424699991941452, 0.48069998621940613, 0.48100000619888306, 0.4941999912261963, 0.4377000033855438, 0.3978999853134155, 0.4537999927997589, 0.4674000144004822, 0.46209999918937683, 0.4909000098705292, 0.4828000068664551, 0.33379998803138733, 0.45100000500679016, 0.4499000012874603, 0.3993000090122223, 0.4560000002384186, 0.34150001406669617, 0.38370001316070557, 0.15539999306201935, 0.20759999752044678, 0.38269999623298645, 0.3449999988079071, 0.3107999861240387, 0.2948000133037567, 0.34139999747276306, -0.022299999371170998, 0.3240000009536743, 0.23109999299049377, 0.025299999862909317, 0.20800000429153442, 0.19110000133514404, 0.3562999963760376, 0.21930000185966492, 0.06419999897480011, -0.3862000107765198, -0.23720000684261322, -0.5146999955177307, -0.7904000282287598, -0.6304000020027161, -0.5525000095367432, 0.5447999835014343, 0.5437999963760376, 0.538100004196167, 0.5339999794960022, 0.5299999713897705, 0.5299999713897705, 0.5299999713897705, 0.5289000272750854, 0.5281000137329102, 0.5281000137329102, 0.527400016784668, 0.527400016784668, 0.5254999995231628, 0.5249000191688538, 0.5248000025749207, 0.5246000289916992, 0.5246000289916992, 0.524399995803833, 0.5228999853134155, 0.522599995136261, 0.5224000215530396, 0.5224000215530396, 0.5220999717712402, 0.5209000110626221, 0.5203999876976013, 0.5203999876976013, 0.5192000269889832, 0.5192000269889832, 0.5188000202178955, 0.5185999870300293, 0.5182999968528748, 0.5101000070571899, 0.508400022983551, 0.5054000020027161, 0.5054000020027161, 0.5117999911308289, 0.5095000267028809, 0.5016999840736389, 0.42480000853538513, 0.48089998960494995, 0.48080000281333923, 0.49410000443458557, 0.43799999356269836, 0.3977000117301941, 0.4537999927997589, 0.4674000144004822, 0.46219998598098755, 0.4909000098705292, 0.3325999975204468, 0.48249998688697815, 0.45100000500679016, 0.3993000090122223, 0.4499000012874603, 0.45590001344680786, 0.38370001316070557, 0.3407999873161316, 0.1550000011920929, 0.2071000039577484, 0.38280001282691956, 0.3450999855995178, 0.31060001254081726, 0.29490000009536743, 0.34119999408721924, -0.019700000062584877, 0.3240000009536743, 0.23090000450611115, 0.025200000032782555, 0.20800000429153442, 0.19120000302791595, 0.3562999963760376, 0.21950000524520874, 0.06419999897480011, -0.3862999975681305, -0.23720000684261322, -0.5145000219345093, -0.7904000282287598, -0.6304000020027161, -0.5523999929428101, 0.5442000031471252, 0.5435000061988831, 0.5378000140190125, 0.5339999794960022, 0.5299999713897705, 0.5299999713897705, 0.5299999713897705, 0.5289000272750854, 0.5274999737739563, 0.5274999737739563, 0.5271999835968018, 0.5271999835968018, 0.5253000259399414, 0.5249000191688538, 0.5248000025749207, 0.5246000289916992, 0.5246000289916992, 0.524399995803833, 0.5230000019073486, 0.522599995136261, 0.522599995136261, 0.5224999785423279, 0.5221999883651733, 0.5209000110626221, 0.5202000141143799, 0.5202000141143799, 0.5196999907493591, 0.5196999907493591, 0.5196999907493591, 0.5194000005722046, 0.5194000005722046, 0.5188999772071838, 0.5101000070571899, 0.5078999996185303, 0.5055000185966492, 0.5055000185966492, 0.5116999745368958, 0.5092999935150146, 0.5015000104904175, 0.42480000853538513, 0.4805000126361847, 0.48080000281333923, 0.49410000443458557, 0.4377000033855438, 0.39719998836517334, 0.4537999927997589, 0.4674000144004822, 0.46219998598098755, 0.482699990272522, 0.33309999108314514, 0.49079999327659607, 0.45100000500679016, 0.4499000012874603, 0.3991999924182892, 0.45559999346733093, 0.34150001406669617, 0.38370001316070557, 0.1550000011920929, 0.20720000565052032, 0.38280001282691956, 0.3449000120162964, 0.31029999256134033, 0.29440000653266907, 0.3409000039100647, -0.019999999552965164, 0.3240000009536743, 0.23090000450611115, 0.025100000202655792, 0.2078000009059906, 0.19120000302791595, 0.3564000129699707, 0.21879999339580536, 0.06419999897480011, -0.3862000107765198, -0.23720000684261322, -0.5146999955177307, -0.7904000282287598, -0.6305999755859375, -0.5526000261306763, 0.5449000000953674, 0.5443999767303467, 0.5379999876022339, 0.5339999794960022, 0.5302000045776367, 0.5302000045776367, 0.5302000045776367, 0.5289000272750854, 0.5277000069618225, 0.5277000069618225, 0.5274999737739563, 0.5274999737739563, 0.5253000259399414, 0.5248000025749207, 0.5246999859809875, 0.5246000289916992, 0.5246000289916992, 0.5242999792098999, 0.5228999853134155, 0.5227000117301941, 0.522599995136261, 0.5224000215530396, 0.5224000215530396, 0.5206999778747559, 0.5203999876976013, 0.5203999876976013, 0.5195000171661377, 0.5195000171661377, 0.5188000202178955, 0.5187000036239624, 0.5182999968528748, 0.5099999904632568, 0.5078999996185303, 0.5058000087738037, 0.5054000020027161, 0.5117999911308289, 0.5094000101089478, 0.5013999938964844, 0.42480000853538513, 0.48030000925064087, 0.48080000281333923, 0.49410000443458557, 0.43790000677108765, 0.3977000117301941, 0.4537999927997589, 0.4674000144004822, 0.46209999918937683, 0.4909000098705292, 0.33469998836517334, 0.4823000133037567, 0.45100000500679016, 0.4499000012874603, 0.39910000562667847, 0.45590001344680786, 0.34139999747276306, 0.38359999656677246, 0.1550000011920929, 0.2076999992132187, 0.38269999623298645, 0.3449999988079071, 0.3098999857902527, 0.29510000348091125, 0.3411000072956085, -0.0215000007301569, 0.3240000009536743, 0.23100000619888306, 0.02539999969303608, 0.2078000009059906, 0.1914999932050705, 0.3560999929904938, 0.21940000355243683, 0.06419999897480011, -0.3862999975681305, -0.23720000684261322, -0.5144000053405762, -0.7904000282287598, -0.6305000185966492, -0.5523999929428101]}, \"token.table\": {\"Topic\": [1, 2, 4, 4, 1, 2, 1, 2, 1, 2, 1, 2, 1, 2, 3, 4, 4, 4, 4, 1, 2, 4, 1, 2, 5, 1, 2, 3, 5, 1, 2, 1, 2, 1, 2, 1, 2, 1, 1, 2, 1, 2, 1, 2, 1, 2, 4, 4, 4, 1, 2, 2, 6, 1, 2, 3, 12, 5, 2, 1, 2, 5, 1, 2, 1, 2, 1, 1, 2, 1, 2, 8, 1, 2, 1, 1, 2, 1, 2, 1, 2, 1, 5, 1, 2, 4, 1, 2, 3, 1, 2, 1, 2, 1, 10, 1, 1, 4, 1, 2, 1, 2, 5, 5, 4, 1, 2, 1, 2, 2, 8, 4, 3, 1, 2, 3, 6, 1, 2, 3, 2, 2, 1, 2, 1, 2, 5, 6, 2, 1, 2, 4, 1, 4, 2, 1, 2, 8, 2, 1, 2, 1, 4, 1, 2, 1, 2, 5, 1, 2, 8, 1, 2, 4, 1, 4, 1, 4, 1, 2, 1, 2, 3, 2, 6, 1, 1, 1, 2, 5, 1, 2, 2, 1, 2, 11, 2, 2, 1, 1, 4, 4, 1, 4, 4, 1, 4, 4, 4, 1, 2, 1, 2, 1, 2, 7, 1, 2, 1, 2, 7, 1, 2, 4, 1, 2, 1, 1, 2, 4, 3, 1, 2, 1, 1, 2, 3, 7, 1, 3, 1, 2, 1, 2, 1, 1, 2, 9, 2, 7, 1, 2, 4, 1, 2, 1, 2, 1, 2, 5, 4, 1, 1, 2, 8, 2, 5, 1, 1, 1, 2, 4, 1, 2, 4, 1, 2, 1, 2, 1, 2, 12, 1, 2, 1, 2, 1, 2, 3, 2, 1, 2, 2, 1, 2, 1, 1, 2, 3, 1, 2, 3, 1, 2, 3, 1, 2, 3, 1, 3, 1, 2, 1, 2, 3, 5, 1, 2, 2, 1, 2, 1, 2, 1, 2, 1, 2, 1, 2, 1, 2, 1, 2, 1, 2, 1, 1, 2, 3, 1, 2, 2, 1, 2, 3, 1, 2, 1, 1, 1, 1, 2, 3, 5, 1, 2, 2, 2, 1, 2, 6, 1, 2, 2, 1, 2, 1, 2, 1, 2, 1, 2, 5, 1, 2, 3, 1, 2, 5, 1, 2, 1, 1, 2, 1, 2, 1, 2, 1, 2, 1, 2, 2, 1, 2, 2, 2, 6, 1, 2, 7, 1, 2, 3, 8, 9, 1, 1, 2, 1, 2, 1, 2, 1, 2, 1, 2, 1, 2, 2, 6, 1, 2, 3, 2, 1, 1, 2, 3, 3, 3, 1, 2, 1, 2, 3, 1, 2, 1, 2, 3, 3, 3, 3, 1, 2, 1, 2, 1, 1, 2, 1, 3, 1, 2, 1, 2, 2, 1, 2, 3, 1, 2, 1, 1, 2, 3, 1, 2, 3, 3, 3, 3, 3, 1, 2, 1, 1, 2, 2, 1, 2, 2, 2, 1, 2, 1, 2, 1, 1, 2, 1, 2, 1, 2, 1, 2, 1, 2, 3, 1, 2, 1, 2, 1, 2, 1, 2, 1, 2, 2, 2, 1, 2, 1, 2, 1, 2, 3, 1, 2, 3, 1, 2, 6, 1, 2, 1, 2, 4, 1, 1, 2, 1, 2, 1, 2, 2, 1, 2, 1, 2, 9, 1, 2, 3, 1, 2, 3, 1, 2, 2, 1, 2, 1, 1, 2, 3, 4, 5, 6, 1, 2, 3, 1, 2, 3, 1, 2, 3, 1, 2, 4, 1, 1, 2, 1, 2, 1, 2, 1, 2, 1, 3, 5, 1, 2, 1, 2, 2, 1, 2, 1, 1, 2, 1, 1, 1, 2, 2, 1, 2, 1, 2, 1, 3, 1, 2, 1, 2, 2, 1, 1, 2, 1, 2, 1, 2, 3, 1, 1, 2, 3, 1, 2, 1, 2, 1, 2, 1, 2, 1, 2, 1, 1, 2, 1, 2, 1, 2, 1, 2, 3, 1, 2, 1, 2, 1, 2, 1, 2, 6, 1, 3, 1, 2, 2, 1, 2, 1, 1, 1, 2, 1, 2, 1, 2, 1, 2, 3, 1, 2, 1, 2, 1, 2, 7, 1, 2, 1, 2, 1, 2, 5, 3, 1, 2, 7, 1, 2, 1, 2, 7, 1, 2, 1, 2, 1, 2, 6, 1, 1, 9], \"Freq\": [0.11990466713905334, 0.05995233356952667, 0.6594756245613098, 0.40662285685539246, 0.26764199137687683, 0.13382099568843842, 0.9835382699966431, 0.003487724345177412, 0.328660249710083, 0.10955341905355453, 0.006996335927397013, 0.9584980010986328, 0.11726615577936172, 0.11726615577936172, 0.11726615577936172, 0.43457674980163574, 0.45912930369377136, 0.7681549191474915, 0.4835859537124634, 0.08234812319278717, 0.08234812319278717, 0.5764368772506714, 0.02779233269393444, 0.02779233269393444, 0.8615623116493225, 0.23397071659564972, 0.11698535829782486, 0.11698535829782486, 0.11698535829782486, 0.14783892035484314, 0.14783892035484314, 0.20896539092063904, 0.7811325192451477, 0.1412779986858368, 0.1412779986858368, 0.016071977093815804, 0.9161027073860168, 0.16775767505168915, 0.1460179090499878, 0.1460179090499878, 0.154139906167984, 0.154139906167984, 0.08137832581996918, 0.569648265838623, 0.18464314937591553, 0.18464314937591553, 0.5444849729537964, 0.6910699605941772, 0.49451708793640137, 0.003041177988052368, 0.9853416681289673, 0.18273206055164337, 0.18273206055164337, 0.3159538805484772, 0.1579769402742386, 0.0789884701371193, 0.0789884701371193, 0.19190610945224762, 0.3153175711631775, 0.538672924041748, 0.07695327699184418, 0.07695327699184418, 0.11695723235607147, 0.23391446471214294, 0.19192981719970703, 0.19192981719970703, 0.19004350900650024, 0.15073545277118683, 0.15073545277118683, 0.33973413705825806, 0.2038404941558838, 0.06794682890176773, 0.6614379286766052, 0.050879839807748795, 0.16860465705394745, 0.011790361255407333, 0.9432289004325867, 0.7665123343467712, 0.0479070208966732, 0.14926569163799286, 0.14926569163799286, 0.17514091730117798, 0.17514091730117798, 0.16626158356666565, 0.16626158356666565, 0.4830853044986725, 0.24501579999923706, 0.12250789999961853, 0.12250789999961853, 0.11128850281238556, 0.33386552333831787, 0.15114115178585052, 0.15114115178585052, 0.16785158216953278, 0.8219870924949646, 0.21136775612831116, 0.17853747308254242, 0.5387925505638123, 0.21301186084747314, 0.21301186084747314, 0.15666402876377106, 0.15666402876377106, 0.15666402876377106, 0.19190610945224762, 0.6945109367370605, 0.18285255134105682, 0.18285255134105682, 0.013612943701446056, 0.9256802201271057, 0.07606888562440872, 0.6085510849952698, 0.5464158654212952, 0.6342462301254272, 0.5873355865478516, 0.053394146263599396, 0.053394146263599396, 0.053394146263599396, 0.2770966589450836, 0.1385483294725418, 0.1385483294725418, 0.1677061766386032, 0.19563008844852448, 0.31318509578704834, 0.10439503937959671, 0.12819276750087738, 0.12819276750087738, 0.12819276750087738, 0.25638553500175476, 0.1826140284538269, 0.963218092918396, 0.005123500246554613, 0.010247000493109226, 0.04309742525219917, 0.7757536172866821, 0.20824334025382996, 0.26487401127815247, 0.13243700563907623, 0.13243700563907623, 0.20106662809848785, 0.99266117811203, 0.0015295242192223668, 0.20478121936321259, 0.7458466291427612, 0.15353426337242126, 0.15353426337242126, 0.010424518026411533, 0.010424518026411533, 0.9486311674118042, 0.08736399561166763, 0.08736399561166763, 0.524183988571167, 0.18858382105827332, 0.18858382105827332, 0.3906368017196655, 0.05895087867975235, 0.7074105143547058, 0.08811217546463013, 0.6167852282524109, 0.14622867107391357, 0.14622867107391357, 0.34576690196990967, 0.13830675184726715, 0.06915337592363358, 0.005370750091969967, 0.9721058011054993, 0.19549009203910828, 0.1853737086057663, 0.09226121008396149, 0.5535672903060913, 0.09226121008396149, 0.9539175033569336, 0.007949312217533588, 0.19391971826553345, 0.06257488578557968, 0.06257488578557968, 0.6883237361907959, 0.16700980067253113, 0.15552885830402374, 0.19068144261837006, 0.1929113268852234, 0.498198002576828, 0.7901162505149841, 0.13622359931468964, 0.4086707830429077, 0.38529396057128906, 0.1350889354944229, 0.40526679158210754, 0.5673477649688721, 0.4164390563964844, 0.23464569449424744, 0.7449069619178772, 0.10266837477684021, 0.41067349910736084, 0.07228564471006393, 0.14457128942012787, 0.5782851576805115, 0.16382819414138794, 0.16382819414138794, 0.019452344626188278, 0.019452344626188278, 0.8948078751564026, 0.15447799861431122, 0.15447799861431122, 0.5062444806098938, 0.18135011196136475, 0.18135011196136475, 0.18676437437534332, 0.19480301439762115, 0.12624913454055786, 0.37874743342399597, 0.30348002910614014, 0.20389404892921448, 0.17949740588665009, 0.21310071647167206, 0.08588489145040512, 0.25765466690063477, 0.08588489145040512, 0.08588489145040512, 0.09604670852422714, 0.5762802362442017, 0.17831753194332123, 0.17831753194332123, 0.1322394609451294, 0.1322394609451294, 0.21287010610103607, 0.27776721119880676, 0.4629453718662262, 0.8712270259857178, 0.03064614161849022, 0.8580919504165649, 0.37640345096588135, 0.09410086274147034, 0.282302588224411, 0.19475319981575012, 0.19475319981575012, 0.18799279630184174, 0.18799279630184174, 0.1334785670042038, 0.1334785670042038, 0.2669571340084076, 0.3851836323738098, 0.21310071647167206, 0.036432672291994095, 0.036432672291994095, 0.8015187978744507, 0.13863259553909302, 0.13863259553909302, 0.21310071647167206, 0.21310071647167206, 0.42430612444877625, 0.16972245275974274, 0.5651187896728516, 0.12902814149856567, 0.12902814149856567, 0.387084424495697, 0.13654330372810364, 0.2730866074562073, 0.9723296165466309, 0.00509073119610548, 0.06969175487756729, 0.06969175487756729, 0.6272258162498474, 0.11892374604940414, 0.2378474920988083, 0.1763221025466919, 0.1763221025466919, 0.6079068779945374, 0.060790687799453735, 0.060790687799453735, 0.18932805955410004, 0.19475319981575012, 0.19475319981575012, 0.16662254929542542, 0.003976683132350445, 0.9782640337944031, 0.19866013526916504, 0.15932980179786682, 0.15932980179786682, 0.6722822785377502, 0.1552918702363968, 0.1552918702363968, 0.1552918702363968, 0.2689734697341919, 0.7259168028831482, 0.5919256210327148, 0.15433843433856964, 0.15433843433856964, 0.7811558246612549, 0.046842996031045914, 0.7963309288024902, 0.01270787138491869, 0.9276746511459351, 0.19600369036197662, 0.29400551319122314, 0.09800184518098831, 0.09800184518098831, 0.013498124666512012, 0.9313706159591675, 0.13414506614208221, 0.1564107984304428, 0.1564107984304428, 0.18660928308963776, 0.18660928308963776, 0.977371096611023, 0.0045040142722427845, 0.19433912634849548, 0.19433912634849548, 0.0008890116005204618, 0.9956929683685303, 0.17751048505306244, 0.17751048505306244, 0.18186838924884796, 0.18186838924884796, 0.10970476269721985, 0.4388190507888794, 0.18460394442081451, 0.16979116201400757, 0.16979116201400757, 0.6392412781715393, 0.1633344441652298, 0.1633344441652298, 0.19479839503765106, 0.9365594983100891, 0.007552898954600096, 0.030211595818400383, 0.9688461422920227, 0.0056990948505699635, 0.18868671357631683, 0.20335735380649567, 0.2122700810432434, 0.13345284759998322, 0.13345284759998322, 0.13345284759998322, 0.13345284759998322, 0.015523443929851055, 0.9314066767692566, 0.19563008844852448, 0.19563008844852448, 0.0957554504275322, 0.4787772595882416, 0.0957554504275322, 0.9566335082054138, 0.009662964381277561, 0.19563008844852448, 0.9749622941017151, 0.015982987359166145, 0.9496224522590637, 0.009044023230671883, 0.014413510449230671, 0.9368782043457031, 0.9270474910736084, 0.04905013367533684, 0.17510132491588593, 0.35097837448120117, 0.614212155342102, 0.007312049623578787, 0.15204483270645142, 0.15204483270645142, 0.15204483270645142, 0.9438603520393372, 0.018327385187149048, 0.17963574826717377, 0.017694950103759766, 0.9201374053955078, 0.16024257242679596, 0.16024257242679596, 0.2740500867366791, 0.13702504336833954, 0.014167802408337593, 0.9747448563575745, 0.11761865764856339, 0.11761865764856339, 0.19563008844852448, 0.5977491140365601, 0.18392279744148254, 0.19563008844852448, 0.1855037957429886, 0.1855037957429886, 0.15395992994308472, 0.15395992994308472, 0.15395992994308472, 0.22789151966571808, 0.07596383988857269, 0.07596383988857269, 0.07596383988857269, 0.07596383988857269, 0.19267086684703827, 0.017028026282787323, 0.9195134043693542, 0.1681165248155594, 0.7880462408065796, 0.19475319981575012, 0.19475319981575012, 0.18186838924884796, 0.18186838924884796, 0.14251932501792908, 0.14251932501792908, 0.11592094600200653, 0.23184189200401306, 0.19013118743896484, 0.19013118743896484, 0.9461855888366699, 0.010752108879387379, 0.010752108879387379, 0.19563008844852448, 0.21287010610103607, 0.052093084901571274, 0.6251170039176941, 0.052093084901571274, 0.9265470504760742, 0.9334319829940796, 0.6366373300552368, 0.0909481942653656, 0.9417101144790649, 0.007473889738321304, 0.014947779476642609, 0.9716942310333252, 0.00476320693269372, 0.1785161793231964, 0.1785161793231964, 0.7319270968437195, 0.8298449516296387, 0.5578999519348145, 0.5846344828605652, 0.9738437533378601, 0.004386683460325003, 0.2002280205488205, 0.2002280205488205, 0.2033012956380844, 0.42701172828674316, 0.10675293207168579, 0.0815240815281868, 0.6521926522254944, 0.9906148314476013, 0.0031102506909519434, 0.16849865019321442, 0.16849865019321442, 0.19433966279029846, 0.1785161793231964, 0.1785161793231964, 0.6594504714012146, 0.3790426552295685, 0.31586888432502747, 0.20389404892921448, 0.04971284419298172, 0.04971284419298172, 0.7456926703453064, 0.9685403108596802, 0.0062486473470926285, 0.0062486473470926285, 0.7563379406929016, 0.6284443736076355, 0.7069079279899597, 0.6349707245826721, 0.1566074639558792, 0.1566074639558792, 0.18353597819805145, 0.26192188262939453, 0.13096094131469727, 0.19563008844852448, 0.013892844319343567, 0.9586062431335449, 0.19049258530139923, 0.19479839503765106, 0.01583101414144039, 0.918198823928833, 0.06656411290168762, 0.5990769863128662, 0.15223799645900726, 0.011981196701526642, 0.9345332980155945, 0.12972718477249146, 0.12972718477249146, 0.19848263263702393, 0.19848263263702393, 0.01652877777814865, 0.9256116151809692, 0.08458087593317032, 0.08458087593317032, 0.5920661091804504, 0.21467325091362, 0.10733662545681, 0.9868303537368774, 0.004845320712774992, 0.16392621397972107, 0.16392621397972107, 0.006229311227798462, 0.965543270111084, 0.879192590713501, 0.0996655598282814, 0.18311849236488342, 0.19277423620224, 0.15185129642486572, 0.15185129642486572, 0.9780375957489014, 0.004161862190812826, 0.02188066393136978, 0.929928183555603, 0.6352207660675049, 0.9745215177536011, 0.005239362828433514, 0.629436731338501, 0.07679828256368637, 0.15359656512737274, 0.5375879406929016, 0.9840397834777832, 0.005072370171546936, 0.07732436805963516, 0.657257080078125, 0.03866218402981758, 0.17832770943641663, 0.4286717176437378, 0.08573433756828308, 0.9707924127578735, 0.00574433384463191, 0.17339830100536346, 0.17339830100536346, 0.19563008844852448, 0.17797264456748962, 0.17797264456748962, 0.15612293779850006, 0.4683688282966614, 0.07806146889925003, 0.08112449944019318, 0.08112449944019318, 0.6489959955215454, 0.3124523162841797, 0.10415077209472656, 0.10415077209472656, 0.12233427166938782, 0.24466854333877563, 0.19563008844852448, 0.0027341535314917564, 0.9842953085899353, 0.15403077006340027, 0.18488840758800507, 0.36977681517601013, 0.06162947043776512, 0.06162947043776512, 0.06162947043776512, 0.06162947043776512, 0.08058589696884155, 0.08058589696884155, 0.5641012787818909, 0.3764289319515228, 0.6217615008354187, 0.0003440849541220814, 0.09364526718854904, 0.37458106875419617, 0.09364526718854904, 0.1205998882651329, 0.2411997765302658, 0.1205998882651329, 0.19866013526916504, 0.38962599635124207, 0.23377560079097748, 0.15734827518463135, 0.15734827518463135, 0.014139232225716114, 0.9190500974655151, 0.014631107449531555, 0.9217597842216492, 0.0615667887032032, 0.0615667887032032, 0.6772347092628479, 0.002579964231699705, 0.9881263375282288, 0.19475319981575012, 0.19475319981575012, 0.19277423620224, 0.992460310459137, 0.0014321216149255633, 0.16870352625846863, 0.0074074226431548595, 0.9629648923873901, 0.19703204929828644, 0.19549009203910828, 0.9936083555221558, 0.001042611082084477, 0.18887928128242493, 0.0016554216854274273, 0.991597592830658, 0.16659234464168549, 0.16659234464168549, 0.18353597819805145, 0.6325276494026184, 0.006297624669969082, 0.9698342084884644, 0.18185147643089294, 0.18185147643089294, 0.19563008844852448, 0.9410127401351929, 0.12577590346336365, 0.12577590346336365, 0.15326225757598877, 0.15326225757598877, 0.16659341752529144, 0.16659341752529144, 0.5830827355384827, 0.19055984914302826, 0.968267560005188, 0.013143903575837612, 0.7034823894500732, 0.9782717227935791, 0.004466994199901819, 0.19475319981575012, 0.19475319981575012, 0.9397028684616089, 0.0195771437138319, 0.8612717390060425, 0.11041945219039917, 0.1763221025466919, 0.1763221025466919, 0.18478867411613464, 0.19323068857192993, 0.19323068857192993, 0.023961199447512627, 0.942473828792572, 0.1785161793231964, 0.1785161793231964, 0.163067027926445, 0.784760057926178, 0.010191689245402813, 0.12044180929660797, 0.24088361859321594, 0.015218176878988743, 0.9283087849617004, 0.19475319981575012, 0.19475319981575012, 0.0767924040555954, 0.0767924040555954, 0.6143392324447632, 0.1853737086057663, 0.5632980465888977, 0.2675630748271942, 0.6904853582382202, 0.19721007347106934, 0.9864346385002136, 0.002196958987042308, 0.19703204929828644, 0.18817098438739777, 0.18699601292610168, 0.18699601292610168, 0.8310422897338867, 0.14246438443660736, 0.176046684384346, 0.176046684384346, 0.9460987448692322, 0.02183304913341999, 0.007277682889252901, 0.014995813369750977, 0.9147446155548096, 0.9454052448272705, 0.011254824697971344, 0.13151608407497406, 0.13151608407497406, 0.13151608407497406, 0.3062535524368286, 0.4083380699157715, 0.1836676448583603, 0.3673352897167206, 0.1317451149225235, 0.263490229845047, 0.1317451149225235, 0.6317604780197144, 0.1349831372499466, 0.1349831372499466, 0.1349831372499466, 0.18186838924884796, 0.18186838924884796, 0.11795731633901596, 0.23591463267803192, 0.11795731633901596, 0.1846303790807724, 0.1846303790807724, 0.18519636988639832, 0.18519636988639832, 0.12595266103744507, 0.25190532207489014, 0.12595266103744507, 0.19071851670742035, 0.15225845575332642, 0.15225845575332642], \"Term\": [\"AMAZON\", \"AMAZON\", \"AMAZON\", \"AWESOME\", \"Always\", \"Always\", \"Amazon\", \"Amazon\", \"Apps\", \"Apps\", \"Awesome\", \"Awesome\", \"Awsm\", \"Awsm\", \"Awsm\", \"BACKUP\", \"BAD\", \"BATTERY\", \"BEST\", \"BUY\", \"BUY\", \"BUY\", \"Bad\", \"Bad\", \"Bad\", \"Bakwas\", \"Bakwas\", \"Bakwas\", \"Bakwas\", \"Batter\", \"Batter\", \"Battery\", \"Battery\", \"Bed\", \"Bed\", \"Best\", \"Best\", \"Bettary\", \"Broken\", \"Broken\", \"Bt\", \"Bt\", \"Budget\", \"Budget\", \"Buying\", \"Buying\", \"CALL\", \"CAMERA\", \"CHARGING\", \"Camera\", \"Camera\", \"Cemara\", \"Cemara\", \"Charge\", \"Charge\", \"Charge\", \"Charge\", \"Circle\", \"Clarity\", \"Company\", \"Company\", \"Company\", \"Cool\", \"Cool\", \"Courier\", \"Courier\", \"Coz\", \"Decacore\", \"Decacore\", \"Delivery\", \"Delivery\", \"Delivery\", \"Device\", \"Device\", \"Dnt\", \"Dolby\", \"Dolby\", \"Dont\", \"Dont\", \"Drain\", \"Drain\", \"Draining\", \"Draining\", \"Duplicate\", \"Duplicate\", \"EXCELLENT\", \"Ear\", \"Ear\", \"Ear\", \"Earphone\", \"Earphone\", \"Earphones\", \"Earphones\", \"Ever\", \"Excellent\", \"Expectation\", \"Expectations\", \"FEATURES\", \"Fine\", \"Fine\", \"Friend\", \"Friend\", \"Friend\", \"Friendly\", \"GOOD\", \"Get\", \"Get\", \"Great\", \"Great\", \"Gud\", \"Gud\", \"HEATING\", \"Hai\", \"Handset\", \"Handset\", \"Handset\", \"Handset\", \"Hang\", \"Hang\", \"Hang\", \"Head\", \"HeadphoneEarphone\", \"Headset\", \"Headset\", \"Heats\", \"Heats\", \"Heats\", \"Heats\", \"Jhakas\", \"K8\", \"K8\", \"K8\", \"LENOVO\", \"LENOVO\", \"Lack\", \"Lags\", \"Lags\", \"Lags\", \"Latest\", \"Lenovo\", \"Lenovo\", \"Loving\", \"MOBILE\", \"Major\", \"Major\", \"Mobile\", \"Mobile\", \"Mobile\", \"Money\", \"Money\", \"Money\", \"Multiple\", \"Multiple\", \"NICE\", \"NOTE\", \"NOTE\", \"NT\", \"NT\", \"NYC\", \"NYC\", \"Need\", \"Need\", \"Need\", \"Nice\", \"Nice\", \"Nicly\", \"Nogat\", \"Normal\", \"Normal\", \"Normal\", \"Note\", \"Note\", \"Nyz\", \"Ok\", \"Ok\", \"Ok\", \"Old\", \"Osm\", \"Overally\", \"PCs\", \"PERFORMANCE\", \"PHONE\", \"PLEASE\", \"PLEASE\", \"POOR\", \"PROBLEM\", \"PROBLEM\", \"PRODUCT\", \"PROPERLY\", \"Phone\", \"Phone\", \"Photos\", \"Photos\", \"Price\", \"Price\", \"Price\", \"Problems\", \"Problems\", \"Product\", \"Product\", \"Product\", \"Products\", \"Products\", \"QUALITY\", \"Response\", \"Response\", \"Rohini\", \"Rs11k\", \"SCREEN\", \"SCREEN\", \"Sctrach\", \"Sell\", \"Seller\", \"SeriesNot\", \"Simply\", \"Simply\", \"Simply\", \"Simply\", \"Sir\", \"Sir\", \"Slow\", \"Slow\", \"Smartphone\", \"Smartphone\", \"Someone\", \"Speaker\", \"Speaker\", \"Super\", \"Superb\", \"Superb\", \"U\", \"U\", \"U\", \"UI2\", \"UI2\", \"Use\", \"Use\", \"User\", \"User\", \"User\", \"V\", \"VOLTECamera\", \"Value\", \"Value\", \"Value\", \"Vary\", \"Vary\", \"VibeBut\", \"VibeI\", \"Voice\", \"Voice\", \"WORKING\", \"WORST\", \"WORST\", \"WORST\", \"Working\", \"Working\", \"Worst\", \"Worst\", \"Worth\", \"Worth\", \"Worth\", \"Wow\", \"Wow\", \"ZenFone\", \"ZenFone\", \"amount\", \"amount\", \"amount\", \"aperture\", \"apps5\", \"apps5\", \"awsome\", \"backup\", \"backup\", \"backupMobile\", \"badcamera\", \"badcamera\", \"bahut\", \"band\", \"band\", \"band\", \"battery\", \"battery\", \"bekar\", \"betry\", \"betry\", \"bhi\", \"bill\", \"bill\", \"bit\", \"bit\", \"bt\", \"bt\", \"bt\", \"bt\", \"budget\", \"budget\", \"buget\", \"built\", \"built\", \"buyback\", \"buyback\", \"call\", \"call\", \"calrity\", \"calrity\", \"camera\", \"camera\", \"cameraOverall\", \"cameraOverall\", \"camera\\ud83d\\ude0d\\ud83d\\ude0d\", \"camera\\ud83d\\ude0d\\ud83d\\ude0d\", \"camra\", \"camra\", \"caneea\", \"cardboard\", \"cardboard\", \"cash\", \"cashback\", \"cashback\", \"cemeraTurbo\", \"charge\", \"charge\", \"charge\", \"charger\", \"charger\", \"chargerIt\", \"chargingGood\", \"chargingTurbo\", \"china\", \"china\", \"china\", \"china\", \"clarity\", \"clarity\", \"clarity4\", \"con5\", \"cool\", \"cool\", \"cool\", \"customer\", \"customer\", \"darkPro1\", \"day\", \"day\", \"delivery\", \"delivery\", \"depth\", \"depth\", \"device\", \"device\", \"dis\", \"display\", \"display\", \"display\", \"dnt\", \"dnt\", \"dnt\", \"drain\", \"drain\", \"earliest\", \"effect\", \"effect\", \"fancy\", \"fancy\", \"faster\", \"faster\", \"feature\", \"feature\", \"features\", \"features\", \"filter\", \"fine\", \"fine\", \"firstCons\", \"five\", \"five\", \"flashlight\", \"flashlight\", \"flashlight\", \"fone\", \"fone\", \"fone\", \"fone\", \"fone\", \"food\", \"front\", \"front\", \"game\", \"game\", \"gamer3Sound\", \"gamer3Sound\", \"gamesperformance\", \"gamesperformance\", \"gd\", \"gd\", \"gift\", \"gift\", \"gimmickOtherwise\", \"gimmickOtherwise\", \"glass\", \"glass\", \"glass\", \"good3\", \"government\", \"gud\", \"gud\", \"gud\", \"h\", \"hai\", \"headset\", \"headset\", \"heat\", \"heat\", \"heat\", \"heating\", \"heating\", \"heatingplz\", \"heatingplz\", \"hi\", \"ho\", \"hone\", \"hota\", \"hour\", \"hour\", \"hours\", \"hours\", \"hoursno\", \"iam\", \"iam\", \"invoice\", \"invoice\", \"issue\", \"issue\", \"issues\", \"issues\", \"itEkdum\", \"itlenovo\", \"itlenovo\", \"jata\", \"job\", \"job\", \"jump\", \"k\", \"k\", \"k\", \"k8\", \"k8\", \"k8\", \"ka\", \"ke\", \"ki\", \"ko\", \"lagging\", \"lagging\", \"lennvo\", \"lenova\", \"lenova\", \"less6\", \"life\", \"life\", \"lifeExcellent\", \"lifeHighspeed\", \"look\", \"look\", \"love\", \"love\", \"man\", \"mark\", \"mark\", \"material\", \"material\", \"membership\", \"membership\", \"memory\", \"memory\", \"mob\", \"mob\", \"mob\", \"mobil\", \"mobil\", \"mobile\", \"mobile\", \"mobilePlease\", \"mobilePlease\", \"mode\", \"mode\", \"money\", \"money\", \"moneyCamera\", \"moneybeats\", \"moneycamera\", \"moneycamera\", \"month\", \"month\", \"music\", \"music\", \"nahi\", \"network\", \"network\", \"nhi\", \"nice\", \"nice\", \"nice\", \"note\", \"note\", \"ok\", \"ok\", \"ok\", \"onoff\", \"operating\", \"operating\", \"option\", \"option\", \"outdoors\", \"outdoors\", \"output2\", \"pH\", \"pH\", \"packing\", \"packing\", \"packing\", \"par\", \"par\", \"par\", \"pc\", \"pc\", \"pc\", \"penny\", \"penny\", \"perfectlyVerdictFine\", \"performance\", \"performance\", \"performence\", \"phn\", \"phn\", \"phn\", \"phn\", \"phn\", \"phn\", \"phon\", \"phon\", \"phon\", \"phone\", \"phone\", \"phone\", \"phoneBut\", \"phoneBut\", \"phoneBut\", \"phoneCamera\", \"phoneCamera\", \"phoneCamera\", \"phoneGud\", \"phoneI\", \"phoneI\", \"phoneand\", \"phoneand\", \"photo\", \"photo\", \"picture\", \"picture\", \"plz\", \"plz\", \"plz\", \"price\", \"price\", \"price1\", \"price1\", \"priceoverall\", \"problem\", \"problem\", \"problemi\", \"processor\", \"processor\", \"prod\", \"producr\", \"product\", \"product\", \"qaulity\", \"quality\", \"quality\", \"qualityit\", \"qualityit\", \"quickly\", \"raha\", \"range\", \"range\", \"rangeTurbo\", \"rangeTurbo\", \"readings2\", \"replacement\", \"requirement\", \"requirement\", \"resistance\", \"resistance\", \"respect\", \"respect\", \"rha\", \"safety\", \"screen\", \"screen\", \"se\", \"service\", \"service\", \"show4\", \"show4\", \"sim\", \"sim\", \"software\", \"software\", \"sometimeOtherwise\", \"sometimeOtherwise\", \"sometimes\", \"sometimesOtherwise\", \"sometimesOtherwise\", \"sound\", \"sound\", \"soundand\", \"soundand\", \"speed\", \"speed\", \"speed\", \"spent\", \"spent\", \"stock\", \"stock\", \"sturdy7\", \"sturdy7\", \"super\", \"super\", \"super\", \"systemPerformance\", \"tha\", \"thing\", \"thing\", \"thiswell\", \"time\", \"time\", \"touchJio\", \"tq\", \"tracking\", \"tracking\", \"update\", \"update\", \"updates\", \"updates\", \"use\", \"use\", \"use\", \"value\", \"value\", \"waste\", \"waste\", \"wire\", \"wire\", \"wire\", \"word\", \"word\", \"world\", \"world\", \"x20\", \"x20\", \"x20\", \"ye\", \"\\ud83d\\udc4c\", \"\\ud83d\\udc4c\", \"\\ud83d\\udc4c\", \"\\ud83d\\udc4c\\ud83d\\udc4cphoto\", \"\\ud83d\\udc4c\\ud83d\\udc4cphoto\", \"\\ud83d\\udc4d\", \"\\ud83d\\udc4d\", \"\\ud83d\\udc4d\", \"\\ud83d\\udc4d\\ud83d\\udc4d\", \"\\ud83d\\udc4d\\ud83d\\udc4d\", \"\\ud83d\\udc4e\", \"\\ud83d\\udc4e\", \"\\ud83d\\udcf7\", \"\\ud83d\\udcf7\", \"\\ud83d\\udcf7\", \"\\ud83d\\ude00\", \"\\ud83d\\ude0e\", \"\\ud83d\\ude0e\"]}, \"R\": 30, \"lambda.step\": 0.01, \"plot.opts\": {\"xlab\": \"PC1\", \"ylab\": \"PC2\"}, \"topic.order\": [3, 17, 15, 18, 5, 8, 1, 7, 10, 13, 4, 9, 6, 14, 2, 11, 16, 12]};\n",
       "\n",
       "function LDAvis_load_lib(url, callback){\n",
       "  var s = document.createElement('script');\n",
       "  s.src = url;\n",
       "  s.async = true;\n",
       "  s.onreadystatechange = s.onload = callback;\n",
       "  s.onerror = function(){console.warn(\"failed to load library \" + url);};\n",
       "  document.getElementsByTagName(\"head\")[0].appendChild(s);\n",
       "}\n",
       "\n",
       "if(typeof(LDAvis) !== \"undefined\"){\n",
       "   // already loaded: just create the visualization\n",
       "   !function(LDAvis){\n",
       "       new LDAvis(\"#\" + \"ldavis_el2812415636165993683928387701\", ldavis_el2812415636165993683928387701_data);\n",
       "   }(LDAvis);\n",
       "}else if(typeof define === \"function\" && define.amd){\n",
       "   // require.js is available: use it to load d3/LDAvis\n",
       "   require.config({paths: {d3: \"https://cdnjs.cloudflare.com/ajax/libs/d3/3.5.5/d3.min\"}});\n",
       "   require([\"d3\"], function(d3){\n",
       "      window.d3 = d3;\n",
       "      LDAvis_load_lib(\"https://cdn.rawgit.com/bmabey/pyLDAvis/files/ldavis.v1.0.0.js\", function(){\n",
       "        new LDAvis(\"#\" + \"ldavis_el2812415636165993683928387701\", ldavis_el2812415636165993683928387701_data);\n",
       "      });\n",
       "    });\n",
       "}else{\n",
       "    // require.js not available: dynamically load d3 & LDAvis\n",
       "    LDAvis_load_lib(\"https://cdnjs.cloudflare.com/ajax/libs/d3/3.5.5/d3.min.js\", function(){\n",
       "         LDAvis_load_lib(\"https://cdn.rawgit.com/bmabey/pyLDAvis/files/ldavis.v1.0.0.js\", function(){\n",
       "                 new LDAvis(\"#\" + \"ldavis_el2812415636165993683928387701\", ldavis_el2812415636165993683928387701_data);\n",
       "            })\n",
       "         });\n",
       "}\n",
       "</script>"
      ],
      "text/plain": [
       "PreparedData(topic_coordinates=              x         y  topics  cluster       Freq\n",
       "topic                                                \n",
       "2     -0.248629  0.146826       1        1  27.001623\n",
       "16    -0.196675 -0.180065       2        1  21.224901\n",
       "14     0.045089  0.008589       3        1   4.872246\n",
       "17     0.036998  0.004213       4        1   4.146358\n",
       "4      0.030813  0.002521       5        1   3.299637\n",
       "7      0.035211  0.002311       6        1   3.208125\n",
       "0      0.028296  0.001626       7        1   3.140481\n",
       "6      0.025772  0.001463       8        1   3.066473\n",
       "9      0.025701  0.001424       9        1   3.026400\n",
       "12     0.025311  0.001366      10        1   3.015171\n",
       "3      0.024524  0.001241      11        1   3.009662\n",
       "8      0.024288  0.001229      12        1   3.008845\n",
       "5      0.023883  0.001209      13        1   2.996707\n",
       "13     0.023884  0.001209      14        1   2.996691\n",
       "1      0.023884  0.001209      15        1   2.996691\n",
       "10     0.023883  0.001209      16        1   2.996677\n",
       "15     0.023883  0.001209      17        1   2.996668\n",
       "11     0.023883  0.001209      18        1   2.996644, topic_info=          Term         Freq        Total Category  logprob  loglift\n",
       "21       phone  2906.000000  2906.000000  Default  30.0000  30.0000\n",
       "64      camera  1124.000000  1124.000000  Default  29.0000  29.0000\n",
       "56     product   959.000000   959.000000  Default  28.0000  28.0000\n",
       "111    quality   604.000000   604.000000  Default  27.0000  27.0000\n",
       "8      battery   962.000000   962.000000  Default  26.0000  26.0000\n",
       "...        ...          ...          ...      ...      ...      ...\n",
       "353   Delivery     0.347888    14.717390  Topic18  -8.9971  -0.2372\n",
       "2623      word     0.350983    19.591610  Topic18  -8.9882  -0.5144\n",
       "376         ok     0.351643    25.865068  Topic18  -8.9863  -0.7904\n",
       "2161   Speaker     0.344564    21.600821  Topic18  -9.0067  -0.6305\n",
       "900     Device     0.338979    19.654150  Topic18  -9.0230  -0.5524\n",
       "\n",
       "[1094 rows x 6 columns], token_table=      Topic      Freq     Term\n",
       "term                          \n",
       "1160      1  0.119905   AMAZON\n",
       "1160      2  0.059952   AMAZON\n",
       "1160      4  0.659476   AMAZON\n",
       "1199      4  0.406623  AWESOME\n",
       "1509      1  0.267642   Always\n",
       "...     ...       ...      ...\n",
       "4333      2  0.251905        📷\n",
       "4333      6  0.125953        📷\n",
       "7065      1  0.190719        😀\n",
       "8444      1  0.152258        😎\n",
       "8444      9  0.152258        😎\n",
       "\n",
       "[683 rows x 3 columns], R=30, lambda_step=0.01, plot_opts={'xlab': 'PC1', 'ylab': 'PC2'}, topic_order=[3, 17, 15, 18, 5, 8, 1, 7, 10, 13, 4, 9, 6, 14, 2, 11, 16, 12])"
      ]
     },
     "execution_count": 100,
     "metadata": {},
     "output_type": "execute_result"
    }
   ],
   "source": [
    "import pyLDAvis.gensim\n",
    "import pickle\n",
    "import pyLDAvis\n",
    "pyLDAvis.enable_notebook()\n",
    "LDAvis_prepared=pyLDAvis.gensim.prepare(lda_model,corpus_sets[0],dictionary)\n",
    "LDAvis_prepared"
   ]
  },
  {
   "cell_type": "code",
   "execution_count": 102,
   "metadata": {},
   "outputs": [
    {
     "name": "stdout",
     "output_type": "stream",
     "text": [
      "Topics : 0 \n",
      " Words : 0.016*\"Product\" + 0.009*\"Superb\" + 0.003*\"Price\" + 0.000*\"👍\" + 0.000*\"👌\" + 0.000*\"flashlight\" + 0.000*\"wire\" + 0.000*\"Simply\" + 0.000*\"Device\" + 0.000*\"phoneBut\" \n",
      "\n",
      "\n",
      "Topics : 1 \n",
      " Words : 0.000*\"fone\" + 0.000*\"Simply\" + 0.000*\"Need\" + 0.000*\"Awsm\" + 0.000*\"mobil\" + 0.000*\"Charge\" + 0.000*\"Handset\" + 0.000*\"features\" + 0.000*\"Cool\" + 0.000*\"Fine\" \n",
      "\n",
      "\n",
      "Topics : 2 \n",
      " Words : 0.043*\"phone\" + 0.038*\"product\" + 0.027*\"problem\" + 0.026*\"Lenovo\" + 0.025*\"issue\" + 0.024*\"mobile\" + 0.018*\"time\" + 0.017*\"day\" + 0.015*\"note\" + 0.011*\"Amazon\" \n",
      "\n",
      "\n",
      "Topics : 3 \n",
      " Words : 0.004*\"Ok\" + 0.000*\"Drain\" + 0.000*\"fone\" + 0.000*\"Simply\" + 0.000*\"Need\" + 0.000*\"Expectations\" + 0.000*\"Awsm\" + 0.000*\"mobil\" + 0.000*\"Charge\" + 0.000*\"Handset\" \n",
      "\n",
      "\n",
      "Topics : 4 \n",
      " Words : 0.029*\"Mobile\" + 0.010*\"Bad\" + 0.003*\"plz\" + 0.001*\"User\" + 0.000*\"dnt\" + 0.000*\"dis\" + 0.000*\"Friend\" + 0.000*\"Draining\" + 0.000*\"Bakwas\" + 0.000*\"china\" \n",
      "\n",
      "\n",
      "Topics : 5 \n",
      " Words : 0.000*\"fone\" + 0.000*\"Simply\" + 0.000*\"Need\" + 0.000*\"Awsm\" + 0.000*\"mobil\" + 0.000*\"Charge\" + 0.000*\"Handset\" + 0.000*\"features\" + 0.000*\"Cool\" + 0.000*\"Fine\" \n",
      "\n",
      "\n",
      "Topics : 6 \n",
      " Words : 0.008*\"Value\" + 0.003*\"Gud\" + 0.002*\"Money\" + 0.000*\"fone\" + 0.000*\"Delivery\" + 0.000*\"Lags\" + 0.000*\"money\" + 0.000*\"features\" + 0.000*\"Delay\" + 0.000*\"camra\" \n",
      "\n",
      "\n",
      "Topics : 7 \n",
      " Words : 0.060*\"Nice\" + 0.003*\"super\" + 0.002*\"nice\" + 0.001*\"Heats\" + 0.000*\"phn\" + 0.000*\"Handset\" + 0.000*\"📷\" + 0.000*\"gimmickOtherwise\" + 0.000*\"cool\" + 0.000*\"Cemara\" \n",
      "\n",
      "\n",
      "Topics : 8 \n",
      " Words : 0.003*\"Worth\" + 0.000*\"Charge\" + 0.000*\"fone\" + 0.000*\"amount\" + 0.000*\"Simply\" + 0.000*\"Need\" + 0.000*\"Awsm\" + 0.000*\"mobil\" + 0.000*\"Handset\" + 0.000*\"features\" \n",
      "\n",
      "\n",
      "Topics : 9 \n",
      " Words : 0.010*\"Super\" + 0.000*\"fone\" + 0.000*\"packing\" + 0.000*\"😎\" + 0.000*\"built\" + 0.000*\"Simply\" + 0.000*\"Need\" + 0.000*\"amount\" + 0.000*\"fine\" + 0.000*\"safety\" \n",
      "\n",
      "\n",
      "Topics : 10 \n",
      " Words : 0.000*\"fone\" + 0.000*\"Simply\" + 0.000*\"Need\" + 0.000*\"Awsm\" + 0.000*\"mobil\" + 0.000*\"Charge\" + 0.000*\"Handset\" + 0.000*\"features\" + 0.000*\"Cool\" + 0.000*\"Fine\" \n",
      "\n",
      "\n",
      "Topics : 11 \n",
      " Words : 0.000*\"fone\" + 0.000*\"Simply\" + 0.000*\"Need\" + 0.000*\"Awsm\" + 0.000*\"mobil\" + 0.000*\"Charge\" + 0.000*\"Handset\" + 0.000*\"features\" + 0.000*\"Cool\" + 0.000*\"Fine\" \n",
      "\n",
      "\n",
      "Topics : 12 \n",
      " Words : 0.008*\"Excellent\" + 0.000*\"respect\" + 0.000*\"fone\" + 0.000*\"Fine\" + 0.000*\"Simply\" + 0.000*\"Need\" + 0.000*\"😎\" + 0.000*\"Smartphone\" + 0.000*\"spent\" + 0.000*\"Awsm\" \n",
      "\n",
      "\n",
      "Topics : 13 \n",
      " Words : 0.000*\"fone\" + 0.000*\"Simply\" + 0.000*\"Need\" + 0.000*\"Awsm\" + 0.000*\"mobil\" + 0.000*\"Charge\" + 0.000*\"Handset\" + 0.000*\"features\" + 0.000*\"Cool\" + 0.000*\"Fine\" \n",
      "\n",
      "\n",
      "Topics : 14 \n",
      " Words : 0.012*\"h\" + 0.012*\"hai\" + 0.005*\"ho\" + 0.004*\"bill\" + 0.004*\"bhi\" + 0.003*\"k\" + 0.003*\"ka\" + 0.002*\"hi\" + 0.002*\"ki\" + 0.002*\"se\" \n",
      "\n",
      "\n",
      "Topics : 15 \n",
      " Words : 0.000*\"fone\" + 0.000*\"Simply\" + 0.000*\"Need\" + 0.000*\"Awsm\" + 0.000*\"mobil\" + 0.000*\"Charge\" + 0.000*\"Handset\" + 0.000*\"features\" + 0.000*\"Cool\" + 0.000*\"Fine\" \n",
      "\n",
      "\n",
      "Topics : 16 \n",
      " Words : 0.091*\"phone\" + 0.056*\"camera\" + 0.035*\"battery\" + 0.030*\"quality\" + 0.019*\"price\" + 0.018*\"performance\" + 0.017*\"feature\" + 0.016*\"Camera\" + 0.016*\"Battery\" + 0.012*\"backup\" \n",
      "\n",
      "\n",
      "Topics : 17 \n",
      " Words : 0.005*\"PHONE\" + 0.005*\"LENOVO\" + 0.003*\"MOBILE\" + 0.003*\"BATTERY\" + 0.003*\"NOTE\" + 0.003*\"AMAZON\" + 0.002*\"GOOD\" + 0.002*\"CAMERA\" + 0.002*\"BUY\" + 0.002*\"NT\" \n",
      "\n",
      "\n"
     ]
    }
   ],
   "source": [
    "for idx,topic in lda_model.print_topics(-1):\n",
    "    print(\"Topics : {} \\n Words : {} \".format(idx,topic))\n",
    "    print(\"\\n\")"
   ]
  },
  {
   "cell_type": "code",
   "execution_count": null,
   "metadata": {},
   "outputs": [],
   "source": []
  },
  {
   "cell_type": "code",
   "execution_count": null,
   "metadata": {},
   "outputs": [],
   "source": []
  }
 ],
 "metadata": {
  "kernelspec": {
   "display_name": "Python 3",
   "language": "python",
   "name": "python3"
  },
  "language_info": {
   "codemirror_mode": {
    "name": "ipython",
    "version": 3
   },
   "file_extension": ".py",
   "mimetype": "text/x-python",
   "name": "python",
   "nbconvert_exporter": "python",
   "pygments_lexer": "ipython3",
   "version": "3.7.6"
  }
 },
 "nbformat": 4,
 "nbformat_minor": 4
}
